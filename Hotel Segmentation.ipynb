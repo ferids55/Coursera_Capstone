{
    "cells": [
        {
            "metadata": {},
            "cell_type": "markdown",
            "source": "# How to Choose Your Hotel?"
        },
        {
            "metadata": {},
            "cell_type": "markdown",
            "source": "## Introduction Problem"
        },
        {
            "metadata": {},
            "cell_type": "markdown",
            "source": "Graduation is the dream of all parents to their children who have completed their studies. Sometimes many parents come all the way to attend the graduation process of their child. **Usually those from out of town will stay at the closest hotel to the university before coming to the graduation ceremony so as not to be late and save time. Interesting places around the hotel can also attract people to stay**. \n\nTo determine the recommended hotel, we can use the clustering technique to divide the nearest hotel group into several segments or groups. The data used is the hotel data closest to the Indonesian Computer University (UNIKOM) and the places around the hotel which were taken using the FourSquare API. Furthermore, they will be grouped into several segments using the K-means algorithm to determine the right hotel choice."
        },
        {
            "metadata": {},
            "cell_type": "markdown",
            "source": "## Data"
        },
        {
            "metadata": {},
            "cell_type": "markdown",
            "source": "Based on definition of our problem, we need data about:\n- Hotels around the Indonesian Computer University with radius 500 meter.\n- Places near the hotel with coordinate location. \n\nThe data is retrieved using the **Fousquare API**"
        },
        {
            "metadata": {},
            "cell_type": "markdown",
            "source": "## Methodology"
        },
        {
            "metadata": {},
            "cell_type": "markdown",
            "source": "### Import Necessary Library"
        },
        {
            "metadata": {},
            "cell_type": "code",
            "source": "# load necessary library\nimport numpy as np\nimport pandas as pd\npd.set_option('display.max_columns', None)\npd.set_option('display.max_rows', None)\n\nimport requests\nimport json\nfrom geopy.geocoders import Nominatim\n\nimport matplotlib.cm as cm\nimport matplotlib.colors as colors\nimport plotly.express as px\nfrom sklearn.cluster import KMeans\n\n!pip install folium #uncomment if you already installed folium\nimport folium",
            "execution_count": 1,
            "outputs": [
                {
                    "output_type": "stream",
                    "text": "/opt/conda/envs/Python-3.7-main/lib/python3.7/site-packages/secretstorage/dhcrypto.py:16: CryptographyDeprecationWarning: int_from_bytes is deprecated, use int.from_bytes instead\n  from cryptography.utils import int_from_bytes\n/opt/conda/envs/Python-3.7-main/lib/python3.7/site-packages/secretstorage/util.py:25: CryptographyDeprecationWarning: int_from_bytes is deprecated, use int.from_bytes instead\n  from cryptography.utils import int_from_bytes\nCollecting folium\n  Downloading folium-0.12.1-py2.py3-none-any.whl (94 kB)\n\u001b[K     |\u2588\u2588\u2588\u2588\u2588\u2588\u2588\u2588\u2588\u2588\u2588\u2588\u2588\u2588\u2588\u2588\u2588\u2588\u2588\u2588\u2588\u2588\u2588\u2588\u2588\u2588\u2588\u2588\u2588\u2588\u2588\u2588| 94 kB 6.4 MB/s  eta 0:00:01\n\u001b[?25hCollecting branca>=0.3.0\n  Downloading branca-0.4.2-py3-none-any.whl (24 kB)\nRequirement already satisfied: jinja2>=2.9 in /opt/conda/envs/Python-3.7-main/lib/python3.7/site-packages (from folium) (2.11.2)\nRequirement already satisfied: requests in /opt/conda/envs/Python-3.7-main/lib/python3.7/site-packages (from folium) (2.24.0)\nRequirement already satisfied: numpy in /opt/conda/envs/Python-3.7-main/lib/python3.7/site-packages (from folium) (1.18.5)\nRequirement already satisfied: MarkupSafe>=0.23 in /opt/conda/envs/Python-3.7-main/lib/python3.7/site-packages (from jinja2>=2.9->folium) (1.1.1)\nRequirement already satisfied: urllib3!=1.25.0,!=1.25.1,<1.26,>=1.21.1 in /opt/conda/envs/Python-3.7-main/lib/python3.7/site-packages (from requests->folium) (1.25.9)\nRequirement already satisfied: idna<3,>=2.5 in /opt/conda/envs/Python-3.7-main/lib/python3.7/site-packages (from requests->folium) (2.9)\nRequirement already satisfied: chardet<4,>=3.0.2 in /opt/conda/envs/Python-3.7-main/lib/python3.7/site-packages (from requests->folium) (3.0.4)\nRequirement already satisfied: certifi>=2017.4.17 in /opt/conda/envs/Python-3.7-main/lib/python3.7/site-packages (from requests->folium) (2020.12.5)\nInstalling collected packages: branca, folium\nSuccessfully installed branca-0.4.2 folium-0.12.1\n",
                    "name": "stdout"
                }
            ]
        },
        {
            "metadata": {},
            "cell_type": "markdown",
            "source": "### Get access to Foursquare API"
        },
        {
            "metadata": {},
            "cell_type": "code",
            "source": "CLIENT_ID = 'XXXXXXXXXXXXXXXXXXXXXXXXXXXXXXXXXXXXXXXXXXXXXX' # your Foursquare ID\nCLIENT_SECRET = 'XXXXXXXXXXXXXXXXXXXXXXXXXXXXXXXXXXXXXXXXXXXXXX' # your Foursquare Secret\nACCESS_TOKEN = 'XXXXXXXXXXXXXXXXXXXXXXXXXXXXXXXXXXXXXXXXXXXXXX' # your Foursquare access token\nVERSION = '20210101' # Foursquare API version\nLIMIT = 50 # A default Foursquare API limit value\n\nprint('Your credentails:')\nprint('CLIENT_ID: ' + CLIENT_ID)\nprint('CLIENT_SECRET:' + CLIENT_SECRET)",
            "execution_count": null,
            "outputs": []
        },
        {
            "metadata": {},
            "cell_type": "markdown",
            "source": "### Define Location"
        },
        {
            "metadata": {},
            "cell_type": "code",
            "source": "address = 'Universitas Komputer Indonesia, Jawa Barat, Indonesia'\n\ngeolocator = Nominatim(user_agent=\"foursquare_agent\")\nlocation = geolocator.geocode(address)\nlatitude = location.latitude\nlongitude = location.longitude\nprint(latitude, longitude)",
            "execution_count": 3,
            "outputs": [
                {
                    "output_type": "stream",
                    "text": "-6.8868408 107.6151136\n",
                    "name": "stdout"
                }
            ]
        },
        {
            "metadata": {},
            "cell_type": "markdown",
            "source": "### 1. Search Hotel around with radius 500m"
        },
        {
            "metadata": {},
            "cell_type": "code",
            "source": "search_key = 'hotel'\nradius = 500\nurl_key = 'https://api.foursquare.com/v2/venues/search?client_id={}&client_secret={}&ll={},{}&oauth_token={}&v={}&query={}&radius={}&limit={}'.format(\n    CLIENT_ID, CLIENT_SECRET, latitude, longitude,\n    ACCESS_TOKEN, VERSION, search_key, radius, LIMIT)\n# get hotels data in json file format\nresults = requests.get(url_key).json()\nhotels = results['response']['venues']\n\n# tranform json file into a dataframe\ndf_hotel = pd.json_normalize(hotels)\ndf_hotel.head()",
            "execution_count": 4,
            "outputs": [
                {
                    "output_type": "execute_result",
                    "execution_count": 4,
                    "data": {
                        "text/plain": "                         id                  name  \\\n0  4c72303f9e706dcbf3374a62  Hotel Neo Dipatiukur   \n1  515e6be5e4b0c134437ee63a      Patra Jasa Hotel   \n2  4bb73d162f70c9b68e668630    Scarlet Dago Hotel   \n3  4be81e5dd837c9b6efe4a406      Royal Dago Hotel   \n4  4dfef268483b8f033b425a03   Hotel Puspa Kencana   \n\n                                          categories    referralId  hasPerk  \\\n0  [{'id': '4bf58dd8d48988d1fa931735', 'name': 'H...  v-1619135482    False   \n1  [{'id': '4bf58dd8d48988d1fa931735', 'name': 'H...  v-1619135482    False   \n2  [{'id': '4bf58dd8d48988d1fa931735', 'name': 'H...  v-1619135482    False   \n3  [{'id': '4bf58dd8d48988d1fa931735', 'name': 'H...  v-1619135482    False   \n4  [{'id': '4bf58dd8d48988d1fa931735', 'name': 'H...  v-1619135482    False   \n\n                 location.address  location.lat  location.lng  \\\n0        Jl. Dipatiukur No. 72-74     -6.889919    107.616451   \n1        Jl. Ir. H. Juanda No.132     -6.889154    107.614085   \n2           Jalan Siliwangi No. 5     -6.885105    107.612117   \n3  Jl. Ir. H. Djuanda No. 156-169     -6.886584    107.613328   \n4            Jl. Siliwangi no. 10     -6.884576    107.612229   \n\n                             location.labeledLatLngs  location.distance  \\\n0  [{'label': 'display', 'lat': -6.88991914858835...                373   \n1  [{'label': 'display', 'lat': -6.88915357376354...                281   \n2  [{'label': 'display', 'lat': -6.88510543232216...                383   \n3  [{'label': 'display', 'lat': -6.88658352860527...                199   \n4  [{'label': 'display', 'lat': -6.8845756140164,...                406   \n\n  location.postalCode location.cc location.city location.state  \\\n0               40132          ID       Bandung     Jawa Barat   \n1               40132          ID       Bandung     Jawa Barat   \n2               40131          ID       Bandung     Jawa Barat   \n3                 NaN          ID       Bandung     Jawa Barat   \n4                 NaN          ID       Bandung     Jawa Barat   \n\n  location.country                          location.formattedAddress  \\\n0        Indonesia  [Jl. Dipatiukur No. 72-74, Bandung, Jawa Barat...   \n1        Indonesia  [Jl. Ir. H. Juanda No.132 (Jl. Ir. H. Juanda N...   \n2        Indonesia  [Jalan Siliwangi No. 5 (Dago), Bandung, Jawa B...   \n3        Indonesia  [Jl. Ir. H. Djuanda No. 156-169, Bandung, Jawa...   \n4        Indonesia        [Jl. Siliwangi no. 10, Bandung, Jawa Barat]   \n\n  venuePage.id       location.crossStreet  \n0    133925097                        NaN  \n1          NaN  Jl. Ir. H. Juanda No. 132  \n2          NaN                       Dago  \n3          NaN                        NaN  \n4          NaN                        NaN  ",
                        "text/html": "<div>\n<style scoped>\n    .dataframe tbody tr th:only-of-type {\n        vertical-align: middle;\n    }\n\n    .dataframe tbody tr th {\n        vertical-align: top;\n    }\n\n    .dataframe thead th {\n        text-align: right;\n    }\n</style>\n<table border=\"1\" class=\"dataframe\">\n  <thead>\n    <tr style=\"text-align: right;\">\n      <th></th>\n      <th>id</th>\n      <th>name</th>\n      <th>categories</th>\n      <th>referralId</th>\n      <th>hasPerk</th>\n      <th>location.address</th>\n      <th>location.lat</th>\n      <th>location.lng</th>\n      <th>location.labeledLatLngs</th>\n      <th>location.distance</th>\n      <th>location.postalCode</th>\n      <th>location.cc</th>\n      <th>location.city</th>\n      <th>location.state</th>\n      <th>location.country</th>\n      <th>location.formattedAddress</th>\n      <th>venuePage.id</th>\n      <th>location.crossStreet</th>\n    </tr>\n  </thead>\n  <tbody>\n    <tr>\n      <th>0</th>\n      <td>4c72303f9e706dcbf3374a62</td>\n      <td>Hotel Neo Dipatiukur</td>\n      <td>[{'id': '4bf58dd8d48988d1fa931735', 'name': 'H...</td>\n      <td>v-1619135482</td>\n      <td>False</td>\n      <td>Jl. Dipatiukur No. 72-74</td>\n      <td>-6.889919</td>\n      <td>107.616451</td>\n      <td>[{'label': 'display', 'lat': -6.88991914858835...</td>\n      <td>373</td>\n      <td>40132</td>\n      <td>ID</td>\n      <td>Bandung</td>\n      <td>Jawa Barat</td>\n      <td>Indonesia</td>\n      <td>[Jl. Dipatiukur No. 72-74, Bandung, Jawa Barat...</td>\n      <td>133925097</td>\n      <td>NaN</td>\n    </tr>\n    <tr>\n      <th>1</th>\n      <td>515e6be5e4b0c134437ee63a</td>\n      <td>Patra Jasa Hotel</td>\n      <td>[{'id': '4bf58dd8d48988d1fa931735', 'name': 'H...</td>\n      <td>v-1619135482</td>\n      <td>False</td>\n      <td>Jl. Ir. H. Juanda No.132</td>\n      <td>-6.889154</td>\n      <td>107.614085</td>\n      <td>[{'label': 'display', 'lat': -6.88915357376354...</td>\n      <td>281</td>\n      <td>40132</td>\n      <td>ID</td>\n      <td>Bandung</td>\n      <td>Jawa Barat</td>\n      <td>Indonesia</td>\n      <td>[Jl. Ir. H. Juanda No.132 (Jl. Ir. H. Juanda N...</td>\n      <td>NaN</td>\n      <td>Jl. Ir. H. Juanda No. 132</td>\n    </tr>\n    <tr>\n      <th>2</th>\n      <td>4bb73d162f70c9b68e668630</td>\n      <td>Scarlet Dago Hotel</td>\n      <td>[{'id': '4bf58dd8d48988d1fa931735', 'name': 'H...</td>\n      <td>v-1619135482</td>\n      <td>False</td>\n      <td>Jalan Siliwangi No. 5</td>\n      <td>-6.885105</td>\n      <td>107.612117</td>\n      <td>[{'label': 'display', 'lat': -6.88510543232216...</td>\n      <td>383</td>\n      <td>40131</td>\n      <td>ID</td>\n      <td>Bandung</td>\n      <td>Jawa Barat</td>\n      <td>Indonesia</td>\n      <td>[Jalan Siliwangi No. 5 (Dago), Bandung, Jawa B...</td>\n      <td>NaN</td>\n      <td>Dago</td>\n    </tr>\n    <tr>\n      <th>3</th>\n      <td>4be81e5dd837c9b6efe4a406</td>\n      <td>Royal Dago Hotel</td>\n      <td>[{'id': '4bf58dd8d48988d1fa931735', 'name': 'H...</td>\n      <td>v-1619135482</td>\n      <td>False</td>\n      <td>Jl. Ir. H. Djuanda No. 156-169</td>\n      <td>-6.886584</td>\n      <td>107.613328</td>\n      <td>[{'label': 'display', 'lat': -6.88658352860527...</td>\n      <td>199</td>\n      <td>NaN</td>\n      <td>ID</td>\n      <td>Bandung</td>\n      <td>Jawa Barat</td>\n      <td>Indonesia</td>\n      <td>[Jl. Ir. H. Djuanda No. 156-169, Bandung, Jawa...</td>\n      <td>NaN</td>\n      <td>NaN</td>\n    </tr>\n    <tr>\n      <th>4</th>\n      <td>4dfef268483b8f033b425a03</td>\n      <td>Hotel Puspa Kencana</td>\n      <td>[{'id': '4bf58dd8d48988d1fa931735', 'name': 'H...</td>\n      <td>v-1619135482</td>\n      <td>False</td>\n      <td>Jl. Siliwangi no. 10</td>\n      <td>-6.884576</td>\n      <td>107.612229</td>\n      <td>[{'label': 'display', 'lat': -6.8845756140164,...</td>\n      <td>406</td>\n      <td>NaN</td>\n      <td>ID</td>\n      <td>Bandung</td>\n      <td>Jawa Barat</td>\n      <td>Indonesia</td>\n      <td>[Jl. Siliwangi no. 10, Bandung, Jawa Barat]</td>\n      <td>NaN</td>\n      <td>NaN</td>\n    </tr>\n  </tbody>\n</table>\n</div>"
                    },
                    "metadata": {}
                }
            ]
        },
        {
            "metadata": {},
            "cell_type": "markdown",
            "source": "#### Cleaning Hotels Data"
        },
        {
            "metadata": {},
            "cell_type": "code",
            "source": "# keep only columns that include venue name, and anything that is associated with location\nfiltered_columns = ['id','name'] + [col for col in df_hotel.columns if col.startswith('location.')]\nhotel_filtered = df_hotel.loc[:, filtered_columns]\n\n# clean column names by keeping only last term\nhotel_filtered.columns = [column.split('.')[-1] for column in hotel_filtered.columns]\ndf_hotel_filtered = hotel_filtered[['id', 'name', 'address', 'lat', 'lng']]\n\ndf_hotel_filtered.head()",
            "execution_count": 52,
            "outputs": [
                {
                    "output_type": "execute_result",
                    "execution_count": 52,
                    "data": {
                        "text/plain": "                         id                  name  \\\n0  4c72303f9e706dcbf3374a62  Hotel Neo Dipatiukur   \n1  515e6be5e4b0c134437ee63a      Patra Jasa Hotel   \n2  4bb73d162f70c9b68e668630    Scarlet Dago Hotel   \n3  4be81e5dd837c9b6efe4a406      Royal Dago Hotel   \n4  4dfef268483b8f033b425a03   Hotel Puspa Kencana   \n\n                          address       lat         lng  \n0        Jl. Dipatiukur No. 72-74 -6.889919  107.616451  \n1        Jl. Ir. H. Juanda No.132 -6.889154  107.614085  \n2           Jalan Siliwangi No. 5 -6.885105  107.612117  \n3  Jl. Ir. H. Djuanda No. 156-169 -6.886584  107.613328  \n4            Jl. Siliwangi no. 10 -6.884576  107.612229  ",
                        "text/html": "<div>\n<style scoped>\n    .dataframe tbody tr th:only-of-type {\n        vertical-align: middle;\n    }\n\n    .dataframe tbody tr th {\n        vertical-align: top;\n    }\n\n    .dataframe thead th {\n        text-align: right;\n    }\n</style>\n<table border=\"1\" class=\"dataframe\">\n  <thead>\n    <tr style=\"text-align: right;\">\n      <th></th>\n      <th>id</th>\n      <th>name</th>\n      <th>address</th>\n      <th>lat</th>\n      <th>lng</th>\n    </tr>\n  </thead>\n  <tbody>\n    <tr>\n      <th>0</th>\n      <td>4c72303f9e706dcbf3374a62</td>\n      <td>Hotel Neo Dipatiukur</td>\n      <td>Jl. Dipatiukur No. 72-74</td>\n      <td>-6.889919</td>\n      <td>107.616451</td>\n    </tr>\n    <tr>\n      <th>1</th>\n      <td>515e6be5e4b0c134437ee63a</td>\n      <td>Patra Jasa Hotel</td>\n      <td>Jl. Ir. H. Juanda No.132</td>\n      <td>-6.889154</td>\n      <td>107.614085</td>\n    </tr>\n    <tr>\n      <th>2</th>\n      <td>4bb73d162f70c9b68e668630</td>\n      <td>Scarlet Dago Hotel</td>\n      <td>Jalan Siliwangi No. 5</td>\n      <td>-6.885105</td>\n      <td>107.612117</td>\n    </tr>\n    <tr>\n      <th>3</th>\n      <td>4be81e5dd837c9b6efe4a406</td>\n      <td>Royal Dago Hotel</td>\n      <td>Jl. Ir. H. Djuanda No. 156-169</td>\n      <td>-6.886584</td>\n      <td>107.613328</td>\n    </tr>\n    <tr>\n      <th>4</th>\n      <td>4dfef268483b8f033b425a03</td>\n      <td>Hotel Puspa Kencana</td>\n      <td>Jl. Siliwangi no. 10</td>\n      <td>-6.884576</td>\n      <td>107.612229</td>\n    </tr>\n  </tbody>\n</table>\n</div>"
                    },
                    "metadata": {}
                }
            ]
        },
        {
            "metadata": {},
            "cell_type": "code",
            "source": "# Filtering name\ndf_hotel_filtered['name'] = df_hotel_filtered['name'].apply(lambda x : x.title().replace('Bandung', '').replace('Dago','').strip())\ndf_hotel_filtered['name']",
            "execution_count": 53,
            "outputs": [
                {
                    "output_type": "stream",
                    "text": "/opt/conda/envs/Python-3.7-main/lib/python3.7/site-packages/pandas/core/indexing.py:966: SettingWithCopyWarning:\n\n\nA value is trying to be set on a copy of a slice from a DataFrame.\nTry using .loc[row_indexer,col_indexer] = value instead\n\nSee the caveats in the documentation: https://pandas.pydata.org/pandas-docs/stable/user_guide/indexing.html#returning-a-view-versus-a-copy\n\n",
                    "name": "stderr"
                },
                {
                    "output_type": "execute_result",
                    "execution_count": 53,
                    "data": {
                        "text/plain": "0                                  Hotel Neo Dipatiukur\n1                                      Patra Jasa Hotel\n2                                        Scarlet  Hotel\n3                                          Royal  Hotel\n4                                   Hotel Puspa Kencana\n5                                      Patra Jasa Hotel\n6                                 Geulis Boutique Hotel\n7                                       Hotel Pratajasa\n8                                        Hotel Sheraton\n9                                        Hotel Sheraton\n10                               Beehive Boutique Hotel\n11                                         Hotel Royale\n12                                     Hotel Patra Jasa\n13                                     Hotel Patra Jasa\n14                                         Hotel Akasia\n15                                   Grand Unikom Hotel\n16                                  Hotel Safari Garden\n17                                     Hotel Patra Jasa\n18                                    Patra Jasa  Hotel\n19                                          Hotel Efita\n20                                     Hotel Shangri-La\n21                          Hotel Patra Jasa  Room #413\n22                                          Padma Hotel\n23                                     Prime Park Hotel\n24                          Proyek Hotel Lor In Lembang\n25                                         Wirton Hotel\n26                                     Hotel Pajas #405\n27                                         Crowne Hotel\n28                                          Hotel Jawil\n29                                      Hotel Patrajasa\n30                                        Hotel Seraton\n31    Fitness Center Galeri Ciumbuleuit Hotel & Apar...\n32                      Grand Ball Room Panghegar Hotel\n33                                   D'Best Sofia Hotel\n34                                     Patrajasa  Hotel\n35    Fitness Center Galeri Ciumbuleuit Hotel & Apar...\n36                                  Hotel Puspa Kencana\n37                                      Hotel Cemerlang\n38                                 Hotel Arimbi Stasion\n39                                    Sheo Resort Hotel\n40                                        Hotel Scarlet\n41                                    Royal Grand Hotel\n42                                          Kalya Hotel\n43                                      Hotel Jayakarta\n44                                          Hotel Lotus\n45                                     Grand Kopo Hotel\n46                                  Hotel Puri Gardenia\n47                                     Patra Jasa Hotel\n48              Hotel Alila Villas Soori, Tabanan ,Bali\n49                                     Hotel Patra Jasa\nName: name, dtype: object"
                    },
                    "metadata": {}
                }
            ]
        },
        {
            "metadata": {},
            "cell_type": "code",
            "source": "# choosing the hotels by index\nname_index = [0,3,4,6,8,11,13,14,16,19,20,23,24,25,\n              27,32,35,37,38,39,40,44,45,46,48]\ndf_hotel_filtered = df_hotel_filtered.loc[name_index].drop_duplicates(subset='name', keep='last')\ndf_hotel_filtered.sort_index(inplace=True)\ndf_hotel_filtered.head()",
            "execution_count": 73,
            "outputs": [
                {
                    "output_type": "execute_result",
                    "execution_count": 73,
                    "data": {
                        "text/plain": "                         id                   name  \\\n0  4c72303f9e706dcbf3374a62   Hotel Neo Dipatiukur   \n3  4be81e5dd837c9b6efe4a406           Royal  Hotel   \n4  4dfef268483b8f033b425a03    Hotel Puspa Kencana   \n6  4bef544ff2712d7f21a9fbd8  Geulis Boutique Hotel   \n8  5479cfc2498e1e48fdb9b17c         Hotel Sheraton   \n\n                          address       lat         lng  \n0        Jl. Dipatiukur No. 72-74 -6.889919  107.616451  \n3  Jl. Ir. H. Djuanda No. 156-169 -6.886584  107.613328  \n4            Jl. Siliwangi no. 10 -6.884576  107.612229  \n6                Jl. Ir. H Juanda -6.891400  107.612839  \n8                             NaN -6.885765  107.614036  ",
                        "text/html": "<div>\n<style scoped>\n    .dataframe tbody tr th:only-of-type {\n        vertical-align: middle;\n    }\n\n    .dataframe tbody tr th {\n        vertical-align: top;\n    }\n\n    .dataframe thead th {\n        text-align: right;\n    }\n</style>\n<table border=\"1\" class=\"dataframe\">\n  <thead>\n    <tr style=\"text-align: right;\">\n      <th></th>\n      <th>id</th>\n      <th>name</th>\n      <th>address</th>\n      <th>lat</th>\n      <th>lng</th>\n    </tr>\n  </thead>\n  <tbody>\n    <tr>\n      <th>0</th>\n      <td>4c72303f9e706dcbf3374a62</td>\n      <td>Hotel Neo Dipatiukur</td>\n      <td>Jl. Dipatiukur No. 72-74</td>\n      <td>-6.889919</td>\n      <td>107.616451</td>\n    </tr>\n    <tr>\n      <th>3</th>\n      <td>4be81e5dd837c9b6efe4a406</td>\n      <td>Royal  Hotel</td>\n      <td>Jl. Ir. H. Djuanda No. 156-169</td>\n      <td>-6.886584</td>\n      <td>107.613328</td>\n    </tr>\n    <tr>\n      <th>4</th>\n      <td>4dfef268483b8f033b425a03</td>\n      <td>Hotel Puspa Kencana</td>\n      <td>Jl. Siliwangi no. 10</td>\n      <td>-6.884576</td>\n      <td>107.612229</td>\n    </tr>\n    <tr>\n      <th>6</th>\n      <td>4bef544ff2712d7f21a9fbd8</td>\n      <td>Geulis Boutique Hotel</td>\n      <td>Jl. Ir. H Juanda</td>\n      <td>-6.891400</td>\n      <td>107.612839</td>\n    </tr>\n    <tr>\n      <th>8</th>\n      <td>5479cfc2498e1e48fdb9b17c</td>\n      <td>Hotel Sheraton</td>\n      <td>NaN</td>\n      <td>-6.885765</td>\n      <td>107.614036</td>\n    </tr>\n  </tbody>\n</table>\n</div>"
                    },
                    "metadata": {}
                }
            ]
        },
        {
            "metadata": {},
            "cell_type": "markdown",
            "source": "#### Create Hotel Map"
        },
        {
            "metadata": {},
            "cell_type": "code",
            "source": "hotels_map = folium.Map(location=[latitude, longitude], zoom_start=16) # generate map centred around the UNIKOM\n\n# add a red circle marker to represent the UNIKOM\nfolium.CircleMarker(\n    [latitude, longitude],\n    radius=10,\n    color='red',\n    popup='Unikom',\n    fill = True,\n    fill_color = 'red',\n    fill_opacity = 0.6\n).add_to(hotels_map)\n\n# add the hotels as blue circle markers\nfor lat, lng, name in zip(df_hotel_filtered.lat, df_hotel_filtered.lng, df_hotel_filtered.name):\n    folium.CircleMarker(\n        [lat, lng],\n        radius=5,\n        color='blue',\n        popup=name,\n        fill = True,\n        fill_color='blue',\n        fill_opacity=0.6\n    ).add_to(hotels_map)\n\n# display map\nhotels_map",
            "execution_count": 74,
            "outputs": [
                {
                    "output_type": "execute_result",
                    "execution_count": 74,
                    "data": {
                        "text/plain": "<folium.folium.Map at 0x7f9b7d429450>",
                        "text/html": "<div style=\"width:100%;\"><div style=\"position:relative;width:100%;height:0;padding-bottom:60%;\"><span style=\"color:#565656\">Make this Notebook Trusted to load map: File -> Trust Notebook</span><iframe src=\"about:blank\" style=\"position:absolute;width:100%;height:100%;left:0;top:0;border:none !important;\" data-html=%3C%21DOCTYPE%20html%3E%0A%3Chead%3E%20%20%20%20%0A%20%20%20%20%3Cmeta%20http-equiv%3D%22content-type%22%20content%3D%22text/html%3B%20charset%3DUTF-8%22%20/%3E%0A%20%20%20%20%0A%20%20%20%20%20%20%20%20%3Cscript%3E%0A%20%20%20%20%20%20%20%20%20%20%20%20L_NO_TOUCH%20%3D%20false%3B%0A%20%20%20%20%20%20%20%20%20%20%20%20L_DISABLE_3D%20%3D%20false%3B%0A%20%20%20%20%20%20%20%20%3C/script%3E%0A%20%20%20%20%0A%20%20%20%20%3Cstyle%3Ehtml%2C%20body%20%7Bwidth%3A%20100%25%3Bheight%3A%20100%25%3Bmargin%3A%200%3Bpadding%3A%200%3B%7D%3C/style%3E%0A%20%20%20%20%3Cstyle%3E%23map%20%7Bposition%3Aabsolute%3Btop%3A0%3Bbottom%3A0%3Bright%3A0%3Bleft%3A0%3B%7D%3C/style%3E%0A%20%20%20%20%3Cscript%20src%3D%22https%3A//cdn.jsdelivr.net/npm/leaflet%401.6.0/dist/leaflet.js%22%3E%3C/script%3E%0A%20%20%20%20%3Cscript%20src%3D%22https%3A//code.jquery.com/jquery-1.12.4.min.js%22%3E%3C/script%3E%0A%20%20%20%20%3Cscript%20src%3D%22https%3A//maxcdn.bootstrapcdn.com/bootstrap/3.2.0/js/bootstrap.min.js%22%3E%3C/script%3E%0A%20%20%20%20%3Cscript%20src%3D%22https%3A//cdnjs.cloudflare.com/ajax/libs/Leaflet.awesome-markers/2.0.2/leaflet.awesome-markers.js%22%3E%3C/script%3E%0A%20%20%20%20%3Clink%20rel%3D%22stylesheet%22%20href%3D%22https%3A//cdn.jsdelivr.net/npm/leaflet%401.6.0/dist/leaflet.css%22/%3E%0A%20%20%20%20%3Clink%20rel%3D%22stylesheet%22%20href%3D%22https%3A//maxcdn.bootstrapcdn.com/bootstrap/3.2.0/css/bootstrap.min.css%22/%3E%0A%20%20%20%20%3Clink%20rel%3D%22stylesheet%22%20href%3D%22https%3A//maxcdn.bootstrapcdn.com/bootstrap/3.2.0/css/bootstrap-theme.min.css%22/%3E%0A%20%20%20%20%3Clink%20rel%3D%22stylesheet%22%20href%3D%22https%3A//maxcdn.bootstrapcdn.com/font-awesome/4.6.3/css/font-awesome.min.css%22/%3E%0A%20%20%20%20%3Clink%20rel%3D%22stylesheet%22%20href%3D%22https%3A//cdnjs.cloudflare.com/ajax/libs/Leaflet.awesome-markers/2.0.2/leaflet.awesome-markers.css%22/%3E%0A%20%20%20%20%3Clink%20rel%3D%22stylesheet%22%20href%3D%22https%3A//cdn.jsdelivr.net/gh/python-visualization/folium/folium/templates/leaflet.awesome.rotate.min.css%22/%3E%0A%20%20%20%20%0A%20%20%20%20%20%20%20%20%20%20%20%20%3Cmeta%20name%3D%22viewport%22%20content%3D%22width%3Ddevice-width%2C%0A%20%20%20%20%20%20%20%20%20%20%20%20%20%20%20%20initial-scale%3D1.0%2C%20maximum-scale%3D1.0%2C%20user-scalable%3Dno%22%20/%3E%0A%20%20%20%20%20%20%20%20%20%20%20%20%3Cstyle%3E%0A%20%20%20%20%20%20%20%20%20%20%20%20%20%20%20%20%23map_b9a22d7bd9104ff1a6d8ad0bcf7bb72a%20%7B%0A%20%20%20%20%20%20%20%20%20%20%20%20%20%20%20%20%20%20%20%20position%3A%20relative%3B%0A%20%20%20%20%20%20%20%20%20%20%20%20%20%20%20%20%20%20%20%20width%3A%20100.0%25%3B%0A%20%20%20%20%20%20%20%20%20%20%20%20%20%20%20%20%20%20%20%20height%3A%20100.0%25%3B%0A%20%20%20%20%20%20%20%20%20%20%20%20%20%20%20%20%20%20%20%20left%3A%200.0%25%3B%0A%20%20%20%20%20%20%20%20%20%20%20%20%20%20%20%20%20%20%20%20top%3A%200.0%25%3B%0A%20%20%20%20%20%20%20%20%20%20%20%20%20%20%20%20%7D%0A%20%20%20%20%20%20%20%20%20%20%20%20%3C/style%3E%0A%20%20%20%20%20%20%20%20%0A%3C/head%3E%0A%3Cbody%3E%20%20%20%20%0A%20%20%20%20%0A%20%20%20%20%20%20%20%20%20%20%20%20%3Cdiv%20class%3D%22folium-map%22%20id%3D%22map_b9a22d7bd9104ff1a6d8ad0bcf7bb72a%22%20%3E%3C/div%3E%0A%20%20%20%20%20%20%20%20%0A%3C/body%3E%0A%3Cscript%3E%20%20%20%20%0A%20%20%20%20%0A%20%20%20%20%20%20%20%20%20%20%20%20var%20map_b9a22d7bd9104ff1a6d8ad0bcf7bb72a%20%3D%20L.map%28%0A%20%20%20%20%20%20%20%20%20%20%20%20%20%20%20%20%22map_b9a22d7bd9104ff1a6d8ad0bcf7bb72a%22%2C%0A%20%20%20%20%20%20%20%20%20%20%20%20%20%20%20%20%7B%0A%20%20%20%20%20%20%20%20%20%20%20%20%20%20%20%20%20%20%20%20center%3A%20%5B-6.8868408%2C%20107.6151136%5D%2C%0A%20%20%20%20%20%20%20%20%20%20%20%20%20%20%20%20%20%20%20%20crs%3A%20L.CRS.EPSG3857%2C%0A%20%20%20%20%20%20%20%20%20%20%20%20%20%20%20%20%20%20%20%20zoom%3A%2016%2C%0A%20%20%20%20%20%20%20%20%20%20%20%20%20%20%20%20%20%20%20%20zoomControl%3A%20true%2C%0A%20%20%20%20%20%20%20%20%20%20%20%20%20%20%20%20%20%20%20%20preferCanvas%3A%20false%2C%0A%20%20%20%20%20%20%20%20%20%20%20%20%20%20%20%20%7D%0A%20%20%20%20%20%20%20%20%20%20%20%20%29%3B%0A%0A%20%20%20%20%20%20%20%20%20%20%20%20%0A%0A%20%20%20%20%20%20%20%20%0A%20%20%20%20%0A%20%20%20%20%20%20%20%20%20%20%20%20var%20tile_layer_9b6d4df3cd4d4dc4ac91319d4fa2cb2b%20%3D%20L.tileLayer%28%0A%20%20%20%20%20%20%20%20%20%20%20%20%20%20%20%20%22https%3A//%7Bs%7D.tile.openstreetmap.org/%7Bz%7D/%7Bx%7D/%7By%7D.png%22%2C%0A%20%20%20%20%20%20%20%20%20%20%20%20%20%20%20%20%7B%22attribution%22%3A%20%22Data%20by%20%5Cu0026copy%3B%20%5Cu003ca%20href%3D%5C%22http%3A//openstreetmap.org%5C%22%5Cu003eOpenStreetMap%5Cu003c/a%5Cu003e%2C%20under%20%5Cu003ca%20href%3D%5C%22http%3A//www.openstreetmap.org/copyright%5C%22%5Cu003eODbL%5Cu003c/a%5Cu003e.%22%2C%20%22detectRetina%22%3A%20false%2C%20%22maxNativeZoom%22%3A%2018%2C%20%22maxZoom%22%3A%2018%2C%20%22minZoom%22%3A%200%2C%20%22noWrap%22%3A%20false%2C%20%22opacity%22%3A%201%2C%20%22subdomains%22%3A%20%22abc%22%2C%20%22tms%22%3A%20false%7D%0A%20%20%20%20%20%20%20%20%20%20%20%20%29.addTo%28map_b9a22d7bd9104ff1a6d8ad0bcf7bb72a%29%3B%0A%20%20%20%20%20%20%20%20%0A%20%20%20%20%0A%20%20%20%20%20%20%20%20%20%20%20%20var%20circle_marker_153938571a3d4567af1c7659602c07b3%20%3D%20L.circleMarker%28%0A%20%20%20%20%20%20%20%20%20%20%20%20%20%20%20%20%5B-6.8868408%2C%20107.6151136%5D%2C%0A%20%20%20%20%20%20%20%20%20%20%20%20%20%20%20%20%7B%22bubblingMouseEvents%22%3A%20true%2C%20%22color%22%3A%20%22red%22%2C%20%22dashArray%22%3A%20null%2C%20%22dashOffset%22%3A%20null%2C%20%22fill%22%3A%20true%2C%20%22fillColor%22%3A%20%22red%22%2C%20%22fillOpacity%22%3A%200.6%2C%20%22fillRule%22%3A%20%22evenodd%22%2C%20%22lineCap%22%3A%20%22round%22%2C%20%22lineJoin%22%3A%20%22round%22%2C%20%22opacity%22%3A%201.0%2C%20%22radius%22%3A%2010%2C%20%22stroke%22%3A%20true%2C%20%22weight%22%3A%203%7D%0A%20%20%20%20%20%20%20%20%20%20%20%20%29.addTo%28map_b9a22d7bd9104ff1a6d8ad0bcf7bb72a%29%3B%0A%20%20%20%20%20%20%20%20%0A%20%20%20%20%0A%20%20%20%20%20%20%20%20var%20popup_75355022c65f43b3ab03699261ad3171%20%3D%20L.popup%28%7B%22maxWidth%22%3A%20%22100%25%22%7D%29%3B%0A%0A%20%20%20%20%20%20%20%20%0A%20%20%20%20%20%20%20%20%20%20%20%20var%20html_6a7836ec8338487d8bcc88a9940e71f5%20%3D%20%24%28%60%3Cdiv%20id%3D%22html_6a7836ec8338487d8bcc88a9940e71f5%22%20style%3D%22width%3A%20100.0%25%3B%20height%3A%20100.0%25%3B%22%3EUnikom%3C/div%3E%60%29%5B0%5D%3B%0A%20%20%20%20%20%20%20%20%20%20%20%20popup_75355022c65f43b3ab03699261ad3171.setContent%28html_6a7836ec8338487d8bcc88a9940e71f5%29%3B%0A%20%20%20%20%20%20%20%20%0A%0A%20%20%20%20%20%20%20%20circle_marker_153938571a3d4567af1c7659602c07b3.bindPopup%28popup_75355022c65f43b3ab03699261ad3171%29%0A%20%20%20%20%20%20%20%20%3B%0A%0A%20%20%20%20%20%20%20%20%0A%20%20%20%20%0A%20%20%20%20%0A%20%20%20%20%20%20%20%20%20%20%20%20var%20circle_marker_8688f459961442f18d97f3bbfa5d270c%20%3D%20L.circleMarker%28%0A%20%20%20%20%20%20%20%20%20%20%20%20%20%20%20%20%5B-6.889919148588358%2C%20107.61645068737492%5D%2C%0A%20%20%20%20%20%20%20%20%20%20%20%20%20%20%20%20%7B%22bubblingMouseEvents%22%3A%20true%2C%20%22color%22%3A%20%22blue%22%2C%20%22dashArray%22%3A%20null%2C%20%22dashOffset%22%3A%20null%2C%20%22fill%22%3A%20true%2C%20%22fillColor%22%3A%20%22blue%22%2C%20%22fillOpacity%22%3A%200.6%2C%20%22fillRule%22%3A%20%22evenodd%22%2C%20%22lineCap%22%3A%20%22round%22%2C%20%22lineJoin%22%3A%20%22round%22%2C%20%22opacity%22%3A%201.0%2C%20%22radius%22%3A%205%2C%20%22stroke%22%3A%20true%2C%20%22weight%22%3A%203%7D%0A%20%20%20%20%20%20%20%20%20%20%20%20%29.addTo%28map_b9a22d7bd9104ff1a6d8ad0bcf7bb72a%29%3B%0A%20%20%20%20%20%20%20%20%0A%20%20%20%20%0A%20%20%20%20%20%20%20%20var%20popup_9a36b7abf0f944afab354aa480e8eca2%20%3D%20L.popup%28%7B%22maxWidth%22%3A%20%22100%25%22%7D%29%3B%0A%0A%20%20%20%20%20%20%20%20%0A%20%20%20%20%20%20%20%20%20%20%20%20var%20html_8dc4af80bfb3474d9fdb76e2d8962ff8%20%3D%20%24%28%60%3Cdiv%20id%3D%22html_8dc4af80bfb3474d9fdb76e2d8962ff8%22%20style%3D%22width%3A%20100.0%25%3B%20height%3A%20100.0%25%3B%22%3EHotel%20Neo%20Dipatiukur%3C/div%3E%60%29%5B0%5D%3B%0A%20%20%20%20%20%20%20%20%20%20%20%20popup_9a36b7abf0f944afab354aa480e8eca2.setContent%28html_8dc4af80bfb3474d9fdb76e2d8962ff8%29%3B%0A%20%20%20%20%20%20%20%20%0A%0A%20%20%20%20%20%20%20%20circle_marker_8688f459961442f18d97f3bbfa5d270c.bindPopup%28popup_9a36b7abf0f944afab354aa480e8eca2%29%0A%20%20%20%20%20%20%20%20%3B%0A%0A%20%20%20%20%20%20%20%20%0A%20%20%20%20%0A%20%20%20%20%0A%20%20%20%20%20%20%20%20%20%20%20%20var%20circle_marker_957ae5e54b5646888484a9b784944ce3%20%3D%20L.circleMarker%28%0A%20%20%20%20%20%20%20%20%20%20%20%20%20%20%20%20%5B-6.886583528605275%2C%20107.61332776849285%5D%2C%0A%20%20%20%20%20%20%20%20%20%20%20%20%20%20%20%20%7B%22bubblingMouseEvents%22%3A%20true%2C%20%22color%22%3A%20%22blue%22%2C%20%22dashArray%22%3A%20null%2C%20%22dashOffset%22%3A%20null%2C%20%22fill%22%3A%20true%2C%20%22fillColor%22%3A%20%22blue%22%2C%20%22fillOpacity%22%3A%200.6%2C%20%22fillRule%22%3A%20%22evenodd%22%2C%20%22lineCap%22%3A%20%22round%22%2C%20%22lineJoin%22%3A%20%22round%22%2C%20%22opacity%22%3A%201.0%2C%20%22radius%22%3A%205%2C%20%22stroke%22%3A%20true%2C%20%22weight%22%3A%203%7D%0A%20%20%20%20%20%20%20%20%20%20%20%20%29.addTo%28map_b9a22d7bd9104ff1a6d8ad0bcf7bb72a%29%3B%0A%20%20%20%20%20%20%20%20%0A%20%20%20%20%0A%20%20%20%20%20%20%20%20var%20popup_1d5d4aaae2e541e0b9f5c1aa4702d4fe%20%3D%20L.popup%28%7B%22maxWidth%22%3A%20%22100%25%22%7D%29%3B%0A%0A%20%20%20%20%20%20%20%20%0A%20%20%20%20%20%20%20%20%20%20%20%20var%20html_5532f8740704472bb7f2794b7af0e35f%20%3D%20%24%28%60%3Cdiv%20id%3D%22html_5532f8740704472bb7f2794b7af0e35f%22%20style%3D%22width%3A%20100.0%25%3B%20height%3A%20100.0%25%3B%22%3ERoyal%20%20Hotel%3C/div%3E%60%29%5B0%5D%3B%0A%20%20%20%20%20%20%20%20%20%20%20%20popup_1d5d4aaae2e541e0b9f5c1aa4702d4fe.setContent%28html_5532f8740704472bb7f2794b7af0e35f%29%3B%0A%20%20%20%20%20%20%20%20%0A%0A%20%20%20%20%20%20%20%20circle_marker_957ae5e54b5646888484a9b784944ce3.bindPopup%28popup_1d5d4aaae2e541e0b9f5c1aa4702d4fe%29%0A%20%20%20%20%20%20%20%20%3B%0A%0A%20%20%20%20%20%20%20%20%0A%20%20%20%20%0A%20%20%20%20%0A%20%20%20%20%20%20%20%20%20%20%20%20var%20circle_marker_fcdbedcb996b4cbf8c9056db4de60a29%20%3D%20L.circleMarker%28%0A%20%20%20%20%20%20%20%20%20%20%20%20%20%20%20%20%5B-6.8845756140164%2C%20107.61222914140397%5D%2C%0A%20%20%20%20%20%20%20%20%20%20%20%20%20%20%20%20%7B%22bubblingMouseEvents%22%3A%20true%2C%20%22color%22%3A%20%22blue%22%2C%20%22dashArray%22%3A%20null%2C%20%22dashOffset%22%3A%20null%2C%20%22fill%22%3A%20true%2C%20%22fillColor%22%3A%20%22blue%22%2C%20%22fillOpacity%22%3A%200.6%2C%20%22fillRule%22%3A%20%22evenodd%22%2C%20%22lineCap%22%3A%20%22round%22%2C%20%22lineJoin%22%3A%20%22round%22%2C%20%22opacity%22%3A%201.0%2C%20%22radius%22%3A%205%2C%20%22stroke%22%3A%20true%2C%20%22weight%22%3A%203%7D%0A%20%20%20%20%20%20%20%20%20%20%20%20%29.addTo%28map_b9a22d7bd9104ff1a6d8ad0bcf7bb72a%29%3B%0A%20%20%20%20%20%20%20%20%0A%20%20%20%20%0A%20%20%20%20%20%20%20%20var%20popup_a72efce02ce34feda51b931909e8e0ca%20%3D%20L.popup%28%7B%22maxWidth%22%3A%20%22100%25%22%7D%29%3B%0A%0A%20%20%20%20%20%20%20%20%0A%20%20%20%20%20%20%20%20%20%20%20%20var%20html_ba53b13d70034b479dceda3342503321%20%3D%20%24%28%60%3Cdiv%20id%3D%22html_ba53b13d70034b479dceda3342503321%22%20style%3D%22width%3A%20100.0%25%3B%20height%3A%20100.0%25%3B%22%3EHotel%20Puspa%20Kencana%3C/div%3E%60%29%5B0%5D%3B%0A%20%20%20%20%20%20%20%20%20%20%20%20popup_a72efce02ce34feda51b931909e8e0ca.setContent%28html_ba53b13d70034b479dceda3342503321%29%3B%0A%20%20%20%20%20%20%20%20%0A%0A%20%20%20%20%20%20%20%20circle_marker_fcdbedcb996b4cbf8c9056db4de60a29.bindPopup%28popup_a72efce02ce34feda51b931909e8e0ca%29%0A%20%20%20%20%20%20%20%20%3B%0A%0A%20%20%20%20%20%20%20%20%0A%20%20%20%20%0A%20%20%20%20%0A%20%20%20%20%20%20%20%20%20%20%20%20var%20circle_marker_612da26042704e88844c048707b107f3%20%3D%20L.circleMarker%28%0A%20%20%20%20%20%20%20%20%20%20%20%20%20%20%20%20%5B-6.891399791334144%2C%20107.61283931479491%5D%2C%0A%20%20%20%20%20%20%20%20%20%20%20%20%20%20%20%20%7B%22bubblingMouseEvents%22%3A%20true%2C%20%22color%22%3A%20%22blue%22%2C%20%22dashArray%22%3A%20null%2C%20%22dashOffset%22%3A%20null%2C%20%22fill%22%3A%20true%2C%20%22fillColor%22%3A%20%22blue%22%2C%20%22fillOpacity%22%3A%200.6%2C%20%22fillRule%22%3A%20%22evenodd%22%2C%20%22lineCap%22%3A%20%22round%22%2C%20%22lineJoin%22%3A%20%22round%22%2C%20%22opacity%22%3A%201.0%2C%20%22radius%22%3A%205%2C%20%22stroke%22%3A%20true%2C%20%22weight%22%3A%203%7D%0A%20%20%20%20%20%20%20%20%20%20%20%20%29.addTo%28map_b9a22d7bd9104ff1a6d8ad0bcf7bb72a%29%3B%0A%20%20%20%20%20%20%20%20%0A%20%20%20%20%0A%20%20%20%20%20%20%20%20var%20popup_6f9e330e286c4608b9cd0d4188f44106%20%3D%20L.popup%28%7B%22maxWidth%22%3A%20%22100%25%22%7D%29%3B%0A%0A%20%20%20%20%20%20%20%20%0A%20%20%20%20%20%20%20%20%20%20%20%20var%20html_d8e98733eae349c1833fdcfbebeb05cf%20%3D%20%24%28%60%3Cdiv%20id%3D%22html_d8e98733eae349c1833fdcfbebeb05cf%22%20style%3D%22width%3A%20100.0%25%3B%20height%3A%20100.0%25%3B%22%3EGeulis%20Boutique%20Hotel%3C/div%3E%60%29%5B0%5D%3B%0A%20%20%20%20%20%20%20%20%20%20%20%20popup_6f9e330e286c4608b9cd0d4188f44106.setContent%28html_d8e98733eae349c1833fdcfbebeb05cf%29%3B%0A%20%20%20%20%20%20%20%20%0A%0A%20%20%20%20%20%20%20%20circle_marker_612da26042704e88844c048707b107f3.bindPopup%28popup_6f9e330e286c4608b9cd0d4188f44106%29%0A%20%20%20%20%20%20%20%20%3B%0A%0A%20%20%20%20%20%20%20%20%0A%20%20%20%20%0A%20%20%20%20%0A%20%20%20%20%20%20%20%20%20%20%20%20var%20circle_marker_34fe00b4abee4c069a0ac8dd5e1fa63a%20%3D%20L.circleMarker%28%0A%20%20%20%20%20%20%20%20%20%20%20%20%20%20%20%20%5B-6.8857647%2C%20107.6140358%5D%2C%0A%20%20%20%20%20%20%20%20%20%20%20%20%20%20%20%20%7B%22bubblingMouseEvents%22%3A%20true%2C%20%22color%22%3A%20%22blue%22%2C%20%22dashArray%22%3A%20null%2C%20%22dashOffset%22%3A%20null%2C%20%22fill%22%3A%20true%2C%20%22fillColor%22%3A%20%22blue%22%2C%20%22fillOpacity%22%3A%200.6%2C%20%22fillRule%22%3A%20%22evenodd%22%2C%20%22lineCap%22%3A%20%22round%22%2C%20%22lineJoin%22%3A%20%22round%22%2C%20%22opacity%22%3A%201.0%2C%20%22radius%22%3A%205%2C%20%22stroke%22%3A%20true%2C%20%22weight%22%3A%203%7D%0A%20%20%20%20%20%20%20%20%20%20%20%20%29.addTo%28map_b9a22d7bd9104ff1a6d8ad0bcf7bb72a%29%3B%0A%20%20%20%20%20%20%20%20%0A%20%20%20%20%0A%20%20%20%20%20%20%20%20var%20popup_17830c1a0eca4227a9d6f35cd0633812%20%3D%20L.popup%28%7B%22maxWidth%22%3A%20%22100%25%22%7D%29%3B%0A%0A%20%20%20%20%20%20%20%20%0A%20%20%20%20%20%20%20%20%20%20%20%20var%20html_8f36ade4b3dd412992d373f7797820ce%20%3D%20%24%28%60%3Cdiv%20id%3D%22html_8f36ade4b3dd412992d373f7797820ce%22%20style%3D%22width%3A%20100.0%25%3B%20height%3A%20100.0%25%3B%22%3EHotel%20Sheraton%3C/div%3E%60%29%5B0%5D%3B%0A%20%20%20%20%20%20%20%20%20%20%20%20popup_17830c1a0eca4227a9d6f35cd0633812.setContent%28html_8f36ade4b3dd412992d373f7797820ce%29%3B%0A%20%20%20%20%20%20%20%20%0A%0A%20%20%20%20%20%20%20%20circle_marker_34fe00b4abee4c069a0ac8dd5e1fa63a.bindPopup%28popup_17830c1a0eca4227a9d6f35cd0633812%29%0A%20%20%20%20%20%20%20%20%3B%0A%0A%20%20%20%20%20%20%20%20%0A%20%20%20%20%0A%20%20%20%20%0A%20%20%20%20%20%20%20%20%20%20%20%20var%20circle_marker_0f2abc76a3f54ff8bca39a64612bb5c7%20%3D%20L.circleMarker%28%0A%20%20%20%20%20%20%20%20%20%20%20%20%20%20%20%20%5B-6.8848645%2C%20107.6148989%5D%2C%0A%20%20%20%20%20%20%20%20%20%20%20%20%20%20%20%20%7B%22bubblingMouseEvents%22%3A%20true%2C%20%22color%22%3A%20%22blue%22%2C%20%22dashArray%22%3A%20null%2C%20%22dashOffset%22%3A%20null%2C%20%22fill%22%3A%20true%2C%20%22fillColor%22%3A%20%22blue%22%2C%20%22fillOpacity%22%3A%200.6%2C%20%22fillRule%22%3A%20%22evenodd%22%2C%20%22lineCap%22%3A%20%22round%22%2C%20%22lineJoin%22%3A%20%22round%22%2C%20%22opacity%22%3A%201.0%2C%20%22radius%22%3A%205%2C%20%22stroke%22%3A%20true%2C%20%22weight%22%3A%203%7D%0A%20%20%20%20%20%20%20%20%20%20%20%20%29.addTo%28map_b9a22d7bd9104ff1a6d8ad0bcf7bb72a%29%3B%0A%20%20%20%20%20%20%20%20%0A%20%20%20%20%0A%20%20%20%20%20%20%20%20var%20popup_99f32e7535db41bbbdaa454b5cf9d1f4%20%3D%20L.popup%28%7B%22maxWidth%22%3A%20%22100%25%22%7D%29%3B%0A%0A%20%20%20%20%20%20%20%20%0A%20%20%20%20%20%20%20%20%20%20%20%20var%20html_dda529ad8b8143cda78e16ad9e579836%20%3D%20%24%28%60%3Cdiv%20id%3D%22html_dda529ad8b8143cda78e16ad9e579836%22%20style%3D%22width%3A%20100.0%25%3B%20height%3A%20100.0%25%3B%22%3EHotel%20Royale%3C/div%3E%60%29%5B0%5D%3B%0A%20%20%20%20%20%20%20%20%20%20%20%20popup_99f32e7535db41bbbdaa454b5cf9d1f4.setContent%28html_dda529ad8b8143cda78e16ad9e579836%29%3B%0A%20%20%20%20%20%20%20%20%0A%0A%20%20%20%20%20%20%20%20circle_marker_0f2abc76a3f54ff8bca39a64612bb5c7.bindPopup%28popup_99f32e7535db41bbbdaa454b5cf9d1f4%29%0A%20%20%20%20%20%20%20%20%3B%0A%0A%20%20%20%20%20%20%20%20%0A%20%20%20%20%0A%20%20%20%20%0A%20%20%20%20%20%20%20%20%20%20%20%20var%20circle_marker_c4c255cdbd594467a67d8f3597be724b%20%3D%20L.circleMarker%28%0A%20%20%20%20%20%20%20%20%20%20%20%20%20%20%20%20%5B-6.889111120897229%2C%20107.61409046169308%5D%2C%0A%20%20%20%20%20%20%20%20%20%20%20%20%20%20%20%20%7B%22bubblingMouseEvents%22%3A%20true%2C%20%22color%22%3A%20%22blue%22%2C%20%22dashArray%22%3A%20null%2C%20%22dashOffset%22%3A%20null%2C%20%22fill%22%3A%20true%2C%20%22fillColor%22%3A%20%22blue%22%2C%20%22fillOpacity%22%3A%200.6%2C%20%22fillRule%22%3A%20%22evenodd%22%2C%20%22lineCap%22%3A%20%22round%22%2C%20%22lineJoin%22%3A%20%22round%22%2C%20%22opacity%22%3A%201.0%2C%20%22radius%22%3A%205%2C%20%22stroke%22%3A%20true%2C%20%22weight%22%3A%203%7D%0A%20%20%20%20%20%20%20%20%20%20%20%20%29.addTo%28map_b9a22d7bd9104ff1a6d8ad0bcf7bb72a%29%3B%0A%20%20%20%20%20%20%20%20%0A%20%20%20%20%0A%20%20%20%20%20%20%20%20var%20popup_dcf8006c888d4424b579115f654a5100%20%3D%20L.popup%28%7B%22maxWidth%22%3A%20%22100%25%22%7D%29%3B%0A%0A%20%20%20%20%20%20%20%20%0A%20%20%20%20%20%20%20%20%20%20%20%20var%20html_2932c8619c00466a9d9f0c78488daa10%20%3D%20%24%28%60%3Cdiv%20id%3D%22html_2932c8619c00466a9d9f0c78488daa10%22%20style%3D%22width%3A%20100.0%25%3B%20height%3A%20100.0%25%3B%22%3EHotel%20Patra%20Jasa%3C/div%3E%60%29%5B0%5D%3B%0A%20%20%20%20%20%20%20%20%20%20%20%20popup_dcf8006c888d4424b579115f654a5100.setContent%28html_2932c8619c00466a9d9f0c78488daa10%29%3B%0A%20%20%20%20%20%20%20%20%0A%0A%20%20%20%20%20%20%20%20circle_marker_c4c255cdbd594467a67d8f3597be724b.bindPopup%28popup_dcf8006c888d4424b579115f654a5100%29%0A%20%20%20%20%20%20%20%20%3B%0A%0A%20%20%20%20%20%20%20%20%0A%20%20%20%20%0A%20%20%20%20%0A%20%20%20%20%20%20%20%20%20%20%20%20var%20circle_marker_e251f1b7cfd842508145c3fafa2c7b0b%20%3D%20L.circleMarker%28%0A%20%20%20%20%20%20%20%20%20%20%20%20%20%20%20%20%5B-6.88662%2C%20107.61726%5D%2C%0A%20%20%20%20%20%20%20%20%20%20%20%20%20%20%20%20%7B%22bubblingMouseEvents%22%3A%20true%2C%20%22color%22%3A%20%22blue%22%2C%20%22dashArray%22%3A%20null%2C%20%22dashOffset%22%3A%20null%2C%20%22fill%22%3A%20true%2C%20%22fillColor%22%3A%20%22blue%22%2C%20%22fillOpacity%22%3A%200.6%2C%20%22fillRule%22%3A%20%22evenodd%22%2C%20%22lineCap%22%3A%20%22round%22%2C%20%22lineJoin%22%3A%20%22round%22%2C%20%22opacity%22%3A%201.0%2C%20%22radius%22%3A%205%2C%20%22stroke%22%3A%20true%2C%20%22weight%22%3A%203%7D%0A%20%20%20%20%20%20%20%20%20%20%20%20%29.addTo%28map_b9a22d7bd9104ff1a6d8ad0bcf7bb72a%29%3B%0A%20%20%20%20%20%20%20%20%0A%20%20%20%20%0A%20%20%20%20%20%20%20%20var%20popup_ca346b2525a846768088673757f26b5f%20%3D%20L.popup%28%7B%22maxWidth%22%3A%20%22100%25%22%7D%29%3B%0A%0A%20%20%20%20%20%20%20%20%0A%20%20%20%20%20%20%20%20%20%20%20%20var%20html_c7edcf8e0da54c1990acfebe46971111%20%3D%20%24%28%60%3Cdiv%20id%3D%22html_c7edcf8e0da54c1990acfebe46971111%22%20style%3D%22width%3A%20100.0%25%3B%20height%3A%20100.0%25%3B%22%3EHotel%20Akasia%3C/div%3E%60%29%5B0%5D%3B%0A%20%20%20%20%20%20%20%20%20%20%20%20popup_ca346b2525a846768088673757f26b5f.setContent%28html_c7edcf8e0da54c1990acfebe46971111%29%3B%0A%20%20%20%20%20%20%20%20%0A%0A%20%20%20%20%20%20%20%20circle_marker_e251f1b7cfd842508145c3fafa2c7b0b.bindPopup%28popup_ca346b2525a846768088673757f26b5f%29%0A%20%20%20%20%20%20%20%20%3B%0A%0A%20%20%20%20%20%20%20%20%0A%20%20%20%20%0A%20%20%20%20%0A%20%20%20%20%20%20%20%20%20%20%20%20var%20circle_marker_527663d480a84703851ab0b75e0aed89%20%3D%20L.circleMarker%28%0A%20%20%20%20%20%20%20%20%20%20%20%20%20%20%20%20%5B-6.887974%2C%20107.612964%5D%2C%0A%20%20%20%20%20%20%20%20%20%20%20%20%20%20%20%20%7B%22bubblingMouseEvents%22%3A%20true%2C%20%22color%22%3A%20%22blue%22%2C%20%22dashArray%22%3A%20null%2C%20%22dashOffset%22%3A%20null%2C%20%22fill%22%3A%20true%2C%20%22fillColor%22%3A%20%22blue%22%2C%20%22fillOpacity%22%3A%200.6%2C%20%22fillRule%22%3A%20%22evenodd%22%2C%20%22lineCap%22%3A%20%22round%22%2C%20%22lineJoin%22%3A%20%22round%22%2C%20%22opacity%22%3A%201.0%2C%20%22radius%22%3A%205%2C%20%22stroke%22%3A%20true%2C%20%22weight%22%3A%203%7D%0A%20%20%20%20%20%20%20%20%20%20%20%20%29.addTo%28map_b9a22d7bd9104ff1a6d8ad0bcf7bb72a%29%3B%0A%20%20%20%20%20%20%20%20%0A%20%20%20%20%0A%20%20%20%20%20%20%20%20var%20popup_7d013073ef484d9689d0dd75b0a653f0%20%3D%20L.popup%28%7B%22maxWidth%22%3A%20%22100%25%22%7D%29%3B%0A%0A%20%20%20%20%20%20%20%20%0A%20%20%20%20%20%20%20%20%20%20%20%20var%20html_2ae8c14177b4444fb3d312cab30ea97a%20%3D%20%24%28%60%3Cdiv%20id%3D%22html_2ae8c14177b4444fb3d312cab30ea97a%22%20style%3D%22width%3A%20100.0%25%3B%20height%3A%20100.0%25%3B%22%3EHotel%20Safari%20Garden%3C/div%3E%60%29%5B0%5D%3B%0A%20%20%20%20%20%20%20%20%20%20%20%20popup_7d013073ef484d9689d0dd75b0a653f0.setContent%28html_2ae8c14177b4444fb3d312cab30ea97a%29%3B%0A%20%20%20%20%20%20%20%20%0A%0A%20%20%20%20%20%20%20%20circle_marker_527663d480a84703851ab0b75e0aed89.bindPopup%28popup_7d013073ef484d9689d0dd75b0a653f0%29%0A%20%20%20%20%20%20%20%20%3B%0A%0A%20%20%20%20%20%20%20%20%0A%20%20%20%20%0A%20%20%20%20%0A%20%20%20%20%20%20%20%20%20%20%20%20var%20circle_marker_bd385c8466e047c8a1cf4631258cdb4f%20%3D%20L.circleMarker%28%0A%20%20%20%20%20%20%20%20%20%20%20%20%20%20%20%20%5B-6.886307%2C%20107.617765%5D%2C%0A%20%20%20%20%20%20%20%20%20%20%20%20%20%20%20%20%7B%22bubblingMouseEvents%22%3A%20true%2C%20%22color%22%3A%20%22blue%22%2C%20%22dashArray%22%3A%20null%2C%20%22dashOffset%22%3A%20null%2C%20%22fill%22%3A%20true%2C%20%22fillColor%22%3A%20%22blue%22%2C%20%22fillOpacity%22%3A%200.6%2C%20%22fillRule%22%3A%20%22evenodd%22%2C%20%22lineCap%22%3A%20%22round%22%2C%20%22lineJoin%22%3A%20%22round%22%2C%20%22opacity%22%3A%201.0%2C%20%22radius%22%3A%205%2C%20%22stroke%22%3A%20true%2C%20%22weight%22%3A%203%7D%0A%20%20%20%20%20%20%20%20%20%20%20%20%29.addTo%28map_b9a22d7bd9104ff1a6d8ad0bcf7bb72a%29%3B%0A%20%20%20%20%20%20%20%20%0A%20%20%20%20%0A%20%20%20%20%20%20%20%20var%20popup_b5df3c026036481b981697dace24a09d%20%3D%20L.popup%28%7B%22maxWidth%22%3A%20%22100%25%22%7D%29%3B%0A%0A%20%20%20%20%20%20%20%20%0A%20%20%20%20%20%20%20%20%20%20%20%20var%20html_d2fc76fe2db24b3dacf29121b275ef62%20%3D%20%24%28%60%3Cdiv%20id%3D%22html_d2fc76fe2db24b3dacf29121b275ef62%22%20style%3D%22width%3A%20100.0%25%3B%20height%3A%20100.0%25%3B%22%3EHotel%20Efita%3C/div%3E%60%29%5B0%5D%3B%0A%20%20%20%20%20%20%20%20%20%20%20%20popup_b5df3c026036481b981697dace24a09d.setContent%28html_d2fc76fe2db24b3dacf29121b275ef62%29%3B%0A%20%20%20%20%20%20%20%20%0A%0A%20%20%20%20%20%20%20%20circle_marker_bd385c8466e047c8a1cf4631258cdb4f.bindPopup%28popup_b5df3c026036481b981697dace24a09d%29%0A%20%20%20%20%20%20%20%20%3B%0A%0A%20%20%20%20%20%20%20%20%0A%20%20%20%20%0A%20%20%20%20%0A%20%20%20%20%20%20%20%20%20%20%20%20var%20circle_marker_b1968eb3c4bf4059a69f86e85ce420cb%20%3D%20L.circleMarker%28%0A%20%20%20%20%20%20%20%20%20%20%20%20%20%20%20%20%5B-6.8847102261%2C%20107.61337711%5D%2C%0A%20%20%20%20%20%20%20%20%20%20%20%20%20%20%20%20%7B%22bubblingMouseEvents%22%3A%20true%2C%20%22color%22%3A%20%22blue%22%2C%20%22dashArray%22%3A%20null%2C%20%22dashOffset%22%3A%20null%2C%20%22fill%22%3A%20true%2C%20%22fillColor%22%3A%20%22blue%22%2C%20%22fillOpacity%22%3A%200.6%2C%20%22fillRule%22%3A%20%22evenodd%22%2C%20%22lineCap%22%3A%20%22round%22%2C%20%22lineJoin%22%3A%20%22round%22%2C%20%22opacity%22%3A%201.0%2C%20%22radius%22%3A%205%2C%20%22stroke%22%3A%20true%2C%20%22weight%22%3A%203%7D%0A%20%20%20%20%20%20%20%20%20%20%20%20%29.addTo%28map_b9a22d7bd9104ff1a6d8ad0bcf7bb72a%29%3B%0A%20%20%20%20%20%20%20%20%0A%20%20%20%20%0A%20%20%20%20%20%20%20%20var%20popup_6d4a8eb6f40746c2981c19e8e52af6df%20%3D%20L.popup%28%7B%22maxWidth%22%3A%20%22100%25%22%7D%29%3B%0A%0A%20%20%20%20%20%20%20%20%0A%20%20%20%20%20%20%20%20%20%20%20%20var%20html_24bc0b6db237444c953271d8a90ba4ef%20%3D%20%24%28%60%3Cdiv%20id%3D%22html_24bc0b6db237444c953271d8a90ba4ef%22%20style%3D%22width%3A%20100.0%25%3B%20height%3A%20100.0%25%3B%22%3EHotel%20Shangri-La%3C/div%3E%60%29%5B0%5D%3B%0A%20%20%20%20%20%20%20%20%20%20%20%20popup_6d4a8eb6f40746c2981c19e8e52af6df.setContent%28html_24bc0b6db237444c953271d8a90ba4ef%29%3B%0A%20%20%20%20%20%20%20%20%0A%0A%20%20%20%20%20%20%20%20circle_marker_b1968eb3c4bf4059a69f86e85ce420cb.bindPopup%28popup_6d4a8eb6f40746c2981c19e8e52af6df%29%0A%20%20%20%20%20%20%20%20%3B%0A%0A%20%20%20%20%20%20%20%20%0A%20%20%20%20%0A%20%20%20%20%0A%20%20%20%20%20%20%20%20%20%20%20%20var%20circle_marker_e37d37233a2b44c39c3a56cd6110aedf%20%3D%20L.circleMarker%28%0A%20%20%20%20%20%20%20%20%20%20%20%20%20%20%20%20%5B-6.887748%2C%20107.6139007%5D%2C%0A%20%20%20%20%20%20%20%20%20%20%20%20%20%20%20%20%7B%22bubblingMouseEvents%22%3A%20true%2C%20%22color%22%3A%20%22blue%22%2C%20%22dashArray%22%3A%20null%2C%20%22dashOffset%22%3A%20null%2C%20%22fill%22%3A%20true%2C%20%22fillColor%22%3A%20%22blue%22%2C%20%22fillOpacity%22%3A%200.6%2C%20%22fillRule%22%3A%20%22evenodd%22%2C%20%22lineCap%22%3A%20%22round%22%2C%20%22lineJoin%22%3A%20%22round%22%2C%20%22opacity%22%3A%201.0%2C%20%22radius%22%3A%205%2C%20%22stroke%22%3A%20true%2C%20%22weight%22%3A%203%7D%0A%20%20%20%20%20%20%20%20%20%20%20%20%29.addTo%28map_b9a22d7bd9104ff1a6d8ad0bcf7bb72a%29%3B%0A%20%20%20%20%20%20%20%20%0A%20%20%20%20%0A%20%20%20%20%20%20%20%20var%20popup_68ecbc08990647d3bccbe972c5ecfb53%20%3D%20L.popup%28%7B%22maxWidth%22%3A%20%22100%25%22%7D%29%3B%0A%0A%20%20%20%20%20%20%20%20%0A%20%20%20%20%20%20%20%20%20%20%20%20var%20html_ecb2e8b148b147fbae91a77a9ea3544e%20%3D%20%24%28%60%3Cdiv%20id%3D%22html_ecb2e8b148b147fbae91a77a9ea3544e%22%20style%3D%22width%3A%20100.0%25%3B%20height%3A%20100.0%25%3B%22%3EPrime%20Park%20Hotel%3C/div%3E%60%29%5B0%5D%3B%0A%20%20%20%20%20%20%20%20%20%20%20%20popup_68ecbc08990647d3bccbe972c5ecfb53.setContent%28html_ecb2e8b148b147fbae91a77a9ea3544e%29%3B%0A%20%20%20%20%20%20%20%20%0A%0A%20%20%20%20%20%20%20%20circle_marker_e37d37233a2b44c39c3a56cd6110aedf.bindPopup%28popup_68ecbc08990647d3bccbe972c5ecfb53%29%0A%20%20%20%20%20%20%20%20%3B%0A%0A%20%20%20%20%20%20%20%20%0A%20%20%20%20%0A%20%20%20%20%0A%20%20%20%20%20%20%20%20%20%20%20%20var%20circle_marker_3eac2c2d9b1041c28e5c40aa58e95de7%20%3D%20L.circleMarker%28%0A%20%20%20%20%20%20%20%20%20%20%20%20%20%20%20%20%5B-6.885684%2C%20107.614102%5D%2C%0A%20%20%20%20%20%20%20%20%20%20%20%20%20%20%20%20%7B%22bubblingMouseEvents%22%3A%20true%2C%20%22color%22%3A%20%22blue%22%2C%20%22dashArray%22%3A%20null%2C%20%22dashOffset%22%3A%20null%2C%20%22fill%22%3A%20true%2C%20%22fillColor%22%3A%20%22blue%22%2C%20%22fillOpacity%22%3A%200.6%2C%20%22fillRule%22%3A%20%22evenodd%22%2C%20%22lineCap%22%3A%20%22round%22%2C%20%22lineJoin%22%3A%20%22round%22%2C%20%22opacity%22%3A%201.0%2C%20%22radius%22%3A%205%2C%20%22stroke%22%3A%20true%2C%20%22weight%22%3A%203%7D%0A%20%20%20%20%20%20%20%20%20%20%20%20%29.addTo%28map_b9a22d7bd9104ff1a6d8ad0bcf7bb72a%29%3B%0A%20%20%20%20%20%20%20%20%0A%20%20%20%20%0A%20%20%20%20%20%20%20%20var%20popup_ae74f38d43a74b1cbc3bdba2d51bdf54%20%3D%20L.popup%28%7B%22maxWidth%22%3A%20%22100%25%22%7D%29%3B%0A%0A%20%20%20%20%20%20%20%20%0A%20%20%20%20%20%20%20%20%20%20%20%20var%20html_4c4b2fb36cbd4df38206b456f3e68878%20%3D%20%24%28%60%3Cdiv%20id%3D%22html_4c4b2fb36cbd4df38206b456f3e68878%22%20style%3D%22width%3A%20100.0%25%3B%20height%3A%20100.0%25%3B%22%3EProyek%20Hotel%20Lor%20In%20Lembang%3C/div%3E%60%29%5B0%5D%3B%0A%20%20%20%20%20%20%20%20%20%20%20%20popup_ae74f38d43a74b1cbc3bdba2d51bdf54.setContent%28html_4c4b2fb36cbd4df38206b456f3e68878%29%3B%0A%20%20%20%20%20%20%20%20%0A%0A%20%20%20%20%20%20%20%20circle_marker_3eac2c2d9b1041c28e5c40aa58e95de7.bindPopup%28popup_ae74f38d43a74b1cbc3bdba2d51bdf54%29%0A%20%20%20%20%20%20%20%20%3B%0A%0A%20%20%20%20%20%20%20%20%0A%20%20%20%20%0A%20%20%20%20%0A%20%20%20%20%20%20%20%20%20%20%20%20var%20circle_marker_e0d50d98d0ea4c949941c93ab4b4d2f0%20%3D%20L.circleMarker%28%0A%20%20%20%20%20%20%20%20%20%20%20%20%20%20%20%20%5B-6.88681972802762%2C%20107.61359898723222%5D%2C%0A%20%20%20%20%20%20%20%20%20%20%20%20%20%20%20%20%7B%22bubblingMouseEvents%22%3A%20true%2C%20%22color%22%3A%20%22blue%22%2C%20%22dashArray%22%3A%20null%2C%20%22dashOffset%22%3A%20null%2C%20%22fill%22%3A%20true%2C%20%22fillColor%22%3A%20%22blue%22%2C%20%22fillOpacity%22%3A%200.6%2C%20%22fillRule%22%3A%20%22evenodd%22%2C%20%22lineCap%22%3A%20%22round%22%2C%20%22lineJoin%22%3A%20%22round%22%2C%20%22opacity%22%3A%201.0%2C%20%22radius%22%3A%205%2C%20%22stroke%22%3A%20true%2C%20%22weight%22%3A%203%7D%0A%20%20%20%20%20%20%20%20%20%20%20%20%29.addTo%28map_b9a22d7bd9104ff1a6d8ad0bcf7bb72a%29%3B%0A%20%20%20%20%20%20%20%20%0A%20%20%20%20%0A%20%20%20%20%20%20%20%20var%20popup_cc161259dcfa40d69dc7e5801bbc4f8f%20%3D%20L.popup%28%7B%22maxWidth%22%3A%20%22100%25%22%7D%29%3B%0A%0A%20%20%20%20%20%20%20%20%0A%20%20%20%20%20%20%20%20%20%20%20%20var%20html_55b520563e8844bc9d308a7f333c5aaf%20%3D%20%24%28%60%3Cdiv%20id%3D%22html_55b520563e8844bc9d308a7f333c5aaf%22%20style%3D%22width%3A%20100.0%25%3B%20height%3A%20100.0%25%3B%22%3EWirton%20Hotel%3C/div%3E%60%29%5B0%5D%3B%0A%20%20%20%20%20%20%20%20%20%20%20%20popup_cc161259dcfa40d69dc7e5801bbc4f8f.setContent%28html_55b520563e8844bc9d308a7f333c5aaf%29%3B%0A%20%20%20%20%20%20%20%20%0A%0A%20%20%20%20%20%20%20%20circle_marker_e0d50d98d0ea4c949941c93ab4b4d2f0.bindPopup%28popup_cc161259dcfa40d69dc7e5801bbc4f8f%29%0A%20%20%20%20%20%20%20%20%3B%0A%0A%20%20%20%20%20%20%20%20%0A%20%20%20%20%0A%20%20%20%20%0A%20%20%20%20%20%20%20%20%20%20%20%20var%20circle_marker_445ea26effca405abb15f7b9ea11ee72%20%3D%20L.circleMarker%28%0A%20%20%20%20%20%20%20%20%20%20%20%20%20%20%20%20%5B-6.8882545%2C%20107.6157982%5D%2C%0A%20%20%20%20%20%20%20%20%20%20%20%20%20%20%20%20%7B%22bubblingMouseEvents%22%3A%20true%2C%20%22color%22%3A%20%22blue%22%2C%20%22dashArray%22%3A%20null%2C%20%22dashOffset%22%3A%20null%2C%20%22fill%22%3A%20true%2C%20%22fillColor%22%3A%20%22blue%22%2C%20%22fillOpacity%22%3A%200.6%2C%20%22fillRule%22%3A%20%22evenodd%22%2C%20%22lineCap%22%3A%20%22round%22%2C%20%22lineJoin%22%3A%20%22round%22%2C%20%22opacity%22%3A%201.0%2C%20%22radius%22%3A%205%2C%20%22stroke%22%3A%20true%2C%20%22weight%22%3A%203%7D%0A%20%20%20%20%20%20%20%20%20%20%20%20%29.addTo%28map_b9a22d7bd9104ff1a6d8ad0bcf7bb72a%29%3B%0A%20%20%20%20%20%20%20%20%0A%20%20%20%20%0A%20%20%20%20%20%20%20%20var%20popup_d40318d82ea1449a8cafd9a01f0d2a3e%20%3D%20L.popup%28%7B%22maxWidth%22%3A%20%22100%25%22%7D%29%3B%0A%0A%20%20%20%20%20%20%20%20%0A%20%20%20%20%20%20%20%20%20%20%20%20var%20html_5ebcda0dbcb84cc68e725fe80dcaa6e7%20%3D%20%24%28%60%3Cdiv%20id%3D%22html_5ebcda0dbcb84cc68e725fe80dcaa6e7%22%20style%3D%22width%3A%20100.0%25%3B%20height%3A%20100.0%25%3B%22%3ECrowne%20Hotel%3C/div%3E%60%29%5B0%5D%3B%0A%20%20%20%20%20%20%20%20%20%20%20%20popup_d40318d82ea1449a8cafd9a01f0d2a3e.setContent%28html_5ebcda0dbcb84cc68e725fe80dcaa6e7%29%3B%0A%20%20%20%20%20%20%20%20%0A%0A%20%20%20%20%20%20%20%20circle_marker_445ea26effca405abb15f7b9ea11ee72.bindPopup%28popup_d40318d82ea1449a8cafd9a01f0d2a3e%29%0A%20%20%20%20%20%20%20%20%3B%0A%0A%20%20%20%20%20%20%20%20%0A%20%20%20%20%0A%20%20%20%20%0A%20%20%20%20%20%20%20%20%20%20%20%20var%20circle_marker_45b0b4707ca34f7883e4dbc6ec6ea180%20%3D%20L.circleMarker%28%0A%20%20%20%20%20%20%20%20%20%20%20%20%20%20%20%20%5B-6.887248%2C%20107.616684%5D%2C%0A%20%20%20%20%20%20%20%20%20%20%20%20%20%20%20%20%7B%22bubblingMouseEvents%22%3A%20true%2C%20%22color%22%3A%20%22blue%22%2C%20%22dashArray%22%3A%20null%2C%20%22dashOffset%22%3A%20null%2C%20%22fill%22%3A%20true%2C%20%22fillColor%22%3A%20%22blue%22%2C%20%22fillOpacity%22%3A%200.6%2C%20%22fillRule%22%3A%20%22evenodd%22%2C%20%22lineCap%22%3A%20%22round%22%2C%20%22lineJoin%22%3A%20%22round%22%2C%20%22opacity%22%3A%201.0%2C%20%22radius%22%3A%205%2C%20%22stroke%22%3A%20true%2C%20%22weight%22%3A%203%7D%0A%20%20%20%20%20%20%20%20%20%20%20%20%29.addTo%28map_b9a22d7bd9104ff1a6d8ad0bcf7bb72a%29%3B%0A%20%20%20%20%20%20%20%20%0A%20%20%20%20%0A%20%20%20%20%20%20%20%20var%20popup_4d5901d94d84477abfc492c1662bb9f8%20%3D%20L.popup%28%7B%22maxWidth%22%3A%20%22100%25%22%7D%29%3B%0A%0A%20%20%20%20%20%20%20%20%0A%20%20%20%20%20%20%20%20%20%20%20%20var%20html_14d5d5001a6b42b1b26ea23b8549cad4%20%3D%20%24%28%60%3Cdiv%20id%3D%22html_14d5d5001a6b42b1b26ea23b8549cad4%22%20style%3D%22width%3A%20100.0%25%3B%20height%3A%20100.0%25%3B%22%3EGrand%20Ball%20Room%20Panghegar%20Hotel%3C/div%3E%60%29%5B0%5D%3B%0A%20%20%20%20%20%20%20%20%20%20%20%20popup_4d5901d94d84477abfc492c1662bb9f8.setContent%28html_14d5d5001a6b42b1b26ea23b8549cad4%29%3B%0A%20%20%20%20%20%20%20%20%0A%0A%20%20%20%20%20%20%20%20circle_marker_45b0b4707ca34f7883e4dbc6ec6ea180.bindPopup%28popup_4d5901d94d84477abfc492c1662bb9f8%29%0A%20%20%20%20%20%20%20%20%3B%0A%0A%20%20%20%20%20%20%20%20%0A%20%20%20%20%0A%20%20%20%20%0A%20%20%20%20%20%20%20%20%20%20%20%20var%20circle_marker_fcd6a39100534b989c989178d30ab7ec%20%3D%20L.circleMarker%28%0A%20%20%20%20%20%20%20%20%20%20%20%20%20%20%20%20%5B-6.8884501%2C%20107.6161931%5D%2C%0A%20%20%20%20%20%20%20%20%20%20%20%20%20%20%20%20%7B%22bubblingMouseEvents%22%3A%20true%2C%20%22color%22%3A%20%22blue%22%2C%20%22dashArray%22%3A%20null%2C%20%22dashOffset%22%3A%20null%2C%20%22fill%22%3A%20true%2C%20%22fillColor%22%3A%20%22blue%22%2C%20%22fillOpacity%22%3A%200.6%2C%20%22fillRule%22%3A%20%22evenodd%22%2C%20%22lineCap%22%3A%20%22round%22%2C%20%22lineJoin%22%3A%20%22round%22%2C%20%22opacity%22%3A%201.0%2C%20%22radius%22%3A%205%2C%20%22stroke%22%3A%20true%2C%20%22weight%22%3A%203%7D%0A%20%20%20%20%20%20%20%20%20%20%20%20%29.addTo%28map_b9a22d7bd9104ff1a6d8ad0bcf7bb72a%29%3B%0A%20%20%20%20%20%20%20%20%0A%20%20%20%20%0A%20%20%20%20%20%20%20%20var%20popup_fba45e29eba04135ad887bfc6d5bc309%20%3D%20L.popup%28%7B%22maxWidth%22%3A%20%22100%25%22%7D%29%3B%0A%0A%20%20%20%20%20%20%20%20%0A%20%20%20%20%20%20%20%20%20%20%20%20var%20html_150982f520bd4832bfe793ffef6a0fd5%20%3D%20%24%28%60%3Cdiv%20id%3D%22html_150982f520bd4832bfe793ffef6a0fd5%22%20style%3D%22width%3A%20100.0%25%3B%20height%3A%20100.0%25%3B%22%3EFitness%20Center%20Galeri%20Ciumbuleuit%20Hotel%20%26%20Apartment%3C/div%3E%60%29%5B0%5D%3B%0A%20%20%20%20%20%20%20%20%20%20%20%20popup_fba45e29eba04135ad887bfc6d5bc309.setContent%28html_150982f520bd4832bfe793ffef6a0fd5%29%3B%0A%20%20%20%20%20%20%20%20%0A%0A%20%20%20%20%20%20%20%20circle_marker_fcd6a39100534b989c989178d30ab7ec.bindPopup%28popup_fba45e29eba04135ad887bfc6d5bc309%29%0A%20%20%20%20%20%20%20%20%3B%0A%0A%20%20%20%20%20%20%20%20%0A%20%20%20%20%0A%20%20%20%20%0A%20%20%20%20%20%20%20%20%20%20%20%20var%20circle_marker_eb8bed63cbd749f99f9a30344a0036b3%20%3D%20L.circleMarker%28%0A%20%20%20%20%20%20%20%20%20%20%20%20%20%20%20%20%5B-6.8889864%2C%20107.6187058%5D%2C%0A%20%20%20%20%20%20%20%20%20%20%20%20%20%20%20%20%7B%22bubblingMouseEvents%22%3A%20true%2C%20%22color%22%3A%20%22blue%22%2C%20%22dashArray%22%3A%20null%2C%20%22dashOffset%22%3A%20null%2C%20%22fill%22%3A%20true%2C%20%22fillColor%22%3A%20%22blue%22%2C%20%22fillOpacity%22%3A%200.6%2C%20%22fillRule%22%3A%20%22evenodd%22%2C%20%22lineCap%22%3A%20%22round%22%2C%20%22lineJoin%22%3A%20%22round%22%2C%20%22opacity%22%3A%201.0%2C%20%22radius%22%3A%205%2C%20%22stroke%22%3A%20true%2C%20%22weight%22%3A%203%7D%0A%20%20%20%20%20%20%20%20%20%20%20%20%29.addTo%28map_b9a22d7bd9104ff1a6d8ad0bcf7bb72a%29%3B%0A%20%20%20%20%20%20%20%20%0A%20%20%20%20%0A%20%20%20%20%20%20%20%20var%20popup_c24f803052274f73854285eaa95356b1%20%3D%20L.popup%28%7B%22maxWidth%22%3A%20%22100%25%22%7D%29%3B%0A%0A%20%20%20%20%20%20%20%20%0A%20%20%20%20%20%20%20%20%20%20%20%20var%20html_d84b400f44304657a4647fd36e3a1e8e%20%3D%20%24%28%60%3Cdiv%20id%3D%22html_d84b400f44304657a4647fd36e3a1e8e%22%20style%3D%22width%3A%20100.0%25%3B%20height%3A%20100.0%25%3B%22%3EHotel%20Cemerlang%3C/div%3E%60%29%5B0%5D%3B%0A%20%20%20%20%20%20%20%20%20%20%20%20popup_c24f803052274f73854285eaa95356b1.setContent%28html_d84b400f44304657a4647fd36e3a1e8e%29%3B%0A%20%20%20%20%20%20%20%20%0A%0A%20%20%20%20%20%20%20%20circle_marker_eb8bed63cbd749f99f9a30344a0036b3.bindPopup%28popup_c24f803052274f73854285eaa95356b1%29%0A%20%20%20%20%20%20%20%20%3B%0A%0A%20%20%20%20%20%20%20%20%0A%20%20%20%20%0A%20%20%20%20%0A%20%20%20%20%20%20%20%20%20%20%20%20var%20circle_marker_85d7741bfcdc4f3e92d9d09bba94c83e%20%3D%20L.circleMarker%28%0A%20%20%20%20%20%20%20%20%20%20%20%20%20%20%20%20%5B-6.890589006551039%2C%20107.61699184184485%5D%2C%0A%20%20%20%20%20%20%20%20%20%20%20%20%20%20%20%20%7B%22bubblingMouseEvents%22%3A%20true%2C%20%22color%22%3A%20%22blue%22%2C%20%22dashArray%22%3A%20null%2C%20%22dashOffset%22%3A%20null%2C%20%22fill%22%3A%20true%2C%20%22fillColor%22%3A%20%22blue%22%2C%20%22fillOpacity%22%3A%200.6%2C%20%22fillRule%22%3A%20%22evenodd%22%2C%20%22lineCap%22%3A%20%22round%22%2C%20%22lineJoin%22%3A%20%22round%22%2C%20%22opacity%22%3A%201.0%2C%20%22radius%22%3A%205%2C%20%22stroke%22%3A%20true%2C%20%22weight%22%3A%203%7D%0A%20%20%20%20%20%20%20%20%20%20%20%20%29.addTo%28map_b9a22d7bd9104ff1a6d8ad0bcf7bb72a%29%3B%0A%20%20%20%20%20%20%20%20%0A%20%20%20%20%0A%20%20%20%20%20%20%20%20var%20popup_7aa2e55f5b8d48f1815e1db4c9085f40%20%3D%20L.popup%28%7B%22maxWidth%22%3A%20%22100%25%22%7D%29%3B%0A%0A%20%20%20%20%20%20%20%20%0A%20%20%20%20%20%20%20%20%20%20%20%20var%20html_97ada8d2432c40c299c3c8a0d3e9f156%20%3D%20%24%28%60%3Cdiv%20id%3D%22html_97ada8d2432c40c299c3c8a0d3e9f156%22%20style%3D%22width%3A%20100.0%25%3B%20height%3A%20100.0%25%3B%22%3EHotel%20Arimbi%20Stasion%3C/div%3E%60%29%5B0%5D%3B%0A%20%20%20%20%20%20%20%20%20%20%20%20popup_7aa2e55f5b8d48f1815e1db4c9085f40.setContent%28html_97ada8d2432c40c299c3c8a0d3e9f156%29%3B%0A%20%20%20%20%20%20%20%20%0A%0A%20%20%20%20%20%20%20%20circle_marker_85d7741bfcdc4f3e92d9d09bba94c83e.bindPopup%28popup_7aa2e55f5b8d48f1815e1db4c9085f40%29%0A%20%20%20%20%20%20%20%20%3B%0A%0A%20%20%20%20%20%20%20%20%0A%20%20%20%20%0A%20%20%20%20%0A%20%20%20%20%20%20%20%20%20%20%20%20var%20circle_marker_1c4c654083104b4cba5e18662a3bf91a%20%3D%20L.circleMarker%28%0A%20%20%20%20%20%20%20%20%20%20%20%20%20%20%20%20%5B-6.8852469%2C%20107.6138134%5D%2C%0A%20%20%20%20%20%20%20%20%20%20%20%20%20%20%20%20%7B%22bubblingMouseEvents%22%3A%20true%2C%20%22color%22%3A%20%22blue%22%2C%20%22dashArray%22%3A%20null%2C%20%22dashOffset%22%3A%20null%2C%20%22fill%22%3A%20true%2C%20%22fillColor%22%3A%20%22blue%22%2C%20%22fillOpacity%22%3A%200.6%2C%20%22fillRule%22%3A%20%22evenodd%22%2C%20%22lineCap%22%3A%20%22round%22%2C%20%22lineJoin%22%3A%20%22round%22%2C%20%22opacity%22%3A%201.0%2C%20%22radius%22%3A%205%2C%20%22stroke%22%3A%20true%2C%20%22weight%22%3A%203%7D%0A%20%20%20%20%20%20%20%20%20%20%20%20%29.addTo%28map_b9a22d7bd9104ff1a6d8ad0bcf7bb72a%29%3B%0A%20%20%20%20%20%20%20%20%0A%20%20%20%20%0A%20%20%20%20%20%20%20%20var%20popup_a51ef19604af4531b7b28df0af017348%20%3D%20L.popup%28%7B%22maxWidth%22%3A%20%22100%25%22%7D%29%3B%0A%0A%20%20%20%20%20%20%20%20%0A%20%20%20%20%20%20%20%20%20%20%20%20var%20html_6f3ae53f953447d38c76b0d6f2b43498%20%3D%20%24%28%60%3Cdiv%20id%3D%22html_6f3ae53f953447d38c76b0d6f2b43498%22%20style%3D%22width%3A%20100.0%25%3B%20height%3A%20100.0%25%3B%22%3ESheo%20Resort%20Hotel%3C/div%3E%60%29%5B0%5D%3B%0A%20%20%20%20%20%20%20%20%20%20%20%20popup_a51ef19604af4531b7b28df0af017348.setContent%28html_6f3ae53f953447d38c76b0d6f2b43498%29%3B%0A%20%20%20%20%20%20%20%20%0A%0A%20%20%20%20%20%20%20%20circle_marker_1c4c654083104b4cba5e18662a3bf91a.bindPopup%28popup_a51ef19604af4531b7b28df0af017348%29%0A%20%20%20%20%20%20%20%20%3B%0A%0A%20%20%20%20%20%20%20%20%0A%20%20%20%20%0A%20%20%20%20%0A%20%20%20%20%20%20%20%20%20%20%20%20var%20circle_marker_3e48397b616d48c5a076221079bf32cf%20%3D%20L.circleMarker%28%0A%20%20%20%20%20%20%20%20%20%20%20%20%20%20%20%20%5B-6.884835587050501%2C%20107.61125811563149%5D%2C%0A%20%20%20%20%20%20%20%20%20%20%20%20%20%20%20%20%7B%22bubblingMouseEvents%22%3A%20true%2C%20%22color%22%3A%20%22blue%22%2C%20%22dashArray%22%3A%20null%2C%20%22dashOffset%22%3A%20null%2C%20%22fill%22%3A%20true%2C%20%22fillColor%22%3A%20%22blue%22%2C%20%22fillOpacity%22%3A%200.6%2C%20%22fillRule%22%3A%20%22evenodd%22%2C%20%22lineCap%22%3A%20%22round%22%2C%20%22lineJoin%22%3A%20%22round%22%2C%20%22opacity%22%3A%201.0%2C%20%22radius%22%3A%205%2C%20%22stroke%22%3A%20true%2C%20%22weight%22%3A%203%7D%0A%20%20%20%20%20%20%20%20%20%20%20%20%29.addTo%28map_b9a22d7bd9104ff1a6d8ad0bcf7bb72a%29%3B%0A%20%20%20%20%20%20%20%20%0A%20%20%20%20%0A%20%20%20%20%20%20%20%20var%20popup_607ebf522a08495b8b1531d9c5914ec3%20%3D%20L.popup%28%7B%22maxWidth%22%3A%20%22100%25%22%7D%29%3B%0A%0A%20%20%20%20%20%20%20%20%0A%20%20%20%20%20%20%20%20%20%20%20%20var%20html_4ef8a4271bfd47e08650c82e0fdc2aba%20%3D%20%24%28%60%3Cdiv%20id%3D%22html_4ef8a4271bfd47e08650c82e0fdc2aba%22%20style%3D%22width%3A%20100.0%25%3B%20height%3A%20100.0%25%3B%22%3EHotel%20Scarlet%3C/div%3E%60%29%5B0%5D%3B%0A%20%20%20%20%20%20%20%20%20%20%20%20popup_607ebf522a08495b8b1531d9c5914ec3.setContent%28html_4ef8a4271bfd47e08650c82e0fdc2aba%29%3B%0A%20%20%20%20%20%20%20%20%0A%0A%20%20%20%20%20%20%20%20circle_marker_3e48397b616d48c5a076221079bf32cf.bindPopup%28popup_607ebf522a08495b8b1531d9c5914ec3%29%0A%20%20%20%20%20%20%20%20%3B%0A%0A%20%20%20%20%20%20%20%20%0A%20%20%20%20%0A%20%20%20%20%0A%20%20%20%20%20%20%20%20%20%20%20%20var%20circle_marker_e9f024b215cd4a61964d8d4d837281b7%20%3D%20L.circleMarker%28%0A%20%20%20%20%20%20%20%20%20%20%20%20%20%20%20%20%5B-6.885058%2C%20107.619329%5D%2C%0A%20%20%20%20%20%20%20%20%20%20%20%20%20%20%20%20%7B%22bubblingMouseEvents%22%3A%20true%2C%20%22color%22%3A%20%22blue%22%2C%20%22dashArray%22%3A%20null%2C%20%22dashOffset%22%3A%20null%2C%20%22fill%22%3A%20true%2C%20%22fillColor%22%3A%20%22blue%22%2C%20%22fillOpacity%22%3A%200.6%2C%20%22fillRule%22%3A%20%22evenodd%22%2C%20%22lineCap%22%3A%20%22round%22%2C%20%22lineJoin%22%3A%20%22round%22%2C%20%22opacity%22%3A%201.0%2C%20%22radius%22%3A%205%2C%20%22stroke%22%3A%20true%2C%20%22weight%22%3A%203%7D%0A%20%20%20%20%20%20%20%20%20%20%20%20%29.addTo%28map_b9a22d7bd9104ff1a6d8ad0bcf7bb72a%29%3B%0A%20%20%20%20%20%20%20%20%0A%20%20%20%20%0A%20%20%20%20%20%20%20%20var%20popup_bc2a91bf965743edb04f207362cc14a7%20%3D%20L.popup%28%7B%22maxWidth%22%3A%20%22100%25%22%7D%29%3B%0A%0A%20%20%20%20%20%20%20%20%0A%20%20%20%20%20%20%20%20%20%20%20%20var%20html_a3aaf9c55c134704b22285bfc53ae280%20%3D%20%24%28%60%3Cdiv%20id%3D%22html_a3aaf9c55c134704b22285bfc53ae280%22%20style%3D%22width%3A%20100.0%25%3B%20height%3A%20100.0%25%3B%22%3EHotel%20Lotus%3C/div%3E%60%29%5B0%5D%3B%0A%20%20%20%20%20%20%20%20%20%20%20%20popup_bc2a91bf965743edb04f207362cc14a7.setContent%28html_a3aaf9c55c134704b22285bfc53ae280%29%3B%0A%20%20%20%20%20%20%20%20%0A%0A%20%20%20%20%20%20%20%20circle_marker_e9f024b215cd4a61964d8d4d837281b7.bindPopup%28popup_bc2a91bf965743edb04f207362cc14a7%29%0A%20%20%20%20%20%20%20%20%3B%0A%0A%20%20%20%20%20%20%20%20%0A%20%20%20%20%0A%20%20%20%20%0A%20%20%20%20%20%20%20%20%20%20%20%20var%20circle_marker_fc1ac3f1cde44cefbe1f9498c7309b95%20%3D%20L.circleMarker%28%0A%20%20%20%20%20%20%20%20%20%20%20%20%20%20%20%20%5B-6.8880473%2C%20107.6169548%5D%2C%0A%20%20%20%20%20%20%20%20%20%20%20%20%20%20%20%20%7B%22bubblingMouseEvents%22%3A%20true%2C%20%22color%22%3A%20%22blue%22%2C%20%22dashArray%22%3A%20null%2C%20%22dashOffset%22%3A%20null%2C%20%22fill%22%3A%20true%2C%20%22fillColor%22%3A%20%22blue%22%2C%20%22fillOpacity%22%3A%200.6%2C%20%22fillRule%22%3A%20%22evenodd%22%2C%20%22lineCap%22%3A%20%22round%22%2C%20%22lineJoin%22%3A%20%22round%22%2C%20%22opacity%22%3A%201.0%2C%20%22radius%22%3A%205%2C%20%22stroke%22%3A%20true%2C%20%22weight%22%3A%203%7D%0A%20%20%20%20%20%20%20%20%20%20%20%20%29.addTo%28map_b9a22d7bd9104ff1a6d8ad0bcf7bb72a%29%3B%0A%20%20%20%20%20%20%20%20%0A%20%20%20%20%0A%20%20%20%20%20%20%20%20var%20popup_898d01da30494a8f8026ae326c96d052%20%3D%20L.popup%28%7B%22maxWidth%22%3A%20%22100%25%22%7D%29%3B%0A%0A%20%20%20%20%20%20%20%20%0A%20%20%20%20%20%20%20%20%20%20%20%20var%20html_7d38655bc3674f3cb7b259f370b955f0%20%3D%20%24%28%60%3Cdiv%20id%3D%22html_7d38655bc3674f3cb7b259f370b955f0%22%20style%3D%22width%3A%20100.0%25%3B%20height%3A%20100.0%25%3B%22%3EGrand%20Kopo%20Hotel%3C/div%3E%60%29%5B0%5D%3B%0A%20%20%20%20%20%20%20%20%20%20%20%20popup_898d01da30494a8f8026ae326c96d052.setContent%28html_7d38655bc3674f3cb7b259f370b955f0%29%3B%0A%20%20%20%20%20%20%20%20%0A%0A%20%20%20%20%20%20%20%20circle_marker_fc1ac3f1cde44cefbe1f9498c7309b95.bindPopup%28popup_898d01da30494a8f8026ae326c96d052%29%0A%20%20%20%20%20%20%20%20%3B%0A%0A%20%20%20%20%20%20%20%20%0A%20%20%20%20%0A%20%20%20%20%0A%20%20%20%20%20%20%20%20%20%20%20%20var%20circle_marker_fdb420636ebd4894817b48e4094693fe%20%3D%20L.circleMarker%28%0A%20%20%20%20%20%20%20%20%20%20%20%20%20%20%20%20%5B-6.890862359357411%2C%20107.61667394055286%5D%2C%0A%20%20%20%20%20%20%20%20%20%20%20%20%20%20%20%20%7B%22bubblingMouseEvents%22%3A%20true%2C%20%22color%22%3A%20%22blue%22%2C%20%22dashArray%22%3A%20null%2C%20%22dashOffset%22%3A%20null%2C%20%22fill%22%3A%20true%2C%20%22fillColor%22%3A%20%22blue%22%2C%20%22fillOpacity%22%3A%200.6%2C%20%22fillRule%22%3A%20%22evenodd%22%2C%20%22lineCap%22%3A%20%22round%22%2C%20%22lineJoin%22%3A%20%22round%22%2C%20%22opacity%22%3A%201.0%2C%20%22radius%22%3A%205%2C%20%22stroke%22%3A%20true%2C%20%22weight%22%3A%203%7D%0A%20%20%20%20%20%20%20%20%20%20%20%20%29.addTo%28map_b9a22d7bd9104ff1a6d8ad0bcf7bb72a%29%3B%0A%20%20%20%20%20%20%20%20%0A%20%20%20%20%0A%20%20%20%20%20%20%20%20var%20popup_8a2349d337644d878442bcf8e39e9c98%20%3D%20L.popup%28%7B%22maxWidth%22%3A%20%22100%25%22%7D%29%3B%0A%0A%20%20%20%20%20%20%20%20%0A%20%20%20%20%20%20%20%20%20%20%20%20var%20html_afc84e4c6f04496db93ac74fb7cea0b1%20%3D%20%24%28%60%3Cdiv%20id%3D%22html_afc84e4c6f04496db93ac74fb7cea0b1%22%20style%3D%22width%3A%20100.0%25%3B%20height%3A%20100.0%25%3B%22%3EHotel%20Puri%20Gardenia%3C/div%3E%60%29%5B0%5D%3B%0A%20%20%20%20%20%20%20%20%20%20%20%20popup_8a2349d337644d878442bcf8e39e9c98.setContent%28html_afc84e4c6f04496db93ac74fb7cea0b1%29%3B%0A%20%20%20%20%20%20%20%20%0A%0A%20%20%20%20%20%20%20%20circle_marker_fdb420636ebd4894817b48e4094693fe.bindPopup%28popup_8a2349d337644d878442bcf8e39e9c98%29%0A%20%20%20%20%20%20%20%20%3B%0A%0A%20%20%20%20%20%20%20%20%0A%20%20%20%20%0A%20%20%20%20%0A%20%20%20%20%20%20%20%20%20%20%20%20var%20circle_marker_8485c691392f45ddaad4b711b5a503d9%20%3D%20L.circleMarker%28%0A%20%20%20%20%20%20%20%20%20%20%20%20%20%20%20%20%5B-6.8830523%2C%20107.6182874%5D%2C%0A%20%20%20%20%20%20%20%20%20%20%20%20%20%20%20%20%7B%22bubblingMouseEvents%22%3A%20true%2C%20%22color%22%3A%20%22blue%22%2C%20%22dashArray%22%3A%20null%2C%20%22dashOffset%22%3A%20null%2C%20%22fill%22%3A%20true%2C%20%22fillColor%22%3A%20%22blue%22%2C%20%22fillOpacity%22%3A%200.6%2C%20%22fillRule%22%3A%20%22evenodd%22%2C%20%22lineCap%22%3A%20%22round%22%2C%20%22lineJoin%22%3A%20%22round%22%2C%20%22opacity%22%3A%201.0%2C%20%22radius%22%3A%205%2C%20%22stroke%22%3A%20true%2C%20%22weight%22%3A%203%7D%0A%20%20%20%20%20%20%20%20%20%20%20%20%29.addTo%28map_b9a22d7bd9104ff1a6d8ad0bcf7bb72a%29%3B%0A%20%20%20%20%20%20%20%20%0A%20%20%20%20%0A%20%20%20%20%20%20%20%20var%20popup_41022609b59a46b2b24732d480f86999%20%3D%20L.popup%28%7B%22maxWidth%22%3A%20%22100%25%22%7D%29%3B%0A%0A%20%20%20%20%20%20%20%20%0A%20%20%20%20%20%20%20%20%20%20%20%20var%20html_352eedd28878427792f63695a6a728f2%20%3D%20%24%28%60%3Cdiv%20id%3D%22html_352eedd28878427792f63695a6a728f2%22%20style%3D%22width%3A%20100.0%25%3B%20height%3A%20100.0%25%3B%22%3EHotel%20Alila%20Villas%20Soori%2C%20Tabanan%20%2CBali%3C/div%3E%60%29%5B0%5D%3B%0A%20%20%20%20%20%20%20%20%20%20%20%20popup_41022609b59a46b2b24732d480f86999.setContent%28html_352eedd28878427792f63695a6a728f2%29%3B%0A%20%20%20%20%20%20%20%20%0A%0A%20%20%20%20%20%20%20%20circle_marker_8485c691392f45ddaad4b711b5a503d9.bindPopup%28popup_41022609b59a46b2b24732d480f86999%29%0A%20%20%20%20%20%20%20%20%3B%0A%0A%20%20%20%20%20%20%20%20%0A%20%20%20%20%0A%3C/script%3E onload=\"this.contentDocument.open();this.contentDocument.write(    decodeURIComponent(this.getAttribute('data-html')));this.contentDocument.close();\" allowfullscreen webkitallowfullscreen mozallowfullscreen></iframe></div></div>"
                    },
                    "metadata": {}
                }
            ]
        },
        {
            "metadata": {},
            "cell_type": "markdown",
            "source": "### 2. Explore Places near the hotels"
        },
        {
            "metadata": {},
            "cell_type": "code",
            "source": "# function to add places near the hotel\ndef get_nearby_hotels(latitudes, longitudes, radius=500):\n    url_nearby = 'https://api.foursquare.com/v2/venues/explore?client_id={}&client_secret={}&ll={},{}&v={}&radius={}&limit=30'.format(\n        CLIENT_ID, CLIENT_SECRET, latitudes, longitudes, VERSION, radius)\n    \n    res_nearby = requests.get(url_nearby).json()[\"response\"]['groups'][0]['items']\n\n    # return only relevant information for each nearby venue\n    df_nearby = pd.DataFrame([(v['venue']['name'], \n                               v['venue']['location']['lat'],\n                               v['venue']['location']['lng'],\n                               v['venue']['categories'][0]['name']) for v in res_nearby])\n    df_nearby.columns = ['Venue Name', 'Venue Latitude', 'Venue Longitude', 'Venue Category']\n\n    return df_nearby",
            "execution_count": 56,
            "outputs": []
        },
        {
            "metadata": {},
            "cell_type": "code",
            "source": "# get list nearby places each hotel\nlist_nearby = []\nfor hotel, lat, lng, in zip(df_hotel_filtered.name, df_hotel_filtered.lat, df_hotel_filtered.lng):\n    nearby_hotels = get_nearby_hotels(lat, lng)\n    nearby_hotels['Hotel Name'] = hotel\n    nearby_hotels['Hotel Latitude'] = lat\n    nearby_hotels['Hotel Longitude'] = lng\n    list_nearby.append(nearby_hotels)\n       \ndf_nearby_hotels = pd.concat(list_nearby).reset_index(drop=True)\ndf_nearby_hotels.head()",
            "execution_count": 75,
            "outputs": [
                {
                    "output_type": "execute_result",
                    "execution_count": 75,
                    "data": {
                        "text/plain": "                 Venue Name  Venue Latitude  Venue Longitude  \\\n0      Hotel Neo Dipatiukur       -6.889919       107.616451   \n1                Koffie Opa       -6.891955       107.616803   \n2                Mie Merapi       -6.891459       107.616998   \n3  Hotel Patra Jasa Bandung       -6.889111       107.614090   \n4            Bebeke Om Aris       -6.892662       107.617820   \n\n     Venue Category            Hotel Name  Hotel Latitude  Hotel Longitude  \n0             Hotel  Hotel Neo Dipatiukur       -6.889919       107.616451  \n1       Coffee Shop  Hotel Neo Dipatiukur       -6.889919       107.616451  \n2      Noodle House  Hotel Neo Dipatiukur       -6.889919       107.616451  \n3             Hotel  Hotel Neo Dipatiukur       -6.889919       107.616451  \n4  Asian Restaurant  Hotel Neo Dipatiukur       -6.889919       107.616451  ",
                        "text/html": "<div>\n<style scoped>\n    .dataframe tbody tr th:only-of-type {\n        vertical-align: middle;\n    }\n\n    .dataframe tbody tr th {\n        vertical-align: top;\n    }\n\n    .dataframe thead th {\n        text-align: right;\n    }\n</style>\n<table border=\"1\" class=\"dataframe\">\n  <thead>\n    <tr style=\"text-align: right;\">\n      <th></th>\n      <th>Venue Name</th>\n      <th>Venue Latitude</th>\n      <th>Venue Longitude</th>\n      <th>Venue Category</th>\n      <th>Hotel Name</th>\n      <th>Hotel Latitude</th>\n      <th>Hotel Longitude</th>\n    </tr>\n  </thead>\n  <tbody>\n    <tr>\n      <th>0</th>\n      <td>Hotel Neo Dipatiukur</td>\n      <td>-6.889919</td>\n      <td>107.616451</td>\n      <td>Hotel</td>\n      <td>Hotel Neo Dipatiukur</td>\n      <td>-6.889919</td>\n      <td>107.616451</td>\n    </tr>\n    <tr>\n      <th>1</th>\n      <td>Koffie Opa</td>\n      <td>-6.891955</td>\n      <td>107.616803</td>\n      <td>Coffee Shop</td>\n      <td>Hotel Neo Dipatiukur</td>\n      <td>-6.889919</td>\n      <td>107.616451</td>\n    </tr>\n    <tr>\n      <th>2</th>\n      <td>Mie Merapi</td>\n      <td>-6.891459</td>\n      <td>107.616998</td>\n      <td>Noodle House</td>\n      <td>Hotel Neo Dipatiukur</td>\n      <td>-6.889919</td>\n      <td>107.616451</td>\n    </tr>\n    <tr>\n      <th>3</th>\n      <td>Hotel Patra Jasa Bandung</td>\n      <td>-6.889111</td>\n      <td>107.614090</td>\n      <td>Hotel</td>\n      <td>Hotel Neo Dipatiukur</td>\n      <td>-6.889919</td>\n      <td>107.616451</td>\n    </tr>\n    <tr>\n      <th>4</th>\n      <td>Bebeke Om Aris</td>\n      <td>-6.892662</td>\n      <td>107.617820</td>\n      <td>Asian Restaurant</td>\n      <td>Hotel Neo Dipatiukur</td>\n      <td>-6.889919</td>\n      <td>107.616451</td>\n    </tr>\n  </tbody>\n</table>\n</div>"
                    },
                    "metadata": {}
                }
            ]
        },
        {
            "metadata": {},
            "cell_type": "code",
            "source": "print('Total Categories is', df_nearby_hotels['Venue Category'].nunique())",
            "execution_count": 76,
            "outputs": [
                {
                    "output_type": "stream",
                    "text": "Total Categories is 44\n",
                    "name": "stdout"
                }
            ]
        },
        {
            "metadata": {},
            "cell_type": "code",
            "source": "# top 10 nearby places\nnearby_categories = df_nearby_hotels['Venue Category'].value_counts()[:10].reset_index()\nnearby_categories.columns = ['Venue', 'Total Venue']\nfig = px.bar(nearby_categories, x='Venue', y='Total Venue', color='Venue')\nfig.show()",
            "execution_count": 77,
            "outputs": [
                {
                    "output_type": "display_data",
                    "data": {
                        "application/vnd.plotly.v1+json": {
                            "config": {
                                "plotlyServerURL": "https://plot.ly"
                            },
                            "data": [
                                {
                                    "alignmentgroup": "True",
                                    "hovertemplate": "Venue=%{x}<br>Total Venue=%{y}<extra></extra>",
                                    "legendgroup": "Caf\u00e9",
                                    "marker": {
                                        "color": "#636efa"
                                    },
                                    "name": "Caf\u00e9",
                                    "offsetgroup": "Caf\u00e9",
                                    "orientation": "v",
                                    "showlegend": true,
                                    "textposition": "auto",
                                    "type": "bar",
                                    "x": [
                                        "Caf\u00e9"
                                    ],
                                    "xaxis": "x",
                                    "y": [
                                        92
                                    ],
                                    "yaxis": "y"
                                },
                                {
                                    "alignmentgroup": "True",
                                    "hovertemplate": "Venue=%{x}<br>Total Venue=%{y}<extra></extra>",
                                    "legendgroup": "Hotel",
                                    "marker": {
                                        "color": "#EF553B"
                                    },
                                    "name": "Hotel",
                                    "offsetgroup": "Hotel",
                                    "orientation": "v",
                                    "showlegend": true,
                                    "textposition": "auto",
                                    "type": "bar",
                                    "x": [
                                        "Hotel"
                                    ],
                                    "xaxis": "x",
                                    "y": [
                                        76
                                    ],
                                    "yaxis": "y"
                                },
                                {
                                    "alignmentgroup": "True",
                                    "hovertemplate": "Venue=%{x}<br>Total Venue=%{y}<extra></extra>",
                                    "legendgroup": "Coffee Shop",
                                    "marker": {
                                        "color": "#00cc96"
                                    },
                                    "name": "Coffee Shop",
                                    "offsetgroup": "Coffee Shop",
                                    "orientation": "v",
                                    "showlegend": true,
                                    "textposition": "auto",
                                    "type": "bar",
                                    "x": [
                                        "Coffee Shop"
                                    ],
                                    "xaxis": "x",
                                    "y": [
                                        65
                                    ],
                                    "yaxis": "y"
                                },
                                {
                                    "alignmentgroup": "True",
                                    "hovertemplate": "Venue=%{x}<br>Total Venue=%{y}<extra></extra>",
                                    "legendgroup": "Indonesian Restaurant",
                                    "marker": {
                                        "color": "#ab63fa"
                                    },
                                    "name": "Indonesian Restaurant",
                                    "offsetgroup": "Indonesian Restaurant",
                                    "orientation": "v",
                                    "showlegend": true,
                                    "textposition": "auto",
                                    "type": "bar",
                                    "x": [
                                        "Indonesian Restaurant"
                                    ],
                                    "xaxis": "x",
                                    "y": [
                                        49
                                    ],
                                    "yaxis": "y"
                                },
                                {
                                    "alignmentgroup": "True",
                                    "hovertemplate": "Venue=%{x}<br>Total Venue=%{y}<extra></extra>",
                                    "legendgroup": "Asian Restaurant",
                                    "marker": {
                                        "color": "#FFA15A"
                                    },
                                    "name": "Asian Restaurant",
                                    "offsetgroup": "Asian Restaurant",
                                    "orientation": "v",
                                    "showlegend": true,
                                    "textposition": "auto",
                                    "type": "bar",
                                    "x": [
                                        "Asian Restaurant"
                                    ],
                                    "xaxis": "x",
                                    "y": [
                                        42
                                    ],
                                    "yaxis": "y"
                                },
                                {
                                    "alignmentgroup": "True",
                                    "hovertemplate": "Venue=%{x}<br>Total Venue=%{y}<extra></extra>",
                                    "legendgroup": "Noodle House",
                                    "marker": {
                                        "color": "#19d3f3"
                                    },
                                    "name": "Noodle House",
                                    "offsetgroup": "Noodle House",
                                    "orientation": "v",
                                    "showlegend": true,
                                    "textposition": "auto",
                                    "type": "bar",
                                    "x": [
                                        "Noodle House"
                                    ],
                                    "xaxis": "x",
                                    "y": [
                                        35
                                    ],
                                    "yaxis": "y"
                                },
                                {
                                    "alignmentgroup": "True",
                                    "hovertemplate": "Venue=%{x}<br>Total Venue=%{y}<extra></extra>",
                                    "legendgroup": "Cocktail Bar",
                                    "marker": {
                                        "color": "#FF6692"
                                    },
                                    "name": "Cocktail Bar",
                                    "offsetgroup": "Cocktail Bar",
                                    "orientation": "v",
                                    "showlegend": true,
                                    "textposition": "auto",
                                    "type": "bar",
                                    "x": [
                                        "Cocktail Bar"
                                    ],
                                    "xaxis": "x",
                                    "y": [
                                        33
                                    ],
                                    "yaxis": "y"
                                },
                                {
                                    "alignmentgroup": "True",
                                    "hovertemplate": "Venue=%{x}<br>Total Venue=%{y}<extra></extra>",
                                    "legendgroup": "Ice Cream Shop",
                                    "marker": {
                                        "color": "#B6E880"
                                    },
                                    "name": "Ice Cream Shop",
                                    "offsetgroup": "Ice Cream Shop",
                                    "orientation": "v",
                                    "showlegend": true,
                                    "textposition": "auto",
                                    "type": "bar",
                                    "x": [
                                        "Ice Cream Shop"
                                    ],
                                    "xaxis": "x",
                                    "y": [
                                        28
                                    ],
                                    "yaxis": "y"
                                },
                                {
                                    "alignmentgroup": "True",
                                    "hovertemplate": "Venue=%{x}<br>Total Venue=%{y}<extra></extra>",
                                    "legendgroup": "Fast Food Restaurant",
                                    "marker": {
                                        "color": "#FF97FF"
                                    },
                                    "name": "Fast Food Restaurant",
                                    "offsetgroup": "Fast Food Restaurant",
                                    "orientation": "v",
                                    "showlegend": true,
                                    "textposition": "auto",
                                    "type": "bar",
                                    "x": [
                                        "Fast Food Restaurant"
                                    ],
                                    "xaxis": "x",
                                    "y": [
                                        26
                                    ],
                                    "yaxis": "y"
                                },
                                {
                                    "alignmentgroup": "True",
                                    "hovertemplate": "Venue=%{x}<br>Total Venue=%{y}<extra></extra>",
                                    "legendgroup": "Convenience Store",
                                    "marker": {
                                        "color": "#FECB52"
                                    },
                                    "name": "Convenience Store",
                                    "offsetgroup": "Convenience Store",
                                    "orientation": "v",
                                    "showlegend": true,
                                    "textposition": "auto",
                                    "type": "bar",
                                    "x": [
                                        "Convenience Store"
                                    ],
                                    "xaxis": "x",
                                    "y": [
                                        26
                                    ],
                                    "yaxis": "y"
                                }
                            ],
                            "layout": {
                                "barmode": "relative",
                                "legend": {
                                    "title": {
                                        "text": "Venue"
                                    },
                                    "tracegroupgap": 0
                                },
                                "margin": {
                                    "t": 60
                                },
                                "template": {
                                    "data": {
                                        "bar": [
                                            {
                                                "error_x": {
                                                    "color": "#2a3f5f"
                                                },
                                                "error_y": {
                                                    "color": "#2a3f5f"
                                                },
                                                "marker": {
                                                    "line": {
                                                        "color": "#E5ECF6",
                                                        "width": 0.5
                                                    }
                                                },
                                                "type": "bar"
                                            }
                                        ],
                                        "barpolar": [
                                            {
                                                "marker": {
                                                    "line": {
                                                        "color": "#E5ECF6",
                                                        "width": 0.5
                                                    }
                                                },
                                                "type": "barpolar"
                                            }
                                        ],
                                        "carpet": [
                                            {
                                                "aaxis": {
                                                    "endlinecolor": "#2a3f5f",
                                                    "gridcolor": "white",
                                                    "linecolor": "white",
                                                    "minorgridcolor": "white",
                                                    "startlinecolor": "#2a3f5f"
                                                },
                                                "baxis": {
                                                    "endlinecolor": "#2a3f5f",
                                                    "gridcolor": "white",
                                                    "linecolor": "white",
                                                    "minorgridcolor": "white",
                                                    "startlinecolor": "#2a3f5f"
                                                },
                                                "type": "carpet"
                                            }
                                        ],
                                        "choropleth": [
                                            {
                                                "colorbar": {
                                                    "outlinewidth": 0,
                                                    "ticks": ""
                                                },
                                                "type": "choropleth"
                                            }
                                        ],
                                        "contour": [
                                            {
                                                "colorbar": {
                                                    "outlinewidth": 0,
                                                    "ticks": ""
                                                },
                                                "colorscale": [
                                                    [
                                                        0,
                                                        "#0d0887"
                                                    ],
                                                    [
                                                        0.1111111111111111,
                                                        "#46039f"
                                                    ],
                                                    [
                                                        0.2222222222222222,
                                                        "#7201a8"
                                                    ],
                                                    [
                                                        0.3333333333333333,
                                                        "#9c179e"
                                                    ],
                                                    [
                                                        0.4444444444444444,
                                                        "#bd3786"
                                                    ],
                                                    [
                                                        0.5555555555555556,
                                                        "#d8576b"
                                                    ],
                                                    [
                                                        0.6666666666666666,
                                                        "#ed7953"
                                                    ],
                                                    [
                                                        0.7777777777777778,
                                                        "#fb9f3a"
                                                    ],
                                                    [
                                                        0.8888888888888888,
                                                        "#fdca26"
                                                    ],
                                                    [
                                                        1,
                                                        "#f0f921"
                                                    ]
                                                ],
                                                "type": "contour"
                                            }
                                        ],
                                        "contourcarpet": [
                                            {
                                                "colorbar": {
                                                    "outlinewidth": 0,
                                                    "ticks": ""
                                                },
                                                "type": "contourcarpet"
                                            }
                                        ],
                                        "heatmap": [
                                            {
                                                "colorbar": {
                                                    "outlinewidth": 0,
                                                    "ticks": ""
                                                },
                                                "colorscale": [
                                                    [
                                                        0,
                                                        "#0d0887"
                                                    ],
                                                    [
                                                        0.1111111111111111,
                                                        "#46039f"
                                                    ],
                                                    [
                                                        0.2222222222222222,
                                                        "#7201a8"
                                                    ],
                                                    [
                                                        0.3333333333333333,
                                                        "#9c179e"
                                                    ],
                                                    [
                                                        0.4444444444444444,
                                                        "#bd3786"
                                                    ],
                                                    [
                                                        0.5555555555555556,
                                                        "#d8576b"
                                                    ],
                                                    [
                                                        0.6666666666666666,
                                                        "#ed7953"
                                                    ],
                                                    [
                                                        0.7777777777777778,
                                                        "#fb9f3a"
                                                    ],
                                                    [
                                                        0.8888888888888888,
                                                        "#fdca26"
                                                    ],
                                                    [
                                                        1,
                                                        "#f0f921"
                                                    ]
                                                ],
                                                "type": "heatmap"
                                            }
                                        ],
                                        "heatmapgl": [
                                            {
                                                "colorbar": {
                                                    "outlinewidth": 0,
                                                    "ticks": ""
                                                },
                                                "colorscale": [
                                                    [
                                                        0,
                                                        "#0d0887"
                                                    ],
                                                    [
                                                        0.1111111111111111,
                                                        "#46039f"
                                                    ],
                                                    [
                                                        0.2222222222222222,
                                                        "#7201a8"
                                                    ],
                                                    [
                                                        0.3333333333333333,
                                                        "#9c179e"
                                                    ],
                                                    [
                                                        0.4444444444444444,
                                                        "#bd3786"
                                                    ],
                                                    [
                                                        0.5555555555555556,
                                                        "#d8576b"
                                                    ],
                                                    [
                                                        0.6666666666666666,
                                                        "#ed7953"
                                                    ],
                                                    [
                                                        0.7777777777777778,
                                                        "#fb9f3a"
                                                    ],
                                                    [
                                                        0.8888888888888888,
                                                        "#fdca26"
                                                    ],
                                                    [
                                                        1,
                                                        "#f0f921"
                                                    ]
                                                ],
                                                "type": "heatmapgl"
                                            }
                                        ],
                                        "histogram": [
                                            {
                                                "marker": {
                                                    "colorbar": {
                                                        "outlinewidth": 0,
                                                        "ticks": ""
                                                    }
                                                },
                                                "type": "histogram"
                                            }
                                        ],
                                        "histogram2d": [
                                            {
                                                "colorbar": {
                                                    "outlinewidth": 0,
                                                    "ticks": ""
                                                },
                                                "colorscale": [
                                                    [
                                                        0,
                                                        "#0d0887"
                                                    ],
                                                    [
                                                        0.1111111111111111,
                                                        "#46039f"
                                                    ],
                                                    [
                                                        0.2222222222222222,
                                                        "#7201a8"
                                                    ],
                                                    [
                                                        0.3333333333333333,
                                                        "#9c179e"
                                                    ],
                                                    [
                                                        0.4444444444444444,
                                                        "#bd3786"
                                                    ],
                                                    [
                                                        0.5555555555555556,
                                                        "#d8576b"
                                                    ],
                                                    [
                                                        0.6666666666666666,
                                                        "#ed7953"
                                                    ],
                                                    [
                                                        0.7777777777777778,
                                                        "#fb9f3a"
                                                    ],
                                                    [
                                                        0.8888888888888888,
                                                        "#fdca26"
                                                    ],
                                                    [
                                                        1,
                                                        "#f0f921"
                                                    ]
                                                ],
                                                "type": "histogram2d"
                                            }
                                        ],
                                        "histogram2dcontour": [
                                            {
                                                "colorbar": {
                                                    "outlinewidth": 0,
                                                    "ticks": ""
                                                },
                                                "colorscale": [
                                                    [
                                                        0,
                                                        "#0d0887"
                                                    ],
                                                    [
                                                        0.1111111111111111,
                                                        "#46039f"
                                                    ],
                                                    [
                                                        0.2222222222222222,
                                                        "#7201a8"
                                                    ],
                                                    [
                                                        0.3333333333333333,
                                                        "#9c179e"
                                                    ],
                                                    [
                                                        0.4444444444444444,
                                                        "#bd3786"
                                                    ],
                                                    [
                                                        0.5555555555555556,
                                                        "#d8576b"
                                                    ],
                                                    [
                                                        0.6666666666666666,
                                                        "#ed7953"
                                                    ],
                                                    [
                                                        0.7777777777777778,
                                                        "#fb9f3a"
                                                    ],
                                                    [
                                                        0.8888888888888888,
                                                        "#fdca26"
                                                    ],
                                                    [
                                                        1,
                                                        "#f0f921"
                                                    ]
                                                ],
                                                "type": "histogram2dcontour"
                                            }
                                        ],
                                        "mesh3d": [
                                            {
                                                "colorbar": {
                                                    "outlinewidth": 0,
                                                    "ticks": ""
                                                },
                                                "type": "mesh3d"
                                            }
                                        ],
                                        "parcoords": [
                                            {
                                                "line": {
                                                    "colorbar": {
                                                        "outlinewidth": 0,
                                                        "ticks": ""
                                                    }
                                                },
                                                "type": "parcoords"
                                            }
                                        ],
                                        "pie": [
                                            {
                                                "automargin": true,
                                                "type": "pie"
                                            }
                                        ],
                                        "scatter": [
                                            {
                                                "marker": {
                                                    "colorbar": {
                                                        "outlinewidth": 0,
                                                        "ticks": ""
                                                    }
                                                },
                                                "type": "scatter"
                                            }
                                        ],
                                        "scatter3d": [
                                            {
                                                "line": {
                                                    "colorbar": {
                                                        "outlinewidth": 0,
                                                        "ticks": ""
                                                    }
                                                },
                                                "marker": {
                                                    "colorbar": {
                                                        "outlinewidth": 0,
                                                        "ticks": ""
                                                    }
                                                },
                                                "type": "scatter3d"
                                            }
                                        ],
                                        "scattercarpet": [
                                            {
                                                "marker": {
                                                    "colorbar": {
                                                        "outlinewidth": 0,
                                                        "ticks": ""
                                                    }
                                                },
                                                "type": "scattercarpet"
                                            }
                                        ],
                                        "scattergeo": [
                                            {
                                                "marker": {
                                                    "colorbar": {
                                                        "outlinewidth": 0,
                                                        "ticks": ""
                                                    }
                                                },
                                                "type": "scattergeo"
                                            }
                                        ],
                                        "scattergl": [
                                            {
                                                "marker": {
                                                    "colorbar": {
                                                        "outlinewidth": 0,
                                                        "ticks": ""
                                                    }
                                                },
                                                "type": "scattergl"
                                            }
                                        ],
                                        "scattermapbox": [
                                            {
                                                "marker": {
                                                    "colorbar": {
                                                        "outlinewidth": 0,
                                                        "ticks": ""
                                                    }
                                                },
                                                "type": "scattermapbox"
                                            }
                                        ],
                                        "scatterpolar": [
                                            {
                                                "marker": {
                                                    "colorbar": {
                                                        "outlinewidth": 0,
                                                        "ticks": ""
                                                    }
                                                },
                                                "type": "scatterpolar"
                                            }
                                        ],
                                        "scatterpolargl": [
                                            {
                                                "marker": {
                                                    "colorbar": {
                                                        "outlinewidth": 0,
                                                        "ticks": ""
                                                    }
                                                },
                                                "type": "scatterpolargl"
                                            }
                                        ],
                                        "scatterternary": [
                                            {
                                                "marker": {
                                                    "colorbar": {
                                                        "outlinewidth": 0,
                                                        "ticks": ""
                                                    }
                                                },
                                                "type": "scatterternary"
                                            }
                                        ],
                                        "surface": [
                                            {
                                                "colorbar": {
                                                    "outlinewidth": 0,
                                                    "ticks": ""
                                                },
                                                "colorscale": [
                                                    [
                                                        0,
                                                        "#0d0887"
                                                    ],
                                                    [
                                                        0.1111111111111111,
                                                        "#46039f"
                                                    ],
                                                    [
                                                        0.2222222222222222,
                                                        "#7201a8"
                                                    ],
                                                    [
                                                        0.3333333333333333,
                                                        "#9c179e"
                                                    ],
                                                    [
                                                        0.4444444444444444,
                                                        "#bd3786"
                                                    ],
                                                    [
                                                        0.5555555555555556,
                                                        "#d8576b"
                                                    ],
                                                    [
                                                        0.6666666666666666,
                                                        "#ed7953"
                                                    ],
                                                    [
                                                        0.7777777777777778,
                                                        "#fb9f3a"
                                                    ],
                                                    [
                                                        0.8888888888888888,
                                                        "#fdca26"
                                                    ],
                                                    [
                                                        1,
                                                        "#f0f921"
                                                    ]
                                                ],
                                                "type": "surface"
                                            }
                                        ],
                                        "table": [
                                            {
                                                "cells": {
                                                    "fill": {
                                                        "color": "#EBF0F8"
                                                    },
                                                    "line": {
                                                        "color": "white"
                                                    }
                                                },
                                                "header": {
                                                    "fill": {
                                                        "color": "#C8D4E3"
                                                    },
                                                    "line": {
                                                        "color": "white"
                                                    }
                                                },
                                                "type": "table"
                                            }
                                        ]
                                    },
                                    "layout": {
                                        "annotationdefaults": {
                                            "arrowcolor": "#2a3f5f",
                                            "arrowhead": 0,
                                            "arrowwidth": 1
                                        },
                                        "coloraxis": {
                                            "colorbar": {
                                                "outlinewidth": 0,
                                                "ticks": ""
                                            }
                                        },
                                        "colorscale": {
                                            "diverging": [
                                                [
                                                    0,
                                                    "#8e0152"
                                                ],
                                                [
                                                    0.1,
                                                    "#c51b7d"
                                                ],
                                                [
                                                    0.2,
                                                    "#de77ae"
                                                ],
                                                [
                                                    0.3,
                                                    "#f1b6da"
                                                ],
                                                [
                                                    0.4,
                                                    "#fde0ef"
                                                ],
                                                [
                                                    0.5,
                                                    "#f7f7f7"
                                                ],
                                                [
                                                    0.6,
                                                    "#e6f5d0"
                                                ],
                                                [
                                                    0.7,
                                                    "#b8e186"
                                                ],
                                                [
                                                    0.8,
                                                    "#7fbc41"
                                                ],
                                                [
                                                    0.9,
                                                    "#4d9221"
                                                ],
                                                [
                                                    1,
                                                    "#276419"
                                                ]
                                            ],
                                            "sequential": [
                                                [
                                                    0,
                                                    "#0d0887"
                                                ],
                                                [
                                                    0.1111111111111111,
                                                    "#46039f"
                                                ],
                                                [
                                                    0.2222222222222222,
                                                    "#7201a8"
                                                ],
                                                [
                                                    0.3333333333333333,
                                                    "#9c179e"
                                                ],
                                                [
                                                    0.4444444444444444,
                                                    "#bd3786"
                                                ],
                                                [
                                                    0.5555555555555556,
                                                    "#d8576b"
                                                ],
                                                [
                                                    0.6666666666666666,
                                                    "#ed7953"
                                                ],
                                                [
                                                    0.7777777777777778,
                                                    "#fb9f3a"
                                                ],
                                                [
                                                    0.8888888888888888,
                                                    "#fdca26"
                                                ],
                                                [
                                                    1,
                                                    "#f0f921"
                                                ]
                                            ],
                                            "sequentialminus": [
                                                [
                                                    0,
                                                    "#0d0887"
                                                ],
                                                [
                                                    0.1111111111111111,
                                                    "#46039f"
                                                ],
                                                [
                                                    0.2222222222222222,
                                                    "#7201a8"
                                                ],
                                                [
                                                    0.3333333333333333,
                                                    "#9c179e"
                                                ],
                                                [
                                                    0.4444444444444444,
                                                    "#bd3786"
                                                ],
                                                [
                                                    0.5555555555555556,
                                                    "#d8576b"
                                                ],
                                                [
                                                    0.6666666666666666,
                                                    "#ed7953"
                                                ],
                                                [
                                                    0.7777777777777778,
                                                    "#fb9f3a"
                                                ],
                                                [
                                                    0.8888888888888888,
                                                    "#fdca26"
                                                ],
                                                [
                                                    1,
                                                    "#f0f921"
                                                ]
                                            ]
                                        },
                                        "colorway": [
                                            "#636efa",
                                            "#EF553B",
                                            "#00cc96",
                                            "#ab63fa",
                                            "#FFA15A",
                                            "#19d3f3",
                                            "#FF6692",
                                            "#B6E880",
                                            "#FF97FF",
                                            "#FECB52"
                                        ],
                                        "font": {
                                            "color": "#2a3f5f"
                                        },
                                        "geo": {
                                            "bgcolor": "white",
                                            "lakecolor": "white",
                                            "landcolor": "#E5ECF6",
                                            "showlakes": true,
                                            "showland": true,
                                            "subunitcolor": "white"
                                        },
                                        "hoverlabel": {
                                            "align": "left"
                                        },
                                        "hovermode": "closest",
                                        "mapbox": {
                                            "style": "light"
                                        },
                                        "paper_bgcolor": "white",
                                        "plot_bgcolor": "#E5ECF6",
                                        "polar": {
                                            "angularaxis": {
                                                "gridcolor": "white",
                                                "linecolor": "white",
                                                "ticks": ""
                                            },
                                            "bgcolor": "#E5ECF6",
                                            "radialaxis": {
                                                "gridcolor": "white",
                                                "linecolor": "white",
                                                "ticks": ""
                                            }
                                        },
                                        "scene": {
                                            "xaxis": {
                                                "backgroundcolor": "#E5ECF6",
                                                "gridcolor": "white",
                                                "gridwidth": 2,
                                                "linecolor": "white",
                                                "showbackground": true,
                                                "ticks": "",
                                                "zerolinecolor": "white"
                                            },
                                            "yaxis": {
                                                "backgroundcolor": "#E5ECF6",
                                                "gridcolor": "white",
                                                "gridwidth": 2,
                                                "linecolor": "white",
                                                "showbackground": true,
                                                "ticks": "",
                                                "zerolinecolor": "white"
                                            },
                                            "zaxis": {
                                                "backgroundcolor": "#E5ECF6",
                                                "gridcolor": "white",
                                                "gridwidth": 2,
                                                "linecolor": "white",
                                                "showbackground": true,
                                                "ticks": "",
                                                "zerolinecolor": "white"
                                            }
                                        },
                                        "shapedefaults": {
                                            "line": {
                                                "color": "#2a3f5f"
                                            }
                                        },
                                        "ternary": {
                                            "aaxis": {
                                                "gridcolor": "white",
                                                "linecolor": "white",
                                                "ticks": ""
                                            },
                                            "baxis": {
                                                "gridcolor": "white",
                                                "linecolor": "white",
                                                "ticks": ""
                                            },
                                            "bgcolor": "#E5ECF6",
                                            "caxis": {
                                                "gridcolor": "white",
                                                "linecolor": "white",
                                                "ticks": ""
                                            }
                                        },
                                        "title": {
                                            "x": 0.05
                                        },
                                        "xaxis": {
                                            "automargin": true,
                                            "gridcolor": "white",
                                            "linecolor": "white",
                                            "ticks": "",
                                            "title": {
                                                "standoff": 15
                                            },
                                            "zerolinecolor": "white",
                                            "zerolinewidth": 2
                                        },
                                        "yaxis": {
                                            "automargin": true,
                                            "gridcolor": "white",
                                            "linecolor": "white",
                                            "ticks": "",
                                            "title": {
                                                "standoff": 15
                                            },
                                            "zerolinecolor": "white",
                                            "zerolinewidth": 2
                                        }
                                    }
                                },
                                "xaxis": {
                                    "anchor": "y",
                                    "categoryarray": [
                                        "Caf\u00e9",
                                        "Hotel",
                                        "Coffee Shop",
                                        "Indonesian Restaurant",
                                        "Asian Restaurant",
                                        "Noodle House",
                                        "Cocktail Bar",
                                        "Ice Cream Shop",
                                        "Fast Food Restaurant",
                                        "Convenience Store"
                                    ],
                                    "categoryorder": "array",
                                    "domain": [
                                        0,
                                        1
                                    ],
                                    "title": {
                                        "text": "Venue"
                                    }
                                },
                                "yaxis": {
                                    "anchor": "x",
                                    "domain": [
                                        0,
                                        1
                                    ],
                                    "title": {
                                        "text": "Total Venue"
                                    }
                                }
                            }
                        },
                        "text/html": "<div>\n        \n        \n            <div id=\"48d7e18a-550f-4788-a33a-44a543954b67\" class=\"plotly-graph-div\" style=\"height:525px; width:100%;\"></div>\n            <script type=\"text/javascript\">\n                require([\"plotly\"], function(Plotly) {\n                    window.PLOTLYENV=window.PLOTLYENV || {};\n                    \n                if (document.getElementById(\"48d7e18a-550f-4788-a33a-44a543954b67\")) {\n                    Plotly.newPlot(\n                        '48d7e18a-550f-4788-a33a-44a543954b67',\n                        [{\"alignmentgroup\": \"True\", \"hovertemplate\": \"Venue=%{x}<br>Total Venue=%{y}<extra></extra>\", \"legendgroup\": \"Caf\\u00e9\", \"marker\": {\"color\": \"#636efa\"}, \"name\": \"Caf\\u00e9\", \"offsetgroup\": \"Caf\\u00e9\", \"orientation\": \"v\", \"showlegend\": true, \"textposition\": \"auto\", \"type\": \"bar\", \"x\": [\"Caf\\u00e9\"], \"xaxis\": \"x\", \"y\": [92], \"yaxis\": \"y\"}, {\"alignmentgroup\": \"True\", \"hovertemplate\": \"Venue=%{x}<br>Total Venue=%{y}<extra></extra>\", \"legendgroup\": \"Hotel\", \"marker\": {\"color\": \"#EF553B\"}, \"name\": \"Hotel\", \"offsetgroup\": \"Hotel\", \"orientation\": \"v\", \"showlegend\": true, \"textposition\": \"auto\", \"type\": \"bar\", \"x\": [\"Hotel\"], \"xaxis\": \"x\", \"y\": [76], \"yaxis\": \"y\"}, {\"alignmentgroup\": \"True\", \"hovertemplate\": \"Venue=%{x}<br>Total Venue=%{y}<extra></extra>\", \"legendgroup\": \"Coffee Shop\", \"marker\": {\"color\": \"#00cc96\"}, \"name\": \"Coffee Shop\", \"offsetgroup\": \"Coffee Shop\", \"orientation\": \"v\", \"showlegend\": true, \"textposition\": \"auto\", \"type\": \"bar\", \"x\": [\"Coffee Shop\"], \"xaxis\": \"x\", \"y\": [65], \"yaxis\": \"y\"}, {\"alignmentgroup\": \"True\", \"hovertemplate\": \"Venue=%{x}<br>Total Venue=%{y}<extra></extra>\", \"legendgroup\": \"Indonesian Restaurant\", \"marker\": {\"color\": \"#ab63fa\"}, \"name\": \"Indonesian Restaurant\", \"offsetgroup\": \"Indonesian Restaurant\", \"orientation\": \"v\", \"showlegend\": true, \"textposition\": \"auto\", \"type\": \"bar\", \"x\": [\"Indonesian Restaurant\"], \"xaxis\": \"x\", \"y\": [49], \"yaxis\": \"y\"}, {\"alignmentgroup\": \"True\", \"hovertemplate\": \"Venue=%{x}<br>Total Venue=%{y}<extra></extra>\", \"legendgroup\": \"Asian Restaurant\", \"marker\": {\"color\": \"#FFA15A\"}, \"name\": \"Asian Restaurant\", \"offsetgroup\": \"Asian Restaurant\", \"orientation\": \"v\", \"showlegend\": true, \"textposition\": \"auto\", \"type\": \"bar\", \"x\": [\"Asian Restaurant\"], \"xaxis\": \"x\", \"y\": [42], \"yaxis\": \"y\"}, {\"alignmentgroup\": \"True\", \"hovertemplate\": \"Venue=%{x}<br>Total Venue=%{y}<extra></extra>\", \"legendgroup\": \"Noodle House\", \"marker\": {\"color\": \"#19d3f3\"}, \"name\": \"Noodle House\", \"offsetgroup\": \"Noodle House\", \"orientation\": \"v\", \"showlegend\": true, \"textposition\": \"auto\", \"type\": \"bar\", \"x\": [\"Noodle House\"], \"xaxis\": \"x\", \"y\": [35], \"yaxis\": \"y\"}, {\"alignmentgroup\": \"True\", \"hovertemplate\": \"Venue=%{x}<br>Total Venue=%{y}<extra></extra>\", \"legendgroup\": \"Cocktail Bar\", \"marker\": {\"color\": \"#FF6692\"}, \"name\": \"Cocktail Bar\", \"offsetgroup\": \"Cocktail Bar\", \"orientation\": \"v\", \"showlegend\": true, \"textposition\": \"auto\", \"type\": \"bar\", \"x\": [\"Cocktail Bar\"], \"xaxis\": \"x\", \"y\": [33], \"yaxis\": \"y\"}, {\"alignmentgroup\": \"True\", \"hovertemplate\": \"Venue=%{x}<br>Total Venue=%{y}<extra></extra>\", \"legendgroup\": \"Ice Cream Shop\", \"marker\": {\"color\": \"#B6E880\"}, \"name\": \"Ice Cream Shop\", \"offsetgroup\": \"Ice Cream Shop\", \"orientation\": \"v\", \"showlegend\": true, \"textposition\": \"auto\", \"type\": \"bar\", \"x\": [\"Ice Cream Shop\"], \"xaxis\": \"x\", \"y\": [28], \"yaxis\": \"y\"}, {\"alignmentgroup\": \"True\", \"hovertemplate\": \"Venue=%{x}<br>Total Venue=%{y}<extra></extra>\", \"legendgroup\": \"Fast Food Restaurant\", \"marker\": {\"color\": \"#FF97FF\"}, \"name\": \"Fast Food Restaurant\", \"offsetgroup\": \"Fast Food Restaurant\", \"orientation\": \"v\", \"showlegend\": true, \"textposition\": \"auto\", \"type\": \"bar\", \"x\": [\"Fast Food Restaurant\"], \"xaxis\": \"x\", \"y\": [26], \"yaxis\": \"y\"}, {\"alignmentgroup\": \"True\", \"hovertemplate\": \"Venue=%{x}<br>Total Venue=%{y}<extra></extra>\", \"legendgroup\": \"Convenience Store\", \"marker\": {\"color\": \"#FECB52\"}, \"name\": \"Convenience Store\", \"offsetgroup\": \"Convenience Store\", \"orientation\": \"v\", \"showlegend\": true, \"textposition\": \"auto\", \"type\": \"bar\", \"x\": [\"Convenience Store\"], \"xaxis\": \"x\", \"y\": [26], \"yaxis\": \"y\"}],\n                        {\"barmode\": \"relative\", \"legend\": {\"title\": {\"text\": \"Venue\"}, \"tracegroupgap\": 0}, \"margin\": {\"t\": 60}, \"template\": {\"data\": {\"bar\": [{\"error_x\": {\"color\": \"#2a3f5f\"}, \"error_y\": {\"color\": \"#2a3f5f\"}, \"marker\": {\"line\": {\"color\": \"#E5ECF6\", \"width\": 0.5}}, \"type\": \"bar\"}], \"barpolar\": [{\"marker\": {\"line\": {\"color\": \"#E5ECF6\", \"width\": 0.5}}, \"type\": \"barpolar\"}], \"carpet\": [{\"aaxis\": {\"endlinecolor\": \"#2a3f5f\", \"gridcolor\": \"white\", \"linecolor\": \"white\", \"minorgridcolor\": \"white\", \"startlinecolor\": \"#2a3f5f\"}, \"baxis\": {\"endlinecolor\": \"#2a3f5f\", \"gridcolor\": \"white\", \"linecolor\": \"white\", \"minorgridcolor\": \"white\", \"startlinecolor\": \"#2a3f5f\"}, \"type\": \"carpet\"}], \"choropleth\": [{\"colorbar\": {\"outlinewidth\": 0, \"ticks\": \"\"}, \"type\": \"choropleth\"}], \"contour\": [{\"colorbar\": {\"outlinewidth\": 0, \"ticks\": \"\"}, \"colorscale\": [[0.0, \"#0d0887\"], [0.1111111111111111, \"#46039f\"], [0.2222222222222222, \"#7201a8\"], [0.3333333333333333, \"#9c179e\"], [0.4444444444444444, \"#bd3786\"], [0.5555555555555556, \"#d8576b\"], [0.6666666666666666, \"#ed7953\"], [0.7777777777777778, \"#fb9f3a\"], [0.8888888888888888, \"#fdca26\"], [1.0, \"#f0f921\"]], \"type\": \"contour\"}], \"contourcarpet\": [{\"colorbar\": {\"outlinewidth\": 0, \"ticks\": \"\"}, \"type\": \"contourcarpet\"}], \"heatmap\": [{\"colorbar\": {\"outlinewidth\": 0, \"ticks\": \"\"}, \"colorscale\": [[0.0, \"#0d0887\"], [0.1111111111111111, \"#46039f\"], [0.2222222222222222, \"#7201a8\"], [0.3333333333333333, \"#9c179e\"], [0.4444444444444444, \"#bd3786\"], [0.5555555555555556, \"#d8576b\"], [0.6666666666666666, \"#ed7953\"], [0.7777777777777778, \"#fb9f3a\"], [0.8888888888888888, \"#fdca26\"], [1.0, \"#f0f921\"]], \"type\": \"heatmap\"}], \"heatmapgl\": [{\"colorbar\": {\"outlinewidth\": 0, \"ticks\": \"\"}, \"colorscale\": [[0.0, \"#0d0887\"], [0.1111111111111111, \"#46039f\"], [0.2222222222222222, \"#7201a8\"], [0.3333333333333333, \"#9c179e\"], [0.4444444444444444, \"#bd3786\"], [0.5555555555555556, \"#d8576b\"], [0.6666666666666666, \"#ed7953\"], [0.7777777777777778, \"#fb9f3a\"], [0.8888888888888888, \"#fdca26\"], [1.0, \"#f0f921\"]], \"type\": \"heatmapgl\"}], \"histogram\": [{\"marker\": {\"colorbar\": {\"outlinewidth\": 0, \"ticks\": \"\"}}, \"type\": \"histogram\"}], \"histogram2d\": [{\"colorbar\": {\"outlinewidth\": 0, \"ticks\": \"\"}, \"colorscale\": [[0.0, \"#0d0887\"], [0.1111111111111111, \"#46039f\"], [0.2222222222222222, \"#7201a8\"], [0.3333333333333333, \"#9c179e\"], [0.4444444444444444, \"#bd3786\"], [0.5555555555555556, \"#d8576b\"], [0.6666666666666666, \"#ed7953\"], [0.7777777777777778, \"#fb9f3a\"], [0.8888888888888888, \"#fdca26\"], [1.0, \"#f0f921\"]], \"type\": \"histogram2d\"}], \"histogram2dcontour\": [{\"colorbar\": {\"outlinewidth\": 0, \"ticks\": \"\"}, \"colorscale\": [[0.0, \"#0d0887\"], [0.1111111111111111, \"#46039f\"], [0.2222222222222222, \"#7201a8\"], [0.3333333333333333, \"#9c179e\"], [0.4444444444444444, \"#bd3786\"], [0.5555555555555556, \"#d8576b\"], [0.6666666666666666, \"#ed7953\"], [0.7777777777777778, \"#fb9f3a\"], [0.8888888888888888, \"#fdca26\"], [1.0, \"#f0f921\"]], \"type\": \"histogram2dcontour\"}], \"mesh3d\": [{\"colorbar\": {\"outlinewidth\": 0, \"ticks\": \"\"}, \"type\": \"mesh3d\"}], \"parcoords\": [{\"line\": {\"colorbar\": {\"outlinewidth\": 0, \"ticks\": \"\"}}, \"type\": \"parcoords\"}], \"pie\": [{\"automargin\": true, \"type\": \"pie\"}], \"scatter\": [{\"marker\": {\"colorbar\": {\"outlinewidth\": 0, \"ticks\": \"\"}}, \"type\": \"scatter\"}], \"scatter3d\": [{\"line\": {\"colorbar\": {\"outlinewidth\": 0, \"ticks\": \"\"}}, \"marker\": {\"colorbar\": {\"outlinewidth\": 0, \"ticks\": \"\"}}, \"type\": \"scatter3d\"}], \"scattercarpet\": [{\"marker\": {\"colorbar\": {\"outlinewidth\": 0, \"ticks\": \"\"}}, \"type\": \"scattercarpet\"}], \"scattergeo\": [{\"marker\": {\"colorbar\": {\"outlinewidth\": 0, \"ticks\": \"\"}}, \"type\": \"scattergeo\"}], \"scattergl\": [{\"marker\": {\"colorbar\": {\"outlinewidth\": 0, \"ticks\": \"\"}}, \"type\": \"scattergl\"}], \"scattermapbox\": [{\"marker\": {\"colorbar\": {\"outlinewidth\": 0, \"ticks\": \"\"}}, \"type\": \"scattermapbox\"}], \"scatterpolar\": [{\"marker\": {\"colorbar\": {\"outlinewidth\": 0, \"ticks\": \"\"}}, \"type\": \"scatterpolar\"}], \"scatterpolargl\": [{\"marker\": {\"colorbar\": {\"outlinewidth\": 0, \"ticks\": \"\"}}, \"type\": \"scatterpolargl\"}], \"scatterternary\": [{\"marker\": {\"colorbar\": {\"outlinewidth\": 0, \"ticks\": \"\"}}, \"type\": \"scatterternary\"}], \"surface\": [{\"colorbar\": {\"outlinewidth\": 0, \"ticks\": \"\"}, \"colorscale\": [[0.0, \"#0d0887\"], [0.1111111111111111, \"#46039f\"], [0.2222222222222222, \"#7201a8\"], [0.3333333333333333, \"#9c179e\"], [0.4444444444444444, \"#bd3786\"], [0.5555555555555556, \"#d8576b\"], [0.6666666666666666, \"#ed7953\"], [0.7777777777777778, \"#fb9f3a\"], [0.8888888888888888, \"#fdca26\"], [1.0, \"#f0f921\"]], \"type\": \"surface\"}], \"table\": [{\"cells\": {\"fill\": {\"color\": \"#EBF0F8\"}, \"line\": {\"color\": \"white\"}}, \"header\": {\"fill\": {\"color\": \"#C8D4E3\"}, \"line\": {\"color\": \"white\"}}, \"type\": \"table\"}]}, \"layout\": {\"annotationdefaults\": {\"arrowcolor\": \"#2a3f5f\", \"arrowhead\": 0, \"arrowwidth\": 1}, \"coloraxis\": {\"colorbar\": {\"outlinewidth\": 0, \"ticks\": \"\"}}, \"colorscale\": {\"diverging\": [[0, \"#8e0152\"], [0.1, \"#c51b7d\"], [0.2, \"#de77ae\"], [0.3, \"#f1b6da\"], [0.4, \"#fde0ef\"], [0.5, \"#f7f7f7\"], [0.6, \"#e6f5d0\"], [0.7, \"#b8e186\"], [0.8, \"#7fbc41\"], [0.9, \"#4d9221\"], [1, \"#276419\"]], \"sequential\": [[0.0, \"#0d0887\"], [0.1111111111111111, \"#46039f\"], [0.2222222222222222, \"#7201a8\"], [0.3333333333333333, \"#9c179e\"], [0.4444444444444444, \"#bd3786\"], [0.5555555555555556, \"#d8576b\"], [0.6666666666666666, \"#ed7953\"], [0.7777777777777778, \"#fb9f3a\"], [0.8888888888888888, \"#fdca26\"], [1.0, \"#f0f921\"]], \"sequentialminus\": [[0.0, \"#0d0887\"], [0.1111111111111111, \"#46039f\"], [0.2222222222222222, \"#7201a8\"], [0.3333333333333333, \"#9c179e\"], [0.4444444444444444, \"#bd3786\"], [0.5555555555555556, \"#d8576b\"], [0.6666666666666666, \"#ed7953\"], [0.7777777777777778, \"#fb9f3a\"], [0.8888888888888888, \"#fdca26\"], [1.0, \"#f0f921\"]]}, \"colorway\": [\"#636efa\", \"#EF553B\", \"#00cc96\", \"#ab63fa\", \"#FFA15A\", \"#19d3f3\", \"#FF6692\", \"#B6E880\", \"#FF97FF\", \"#FECB52\"], \"font\": {\"color\": \"#2a3f5f\"}, \"geo\": {\"bgcolor\": \"white\", \"lakecolor\": \"white\", \"landcolor\": \"#E5ECF6\", \"showlakes\": true, \"showland\": true, \"subunitcolor\": \"white\"}, \"hoverlabel\": {\"align\": \"left\"}, \"hovermode\": \"closest\", \"mapbox\": {\"style\": \"light\"}, \"paper_bgcolor\": \"white\", \"plot_bgcolor\": \"#E5ECF6\", \"polar\": {\"angularaxis\": {\"gridcolor\": \"white\", \"linecolor\": \"white\", \"ticks\": \"\"}, \"bgcolor\": \"#E5ECF6\", \"radialaxis\": {\"gridcolor\": \"white\", \"linecolor\": \"white\", \"ticks\": \"\"}}, \"scene\": {\"xaxis\": {\"backgroundcolor\": \"#E5ECF6\", \"gridcolor\": \"white\", \"gridwidth\": 2, \"linecolor\": \"white\", \"showbackground\": true, \"ticks\": \"\", \"zerolinecolor\": \"white\"}, \"yaxis\": {\"backgroundcolor\": \"#E5ECF6\", \"gridcolor\": \"white\", \"gridwidth\": 2, \"linecolor\": \"white\", \"showbackground\": true, \"ticks\": \"\", \"zerolinecolor\": \"white\"}, \"zaxis\": {\"backgroundcolor\": \"#E5ECF6\", \"gridcolor\": \"white\", \"gridwidth\": 2, \"linecolor\": \"white\", \"showbackground\": true, \"ticks\": \"\", \"zerolinecolor\": \"white\"}}, \"shapedefaults\": {\"line\": {\"color\": \"#2a3f5f\"}}, \"ternary\": {\"aaxis\": {\"gridcolor\": \"white\", \"linecolor\": \"white\", \"ticks\": \"\"}, \"baxis\": {\"gridcolor\": \"white\", \"linecolor\": \"white\", \"ticks\": \"\"}, \"bgcolor\": \"#E5ECF6\", \"caxis\": {\"gridcolor\": \"white\", \"linecolor\": \"white\", \"ticks\": \"\"}}, \"title\": {\"x\": 0.05}, \"xaxis\": {\"automargin\": true, \"gridcolor\": \"white\", \"linecolor\": \"white\", \"ticks\": \"\", \"title\": {\"standoff\": 15}, \"zerolinecolor\": \"white\", \"zerolinewidth\": 2}, \"yaxis\": {\"automargin\": true, \"gridcolor\": \"white\", \"linecolor\": \"white\", \"ticks\": \"\", \"title\": {\"standoff\": 15}, \"zerolinecolor\": \"white\", \"zerolinewidth\": 2}}}, \"xaxis\": {\"anchor\": \"y\", \"categoryarray\": [\"Caf\\u00e9\", \"Hotel\", \"Coffee Shop\", \"Indonesian Restaurant\", \"Asian Restaurant\", \"Noodle House\", \"Cocktail Bar\", \"Ice Cream Shop\", \"Fast Food Restaurant\", \"Convenience Store\"], \"categoryorder\": \"array\", \"domain\": [0.0, 1.0], \"title\": {\"text\": \"Venue\"}}, \"yaxis\": {\"anchor\": \"x\", \"domain\": [0.0, 1.0], \"title\": {\"text\": \"Total Venue\"}}},\n                        {\"responsive\": true}\n                    ).then(function(){\n                            \nvar gd = document.getElementById('48d7e18a-550f-4788-a33a-44a543954b67');\nvar x = new MutationObserver(function (mutations, observer) {{\n        var display = window.getComputedStyle(gd).display;\n        if (!display || display === 'none') {{\n            console.log([gd, 'removed!']);\n            Plotly.purge(gd);\n            observer.disconnect();\n        }}\n}});\n\n// Listen for the removal of the full notebook cells\nvar notebookContainer = gd.closest('#notebook-container');\nif (notebookContainer) {{\n    x.observe(notebookContainer, {childList: true});\n}}\n\n// Listen for the clearing of the current output cell\nvar outputEl = gd.closest('.output');\nif (outputEl) {{\n    x.observe(outputEl, {childList: true});\n}}\n\n                        })\n                };\n                });\n            </script>\n        </div>"
                    },
                    "metadata": {}
                }
            ]
        },
        {
            "metadata": {},
            "cell_type": "markdown",
            "source": "#### One Hot Encoding By Venue Category"
        },
        {
            "metadata": {},
            "cell_type": "code",
            "source": "hotels_grouped.shape",
            "execution_count": 78,
            "outputs": [
                {
                    "output_type": "execute_result",
                    "execution_count": 78,
                    "data": {
                        "text/plain": "(26, 44)"
                    },
                    "metadata": {}
                }
            ]
        },
        {
            "metadata": {},
            "cell_type": "code",
            "source": "# remove hotel in nearby places\ndf_nearby_hotels = df_nearby_hotels[df_nearby_hotels['Venue Category'] != 'Hotel']\n\n# one hot encoding by category\nhotels_onehot = pd.get_dummies(df_nearby_hotels[['Venue Category']], prefix=\"\", prefix_sep=\"\")\n# add neighborhood column back to dataframe\nhotels_onehot['Hotel Name'] = df_nearby_hotels['Hotel Name'] \n\n# move neighborhood column to the first column\nfixed_columns = [hotels_onehot.columns[-1]] + list(hotels_onehot.columns[:-1])\nhotels_onehot = hotels_onehot[fixed_columns]\n\n# grouping by hotel name\nhotels_grouped = hotels_onehot.groupby('Hotel Name').mean().reset_index()\nhotels_grouped.head()",
            "execution_count": 79,
            "outputs": [
                {
                    "output_type": "execute_result",
                    "execution_count": 79,
                    "data": {
                        "text/plain": "                                          Hotel Name  Acehnese Restaurant  \\\n0                                       Crowne Hotel             0.000000   \n1  Fitness Center Galeri Ciumbuleuit Hotel & Apar...             0.035714   \n2                              Geulis Boutique Hotel             0.000000   \n3                    Grand Ball Room Panghegar Hotel             0.000000   \n4                                   Grand Kopo Hotel             0.035714   \n\n   American Restaurant    Arcade  Asian Restaurant  Bakery    Bistro  \\\n0                  0.0  0.035714          0.035714    0.00  0.035714   \n1                  0.0  0.035714          0.035714    0.00  0.000000   \n2                  0.0  0.120000          0.040000    0.04  0.000000   \n3                  0.0  0.000000          0.074074    0.00  0.000000   \n4                  0.0  0.000000          0.071429    0.00  0.000000   \n\n   Breakfast Spot  Bridge  Burger Joint      Caf\u00e9  Chinese Restaurant  \\\n0        0.000000     0.0      0.035714  0.178571                 0.0   \n1        0.035714     0.0      0.035714  0.178571                 0.0   \n2        0.000000     0.0      0.000000  0.160000                 0.0   \n3        0.000000     0.0      0.037037  0.185185                 0.0   \n4        0.000000     0.0      0.035714  0.178571                 0.0   \n\n   Cocktail Bar  Coffee Shop  College Auditorium  College Gym  \\\n0      0.071429     0.142857                 0.0          0.0   \n1      0.071429     0.142857                 0.0          0.0   \n2      0.000000     0.120000                 0.0          0.0   \n3      0.074074     0.111111                 0.0          0.0   \n4      0.035714     0.142857                 0.0          0.0   \n\n   College Stadium  Convenience Store  Dessert Shop  Diner  \\\n0              0.0           0.071429      0.071429    0.0   \n1              0.0           0.071429      0.071429    0.0   \n2              0.0           0.000000      0.000000    0.0   \n3              0.0           0.074074      0.037037    0.0   \n4              0.0           0.071429      0.071429    0.0   \n\n   Fast Food Restaurant  Food Court  Food Truck  Fried Chicken Joint  Garden  \\\n0              0.035714    0.000000    0.000000                  0.0     0.0   \n1              0.035714    0.035714    0.000000                  0.0     0.0   \n2              0.000000    0.000000    0.000000                  0.0     0.0   \n3              0.074074    0.000000    0.037037                  0.0     0.0   \n4              0.035714    0.035714    0.035714                  0.0     0.0   \n\n   Gas Station  Ice Cream Shop  Indonesian Restaurant  Juice Bar  Kids Store  \\\n0          0.0        0.035714               0.071429        0.0        0.00   \n1          0.0        0.000000               0.071429        0.0        0.00   \n2          0.0        0.040000               0.120000        0.0        0.04   \n3          0.0        0.037037               0.074074        0.0        0.00   \n4          0.0        0.000000               0.107143        0.0        0.00   \n\n     Lounge  Music Venue  Noodle House  Office  Park  Pizza Place  \\\n0  0.035714          0.0      0.107143     0.0   0.0          0.0   \n1  0.035714          0.0      0.071429     0.0   0.0          0.0   \n2  0.040000          0.0      0.080000     0.0   0.0          0.0   \n3  0.037037          0.0      0.111111     0.0   0.0          0.0   \n4  0.035714          0.0      0.071429     0.0   0.0          0.0   \n\n   Salon / Barbershop  Seafood Restaurant  Shoe Store   Spa  \\\n0                 0.0                 0.0        0.00  0.00   \n1                 0.0                 0.0        0.00  0.00   \n2                 0.0                 0.0        0.08  0.04   \n3                 0.0                 0.0        0.00  0.00   \n4                 0.0                 0.0        0.00  0.00   \n\n   Sporting Goods Shop  Steakhouse  Sundanese Restaurant  Toy / Game Store  \n0             0.035714    0.000000              0.000000              0.00  \n1             0.000000    0.035714              0.000000              0.00  \n2             0.040000    0.000000              0.000000              0.04  \n3             0.000000    0.000000              0.037037              0.00  \n4             0.000000    0.035714              0.000000              0.00  ",
                        "text/html": "<div>\n<style scoped>\n    .dataframe tbody tr th:only-of-type {\n        vertical-align: middle;\n    }\n\n    .dataframe tbody tr th {\n        vertical-align: top;\n    }\n\n    .dataframe thead th {\n        text-align: right;\n    }\n</style>\n<table border=\"1\" class=\"dataframe\">\n  <thead>\n    <tr style=\"text-align: right;\">\n      <th></th>\n      <th>Hotel Name</th>\n      <th>Acehnese Restaurant</th>\n      <th>American Restaurant</th>\n      <th>Arcade</th>\n      <th>Asian Restaurant</th>\n      <th>Bakery</th>\n      <th>Bistro</th>\n      <th>Breakfast Spot</th>\n      <th>Bridge</th>\n      <th>Burger Joint</th>\n      <th>Caf\u00e9</th>\n      <th>Chinese Restaurant</th>\n      <th>Cocktail Bar</th>\n      <th>Coffee Shop</th>\n      <th>College Auditorium</th>\n      <th>College Gym</th>\n      <th>College Stadium</th>\n      <th>Convenience Store</th>\n      <th>Dessert Shop</th>\n      <th>Diner</th>\n      <th>Fast Food Restaurant</th>\n      <th>Food Court</th>\n      <th>Food Truck</th>\n      <th>Fried Chicken Joint</th>\n      <th>Garden</th>\n      <th>Gas Station</th>\n      <th>Ice Cream Shop</th>\n      <th>Indonesian Restaurant</th>\n      <th>Juice Bar</th>\n      <th>Kids Store</th>\n      <th>Lounge</th>\n      <th>Music Venue</th>\n      <th>Noodle House</th>\n      <th>Office</th>\n      <th>Park</th>\n      <th>Pizza Place</th>\n      <th>Salon / Barbershop</th>\n      <th>Seafood Restaurant</th>\n      <th>Shoe Store</th>\n      <th>Spa</th>\n      <th>Sporting Goods Shop</th>\n      <th>Steakhouse</th>\n      <th>Sundanese Restaurant</th>\n      <th>Toy / Game Store</th>\n    </tr>\n  </thead>\n  <tbody>\n    <tr>\n      <th>0</th>\n      <td>Crowne Hotel</td>\n      <td>0.000000</td>\n      <td>0.0</td>\n      <td>0.035714</td>\n      <td>0.035714</td>\n      <td>0.00</td>\n      <td>0.035714</td>\n      <td>0.000000</td>\n      <td>0.0</td>\n      <td>0.035714</td>\n      <td>0.178571</td>\n      <td>0.0</td>\n      <td>0.071429</td>\n      <td>0.142857</td>\n      <td>0.0</td>\n      <td>0.0</td>\n      <td>0.0</td>\n      <td>0.071429</td>\n      <td>0.071429</td>\n      <td>0.0</td>\n      <td>0.035714</td>\n      <td>0.000000</td>\n      <td>0.000000</td>\n      <td>0.0</td>\n      <td>0.0</td>\n      <td>0.0</td>\n      <td>0.035714</td>\n      <td>0.071429</td>\n      <td>0.0</td>\n      <td>0.00</td>\n      <td>0.035714</td>\n      <td>0.0</td>\n      <td>0.107143</td>\n      <td>0.0</td>\n      <td>0.0</td>\n      <td>0.0</td>\n      <td>0.0</td>\n      <td>0.0</td>\n      <td>0.00</td>\n      <td>0.00</td>\n      <td>0.035714</td>\n      <td>0.000000</td>\n      <td>0.000000</td>\n      <td>0.00</td>\n    </tr>\n    <tr>\n      <th>1</th>\n      <td>Fitness Center Galeri Ciumbuleuit Hotel &amp; Apar...</td>\n      <td>0.035714</td>\n      <td>0.0</td>\n      <td>0.035714</td>\n      <td>0.035714</td>\n      <td>0.00</td>\n      <td>0.000000</td>\n      <td>0.035714</td>\n      <td>0.0</td>\n      <td>0.035714</td>\n      <td>0.178571</td>\n      <td>0.0</td>\n      <td>0.071429</td>\n      <td>0.142857</td>\n      <td>0.0</td>\n      <td>0.0</td>\n      <td>0.0</td>\n      <td>0.071429</td>\n      <td>0.071429</td>\n      <td>0.0</td>\n      <td>0.035714</td>\n      <td>0.035714</td>\n      <td>0.000000</td>\n      <td>0.0</td>\n      <td>0.0</td>\n      <td>0.0</td>\n      <td>0.000000</td>\n      <td>0.071429</td>\n      <td>0.0</td>\n      <td>0.00</td>\n      <td>0.035714</td>\n      <td>0.0</td>\n      <td>0.071429</td>\n      <td>0.0</td>\n      <td>0.0</td>\n      <td>0.0</td>\n      <td>0.0</td>\n      <td>0.0</td>\n      <td>0.00</td>\n      <td>0.00</td>\n      <td>0.000000</td>\n      <td>0.035714</td>\n      <td>0.000000</td>\n      <td>0.00</td>\n    </tr>\n    <tr>\n      <th>2</th>\n      <td>Geulis Boutique Hotel</td>\n      <td>0.000000</td>\n      <td>0.0</td>\n      <td>0.120000</td>\n      <td>0.040000</td>\n      <td>0.04</td>\n      <td>0.000000</td>\n      <td>0.000000</td>\n      <td>0.0</td>\n      <td>0.000000</td>\n      <td>0.160000</td>\n      <td>0.0</td>\n      <td>0.000000</td>\n      <td>0.120000</td>\n      <td>0.0</td>\n      <td>0.0</td>\n      <td>0.0</td>\n      <td>0.000000</td>\n      <td>0.000000</td>\n      <td>0.0</td>\n      <td>0.000000</td>\n      <td>0.000000</td>\n      <td>0.000000</td>\n      <td>0.0</td>\n      <td>0.0</td>\n      <td>0.0</td>\n      <td>0.040000</td>\n      <td>0.120000</td>\n      <td>0.0</td>\n      <td>0.04</td>\n      <td>0.040000</td>\n      <td>0.0</td>\n      <td>0.080000</td>\n      <td>0.0</td>\n      <td>0.0</td>\n      <td>0.0</td>\n      <td>0.0</td>\n      <td>0.0</td>\n      <td>0.08</td>\n      <td>0.04</td>\n      <td>0.040000</td>\n      <td>0.000000</td>\n      <td>0.000000</td>\n      <td>0.04</td>\n    </tr>\n    <tr>\n      <th>3</th>\n      <td>Grand Ball Room Panghegar Hotel</td>\n      <td>0.000000</td>\n      <td>0.0</td>\n      <td>0.000000</td>\n      <td>0.074074</td>\n      <td>0.00</td>\n      <td>0.000000</td>\n      <td>0.000000</td>\n      <td>0.0</td>\n      <td>0.037037</td>\n      <td>0.185185</td>\n      <td>0.0</td>\n      <td>0.074074</td>\n      <td>0.111111</td>\n      <td>0.0</td>\n      <td>0.0</td>\n      <td>0.0</td>\n      <td>0.074074</td>\n      <td>0.037037</td>\n      <td>0.0</td>\n      <td>0.074074</td>\n      <td>0.000000</td>\n      <td>0.037037</td>\n      <td>0.0</td>\n      <td>0.0</td>\n      <td>0.0</td>\n      <td>0.037037</td>\n      <td>0.074074</td>\n      <td>0.0</td>\n      <td>0.00</td>\n      <td>0.037037</td>\n      <td>0.0</td>\n      <td>0.111111</td>\n      <td>0.0</td>\n      <td>0.0</td>\n      <td>0.0</td>\n      <td>0.0</td>\n      <td>0.0</td>\n      <td>0.00</td>\n      <td>0.00</td>\n      <td>0.000000</td>\n      <td>0.000000</td>\n      <td>0.037037</td>\n      <td>0.00</td>\n    </tr>\n    <tr>\n      <th>4</th>\n      <td>Grand Kopo Hotel</td>\n      <td>0.035714</td>\n      <td>0.0</td>\n      <td>0.000000</td>\n      <td>0.071429</td>\n      <td>0.00</td>\n      <td>0.000000</td>\n      <td>0.000000</td>\n      <td>0.0</td>\n      <td>0.035714</td>\n      <td>0.178571</td>\n      <td>0.0</td>\n      <td>0.035714</td>\n      <td>0.142857</td>\n      <td>0.0</td>\n      <td>0.0</td>\n      <td>0.0</td>\n      <td>0.071429</td>\n      <td>0.071429</td>\n      <td>0.0</td>\n      <td>0.035714</td>\n      <td>0.035714</td>\n      <td>0.035714</td>\n      <td>0.0</td>\n      <td>0.0</td>\n      <td>0.0</td>\n      <td>0.000000</td>\n      <td>0.107143</td>\n      <td>0.0</td>\n      <td>0.00</td>\n      <td>0.035714</td>\n      <td>0.0</td>\n      <td>0.071429</td>\n      <td>0.0</td>\n      <td>0.0</td>\n      <td>0.0</td>\n      <td>0.0</td>\n      <td>0.0</td>\n      <td>0.00</td>\n      <td>0.00</td>\n      <td>0.000000</td>\n      <td>0.035714</td>\n      <td>0.000000</td>\n      <td>0.00</td>\n    </tr>\n  </tbody>\n</table>\n</div>"
                    },
                    "metadata": {}
                }
            ]
        },
        {
            "metadata": {},
            "cell_type": "markdown",
            "source": "#### Get Top 10 Places Near Each The Hotel"
        },
        {
            "metadata": {},
            "cell_type": "code",
            "source": "def return_most_common_venues(row, num_top_venues):\n    row_categories = row.iloc[1:]\n    row_categories_sorted = row_categories.sort_values(ascending=False)\n    \n    return row_categories_sorted.index.values[0:num_top_venues]\n\nnum_top_venues = 10\n\nindicators = ['st', 'nd', 'rd']\n\n# create columns according to number of top venues\ncolumns = ['Hotel Name']\nfor ind in np.arange(num_top_venues):\n    try:\n        columns.append('{}{} Most Common Venue'.format(ind+1, indicators[ind]))\n    except:\n        columns.append('{}th Most Common Venue'.format(ind+1))\n\n# create a new dataframe\nnearby_hotels_sorted = pd.DataFrame(columns=columns)\nnearby_hotels_sorted['Hotel Name'] = hotels_grouped['Hotel Name']\n\nfor ind in np.arange(len(hotels_grouped)):\n    nearby_hotels_sorted.iloc[ind, 1:] = return_most_common_venues(hotels_grouped.iloc[ind, :], num_top_venues)\n\nnearby_hotels_sorted.head()",
            "execution_count": 80,
            "outputs": [
                {
                    "output_type": "execute_result",
                    "execution_count": 80,
                    "data": {
                        "text/plain": "                                          Hotel Name 1st Most Common Venue  \\\n0                                       Crowne Hotel                  Caf\u00e9   \n1  Fitness Center Galeri Ciumbuleuit Hotel & Apar...                  Caf\u00e9   \n2                              Geulis Boutique Hotel                  Caf\u00e9   \n3                    Grand Ball Room Panghegar Hotel                  Caf\u00e9   \n4                                   Grand Kopo Hotel                  Caf\u00e9   \n\n   2nd Most Common Venue  3rd Most Common Venue  4th Most Common Venue  \\\n0            Coffee Shop           Noodle House      Convenience Store   \n1            Coffee Shop      Convenience Store  Indonesian Restaurant   \n2  Indonesian Restaurant                 Arcade            Coffee Shop   \n3            Coffee Shop           Noodle House   Fast Food Restaurant   \n4            Coffee Shop  Indonesian Restaurant       Asian Restaurant   \n\n   5th Most Common Venue 6th Most Common Venue  7th Most Common Venue  \\\n0  Indonesian Restaurant          Cocktail Bar           Dessert Shop   \n1           Cocktail Bar          Dessert Shop           Noodle House   \n2             Shoe Store          Noodle House       Toy / Game Store   \n3      Convenience Store      Asian Restaurant  Indonesian Restaurant   \n4      Convenience Store          Dessert Shop           Noodle House   \n\n  8th Most Common Venue 9th Most Common Venue 10th Most Common Venue  \n0          Burger Joint        Ice Cream Shop                 Lounge  \n1          Burger Joint            Food Court                 Lounge  \n2            Kids Store                Lounge         Ice Cream Shop  \n3          Cocktail Bar          Dessert Shop   Sundanese Restaurant  \n4            Food Truck                Lounge           Burger Joint  ",
                        "text/html": "<div>\n<style scoped>\n    .dataframe tbody tr th:only-of-type {\n        vertical-align: middle;\n    }\n\n    .dataframe tbody tr th {\n        vertical-align: top;\n    }\n\n    .dataframe thead th {\n        text-align: right;\n    }\n</style>\n<table border=\"1\" class=\"dataframe\">\n  <thead>\n    <tr style=\"text-align: right;\">\n      <th></th>\n      <th>Hotel Name</th>\n      <th>1st Most Common Venue</th>\n      <th>2nd Most Common Venue</th>\n      <th>3rd Most Common Venue</th>\n      <th>4th Most Common Venue</th>\n      <th>5th Most Common Venue</th>\n      <th>6th Most Common Venue</th>\n      <th>7th Most Common Venue</th>\n      <th>8th Most Common Venue</th>\n      <th>9th Most Common Venue</th>\n      <th>10th Most Common Venue</th>\n    </tr>\n  </thead>\n  <tbody>\n    <tr>\n      <th>0</th>\n      <td>Crowne Hotel</td>\n      <td>Caf\u00e9</td>\n      <td>Coffee Shop</td>\n      <td>Noodle House</td>\n      <td>Convenience Store</td>\n      <td>Indonesian Restaurant</td>\n      <td>Cocktail Bar</td>\n      <td>Dessert Shop</td>\n      <td>Burger Joint</td>\n      <td>Ice Cream Shop</td>\n      <td>Lounge</td>\n    </tr>\n    <tr>\n      <th>1</th>\n      <td>Fitness Center Galeri Ciumbuleuit Hotel &amp; Apar...</td>\n      <td>Caf\u00e9</td>\n      <td>Coffee Shop</td>\n      <td>Convenience Store</td>\n      <td>Indonesian Restaurant</td>\n      <td>Cocktail Bar</td>\n      <td>Dessert Shop</td>\n      <td>Noodle House</td>\n      <td>Burger Joint</td>\n      <td>Food Court</td>\n      <td>Lounge</td>\n    </tr>\n    <tr>\n      <th>2</th>\n      <td>Geulis Boutique Hotel</td>\n      <td>Caf\u00e9</td>\n      <td>Indonesian Restaurant</td>\n      <td>Arcade</td>\n      <td>Coffee Shop</td>\n      <td>Shoe Store</td>\n      <td>Noodle House</td>\n      <td>Toy / Game Store</td>\n      <td>Kids Store</td>\n      <td>Lounge</td>\n      <td>Ice Cream Shop</td>\n    </tr>\n    <tr>\n      <th>3</th>\n      <td>Grand Ball Room Panghegar Hotel</td>\n      <td>Caf\u00e9</td>\n      <td>Coffee Shop</td>\n      <td>Noodle House</td>\n      <td>Fast Food Restaurant</td>\n      <td>Convenience Store</td>\n      <td>Asian Restaurant</td>\n      <td>Indonesian Restaurant</td>\n      <td>Cocktail Bar</td>\n      <td>Dessert Shop</td>\n      <td>Sundanese Restaurant</td>\n    </tr>\n    <tr>\n      <th>4</th>\n      <td>Grand Kopo Hotel</td>\n      <td>Caf\u00e9</td>\n      <td>Coffee Shop</td>\n      <td>Indonesian Restaurant</td>\n      <td>Asian Restaurant</td>\n      <td>Convenience Store</td>\n      <td>Dessert Shop</td>\n      <td>Noodle House</td>\n      <td>Food Truck</td>\n      <td>Lounge</td>\n      <td>Burger Joint</td>\n    </tr>\n  </tbody>\n</table>\n</div>"
                    },
                    "metadata": {}
                }
            ]
        },
        {
            "metadata": {},
            "cell_type": "code",
            "source": "nearby_hotels_sorted.shape",
            "execution_count": 81,
            "outputs": [
                {
                    "output_type": "execute_result",
                    "execution_count": 81,
                    "data": {
                        "text/plain": "(25, 11)"
                    },
                    "metadata": {}
                }
            ]
        },
        {
            "metadata": {},
            "cell_type": "markdown",
            "source": "## 3. Hotel Segmentation"
        },
        {
            "metadata": {},
            "cell_type": "code",
            "source": "hotels_grouped_clustering = hotels_grouped.drop('Hotel Name', axis=1)\n\n# run k-means clustering\nkclusters = 5\nkmeans = KMeans(n_clusters=kclusters, random_state=0).fit(hotels_grouped_clustering)\n# add clustering labels\nnearby_hotels_sorted['Cluster'] = kmeans.labels_\n\nhotel_data = df_nearby_hotels[['Hotel Name', 'Hotel Latitude', 'Hotel Longitude']]\n\n# merge hotel data with hotels_grouped\nhotels_merged = pd.merge(hotel_data, nearby_hotels_sorted, on='Hotel Name')\nhotels_merged = hotels_merged.drop_duplicates(subset=['Hotel Name'], keep='last').reset_index(drop=True)\nhotels_merged.head()",
            "execution_count": 82,
            "outputs": [
                {
                    "output_type": "execute_result",
                    "execution_count": 82,
                    "data": {
                        "text/plain": "              Hotel Name  Hotel Latitude  Hotel Longitude  \\\n0   Hotel Neo Dipatiukur       -6.889919       107.616451   \n1           Royal  Hotel       -6.886584       107.613328   \n2    Hotel Puspa Kencana       -6.884576       107.612229   \n3  Geulis Boutique Hotel       -6.891400       107.612839   \n4         Hotel Sheraton       -6.885765       107.614036   \n\n  1st Most Common Venue  2nd Most Common Venue 3rd Most Common Venue  \\\n0                  Caf\u00e9            Coffee Shop          Dessert Shop   \n1                  Caf\u00e9  Indonesian Restaurant           Coffee Shop   \n2                  Caf\u00e9            Coffee Shop          Cocktail Bar   \n3                  Caf\u00e9  Indonesian Restaurant                Arcade   \n4                  Caf\u00e9   Fast Food Restaurant           Coffee Shop   \n\n  4th Most Common Venue  5th Most Common Venue 6th Most Common Venue  \\\n0                Arcade           Noodle House        Breakfast Spot   \n1                Arcade       Asian Restaurant                Lounge   \n2        Ice Cream Shop  Indonesian Restaurant                Lounge   \n3           Coffee Shop             Shoe Store          Noodle House   \n4          Cocktail Bar       Asian Restaurant        Ice Cream Shop   \n\n   7th Most Common Venue 8th Most Common Venue 9th Most Common Venue  \\\n0  Indonesian Restaurant                Lounge      Toy / Game Store   \n1           Cocktail Bar     Convenience Store                Bridge   \n2                 Bridge          Noodle House  Fast Food Restaurant   \n3       Toy / Game Store            Kids Store                Lounge   \n4  Indonesian Restaurant                Bridge          Noodle House   \n\n  10th Most Common Venue  Cluster  \n0                 Bakery        1  \n1           Noodle House        3  \n2            College Gym        3  \n3         Ice Cream Shop        1  \n4                 Lounge        3  ",
                        "text/html": "<div>\n<style scoped>\n    .dataframe tbody tr th:only-of-type {\n        vertical-align: middle;\n    }\n\n    .dataframe tbody tr th {\n        vertical-align: top;\n    }\n\n    .dataframe thead th {\n        text-align: right;\n    }\n</style>\n<table border=\"1\" class=\"dataframe\">\n  <thead>\n    <tr style=\"text-align: right;\">\n      <th></th>\n      <th>Hotel Name</th>\n      <th>Hotel Latitude</th>\n      <th>Hotel Longitude</th>\n      <th>1st Most Common Venue</th>\n      <th>2nd Most Common Venue</th>\n      <th>3rd Most Common Venue</th>\n      <th>4th Most Common Venue</th>\n      <th>5th Most Common Venue</th>\n      <th>6th Most Common Venue</th>\n      <th>7th Most Common Venue</th>\n      <th>8th Most Common Venue</th>\n      <th>9th Most Common Venue</th>\n      <th>10th Most Common Venue</th>\n      <th>Cluster</th>\n    </tr>\n  </thead>\n  <tbody>\n    <tr>\n      <th>0</th>\n      <td>Hotel Neo Dipatiukur</td>\n      <td>-6.889919</td>\n      <td>107.616451</td>\n      <td>Caf\u00e9</td>\n      <td>Coffee Shop</td>\n      <td>Dessert Shop</td>\n      <td>Arcade</td>\n      <td>Noodle House</td>\n      <td>Breakfast Spot</td>\n      <td>Indonesian Restaurant</td>\n      <td>Lounge</td>\n      <td>Toy / Game Store</td>\n      <td>Bakery</td>\n      <td>1</td>\n    </tr>\n    <tr>\n      <th>1</th>\n      <td>Royal  Hotel</td>\n      <td>-6.886584</td>\n      <td>107.613328</td>\n      <td>Caf\u00e9</td>\n      <td>Indonesian Restaurant</td>\n      <td>Coffee Shop</td>\n      <td>Arcade</td>\n      <td>Asian Restaurant</td>\n      <td>Lounge</td>\n      <td>Cocktail Bar</td>\n      <td>Convenience Store</td>\n      <td>Bridge</td>\n      <td>Noodle House</td>\n      <td>3</td>\n    </tr>\n    <tr>\n      <th>2</th>\n      <td>Hotel Puspa Kencana</td>\n      <td>-6.884576</td>\n      <td>107.612229</td>\n      <td>Caf\u00e9</td>\n      <td>Coffee Shop</td>\n      <td>Cocktail Bar</td>\n      <td>Ice Cream Shop</td>\n      <td>Indonesian Restaurant</td>\n      <td>Lounge</td>\n      <td>Bridge</td>\n      <td>Noodle House</td>\n      <td>Fast Food Restaurant</td>\n      <td>College Gym</td>\n      <td>3</td>\n    </tr>\n    <tr>\n      <th>3</th>\n      <td>Geulis Boutique Hotel</td>\n      <td>-6.891400</td>\n      <td>107.612839</td>\n      <td>Caf\u00e9</td>\n      <td>Indonesian Restaurant</td>\n      <td>Arcade</td>\n      <td>Coffee Shop</td>\n      <td>Shoe Store</td>\n      <td>Noodle House</td>\n      <td>Toy / Game Store</td>\n      <td>Kids Store</td>\n      <td>Lounge</td>\n      <td>Ice Cream Shop</td>\n      <td>1</td>\n    </tr>\n    <tr>\n      <th>4</th>\n      <td>Hotel Sheraton</td>\n      <td>-6.885765</td>\n      <td>107.614036</td>\n      <td>Caf\u00e9</td>\n      <td>Fast Food Restaurant</td>\n      <td>Coffee Shop</td>\n      <td>Cocktail Bar</td>\n      <td>Asian Restaurant</td>\n      <td>Ice Cream Shop</td>\n      <td>Indonesian Restaurant</td>\n      <td>Bridge</td>\n      <td>Noodle House</td>\n      <td>Lounge</td>\n      <td>3</td>\n    </tr>\n  </tbody>\n</table>\n</div>"
                    },
                    "metadata": {}
                }
            ]
        },
        {
            "metadata": {},
            "cell_type": "markdown",
            "source": "#### Create Cluster Map"
        },
        {
            "metadata": {},
            "cell_type": "code",
            "source": "# create map\nmap_clusters = folium.Map(location=[latitude, longitude], zoom_start=16)\n\n# set color scheme for the clusters\nx = np.arange(kclusters)\nys = [i + x + (i*x)**2 for i in range(kclusters)]\ncolors_array = cm.rainbow(np.linspace(0, 1, len(ys)))\nrainbow = [colors.rgb2hex(i) for i in colors_array]\n\n# add markers to the map\nmarkers_colors = []\nfor lat, lng, poi, cluster in zip(hotels_merged['Hotel Latitude'], hotels_merged['Hotel Longitude'], hotels_merged['Hotel Name'], hotels_merged['Cluster']):\n    label = folium.Popup(str(poi) + ' Cluster ' + str(cluster), parse_html=True)\n    folium.CircleMarker(\n        [lat, lng],\n        radius=5,\n        popup=label,\n        color=rainbow[cluster-1],\n        fill=True,\n        fill_color=rainbow[cluster-1],\n        fill_opacity=0.7).add_to(map_clusters)\n       \nmap_clusters",
            "execution_count": 83,
            "outputs": [
                {
                    "output_type": "execute_result",
                    "execution_count": 83,
                    "data": {
                        "text/plain": "<folium.folium.Map at 0x7f9b7d442750>",
                        "text/html": "<div style=\"width:100%;\"><div style=\"position:relative;width:100%;height:0;padding-bottom:60%;\"><span style=\"color:#565656\">Make this Notebook Trusted to load map: File -> Trust Notebook</span><iframe src=\"about:blank\" style=\"position:absolute;width:100%;height:100%;left:0;top:0;border:none !important;\" data-html=%3C%21DOCTYPE%20html%3E%0A%3Chead%3E%20%20%20%20%0A%20%20%20%20%3Cmeta%20http-equiv%3D%22content-type%22%20content%3D%22text/html%3B%20charset%3DUTF-8%22%20/%3E%0A%20%20%20%20%0A%20%20%20%20%20%20%20%20%3Cscript%3E%0A%20%20%20%20%20%20%20%20%20%20%20%20L_NO_TOUCH%20%3D%20false%3B%0A%20%20%20%20%20%20%20%20%20%20%20%20L_DISABLE_3D%20%3D%20false%3B%0A%20%20%20%20%20%20%20%20%3C/script%3E%0A%20%20%20%20%0A%20%20%20%20%3Cstyle%3Ehtml%2C%20body%20%7Bwidth%3A%20100%25%3Bheight%3A%20100%25%3Bmargin%3A%200%3Bpadding%3A%200%3B%7D%3C/style%3E%0A%20%20%20%20%3Cstyle%3E%23map%20%7Bposition%3Aabsolute%3Btop%3A0%3Bbottom%3A0%3Bright%3A0%3Bleft%3A0%3B%7D%3C/style%3E%0A%20%20%20%20%3Cscript%20src%3D%22https%3A//cdn.jsdelivr.net/npm/leaflet%401.6.0/dist/leaflet.js%22%3E%3C/script%3E%0A%20%20%20%20%3Cscript%20src%3D%22https%3A//code.jquery.com/jquery-1.12.4.min.js%22%3E%3C/script%3E%0A%20%20%20%20%3Cscript%20src%3D%22https%3A//maxcdn.bootstrapcdn.com/bootstrap/3.2.0/js/bootstrap.min.js%22%3E%3C/script%3E%0A%20%20%20%20%3Cscript%20src%3D%22https%3A//cdnjs.cloudflare.com/ajax/libs/Leaflet.awesome-markers/2.0.2/leaflet.awesome-markers.js%22%3E%3C/script%3E%0A%20%20%20%20%3Clink%20rel%3D%22stylesheet%22%20href%3D%22https%3A//cdn.jsdelivr.net/npm/leaflet%401.6.0/dist/leaflet.css%22/%3E%0A%20%20%20%20%3Clink%20rel%3D%22stylesheet%22%20href%3D%22https%3A//maxcdn.bootstrapcdn.com/bootstrap/3.2.0/css/bootstrap.min.css%22/%3E%0A%20%20%20%20%3Clink%20rel%3D%22stylesheet%22%20href%3D%22https%3A//maxcdn.bootstrapcdn.com/bootstrap/3.2.0/css/bootstrap-theme.min.css%22/%3E%0A%20%20%20%20%3Clink%20rel%3D%22stylesheet%22%20href%3D%22https%3A//maxcdn.bootstrapcdn.com/font-awesome/4.6.3/css/font-awesome.min.css%22/%3E%0A%20%20%20%20%3Clink%20rel%3D%22stylesheet%22%20href%3D%22https%3A//cdnjs.cloudflare.com/ajax/libs/Leaflet.awesome-markers/2.0.2/leaflet.awesome-markers.css%22/%3E%0A%20%20%20%20%3Clink%20rel%3D%22stylesheet%22%20href%3D%22https%3A//cdn.jsdelivr.net/gh/python-visualization/folium/folium/templates/leaflet.awesome.rotate.min.css%22/%3E%0A%20%20%20%20%0A%20%20%20%20%20%20%20%20%20%20%20%20%3Cmeta%20name%3D%22viewport%22%20content%3D%22width%3Ddevice-width%2C%0A%20%20%20%20%20%20%20%20%20%20%20%20%20%20%20%20initial-scale%3D1.0%2C%20maximum-scale%3D1.0%2C%20user-scalable%3Dno%22%20/%3E%0A%20%20%20%20%20%20%20%20%20%20%20%20%3Cstyle%3E%0A%20%20%20%20%20%20%20%20%20%20%20%20%20%20%20%20%23map_5e2663d527464a99a52d4e0687d63b63%20%7B%0A%20%20%20%20%20%20%20%20%20%20%20%20%20%20%20%20%20%20%20%20position%3A%20relative%3B%0A%20%20%20%20%20%20%20%20%20%20%20%20%20%20%20%20%20%20%20%20width%3A%20100.0%25%3B%0A%20%20%20%20%20%20%20%20%20%20%20%20%20%20%20%20%20%20%20%20height%3A%20100.0%25%3B%0A%20%20%20%20%20%20%20%20%20%20%20%20%20%20%20%20%20%20%20%20left%3A%200.0%25%3B%0A%20%20%20%20%20%20%20%20%20%20%20%20%20%20%20%20%20%20%20%20top%3A%200.0%25%3B%0A%20%20%20%20%20%20%20%20%20%20%20%20%20%20%20%20%7D%0A%20%20%20%20%20%20%20%20%20%20%20%20%3C/style%3E%0A%20%20%20%20%20%20%20%20%0A%3C/head%3E%0A%3Cbody%3E%20%20%20%20%0A%20%20%20%20%0A%20%20%20%20%20%20%20%20%20%20%20%20%3Cdiv%20class%3D%22folium-map%22%20id%3D%22map_5e2663d527464a99a52d4e0687d63b63%22%20%3E%3C/div%3E%0A%20%20%20%20%20%20%20%20%0A%3C/body%3E%0A%3Cscript%3E%20%20%20%20%0A%20%20%20%20%0A%20%20%20%20%20%20%20%20%20%20%20%20var%20map_5e2663d527464a99a52d4e0687d63b63%20%3D%20L.map%28%0A%20%20%20%20%20%20%20%20%20%20%20%20%20%20%20%20%22map_5e2663d527464a99a52d4e0687d63b63%22%2C%0A%20%20%20%20%20%20%20%20%20%20%20%20%20%20%20%20%7B%0A%20%20%20%20%20%20%20%20%20%20%20%20%20%20%20%20%20%20%20%20center%3A%20%5B-6.8868408%2C%20107.6151136%5D%2C%0A%20%20%20%20%20%20%20%20%20%20%20%20%20%20%20%20%20%20%20%20crs%3A%20L.CRS.EPSG3857%2C%0A%20%20%20%20%20%20%20%20%20%20%20%20%20%20%20%20%20%20%20%20zoom%3A%2016%2C%0A%20%20%20%20%20%20%20%20%20%20%20%20%20%20%20%20%20%20%20%20zoomControl%3A%20true%2C%0A%20%20%20%20%20%20%20%20%20%20%20%20%20%20%20%20%20%20%20%20preferCanvas%3A%20false%2C%0A%20%20%20%20%20%20%20%20%20%20%20%20%20%20%20%20%7D%0A%20%20%20%20%20%20%20%20%20%20%20%20%29%3B%0A%0A%20%20%20%20%20%20%20%20%20%20%20%20%0A%0A%20%20%20%20%20%20%20%20%0A%20%20%20%20%0A%20%20%20%20%20%20%20%20%20%20%20%20var%20tile_layer_9768b25346fa4355930156b91749f1a6%20%3D%20L.tileLayer%28%0A%20%20%20%20%20%20%20%20%20%20%20%20%20%20%20%20%22https%3A//%7Bs%7D.tile.openstreetmap.org/%7Bz%7D/%7Bx%7D/%7By%7D.png%22%2C%0A%20%20%20%20%20%20%20%20%20%20%20%20%20%20%20%20%7B%22attribution%22%3A%20%22Data%20by%20%5Cu0026copy%3B%20%5Cu003ca%20href%3D%5C%22http%3A//openstreetmap.org%5C%22%5Cu003eOpenStreetMap%5Cu003c/a%5Cu003e%2C%20under%20%5Cu003ca%20href%3D%5C%22http%3A//www.openstreetmap.org/copyright%5C%22%5Cu003eODbL%5Cu003c/a%5Cu003e.%22%2C%20%22detectRetina%22%3A%20false%2C%20%22maxNativeZoom%22%3A%2018%2C%20%22maxZoom%22%3A%2018%2C%20%22minZoom%22%3A%200%2C%20%22noWrap%22%3A%20false%2C%20%22opacity%22%3A%201%2C%20%22subdomains%22%3A%20%22abc%22%2C%20%22tms%22%3A%20false%7D%0A%20%20%20%20%20%20%20%20%20%20%20%20%29.addTo%28map_5e2663d527464a99a52d4e0687d63b63%29%3B%0A%20%20%20%20%20%20%20%20%0A%20%20%20%20%0A%20%20%20%20%20%20%20%20%20%20%20%20var%20circle_marker_df16f3f809ef414e8a68a1845e062f64%20%3D%20L.circleMarker%28%0A%20%20%20%20%20%20%20%20%20%20%20%20%20%20%20%20%5B-6.889919148588358%2C%20107.61645068737492%5D%2C%0A%20%20%20%20%20%20%20%20%20%20%20%20%20%20%20%20%7B%22bubblingMouseEvents%22%3A%20true%2C%20%22color%22%3A%20%22%238000ff%22%2C%20%22dashArray%22%3A%20null%2C%20%22dashOffset%22%3A%20null%2C%20%22fill%22%3A%20true%2C%20%22fillColor%22%3A%20%22%238000ff%22%2C%20%22fillOpacity%22%3A%200.7%2C%20%22fillRule%22%3A%20%22evenodd%22%2C%20%22lineCap%22%3A%20%22round%22%2C%20%22lineJoin%22%3A%20%22round%22%2C%20%22opacity%22%3A%201.0%2C%20%22radius%22%3A%205%2C%20%22stroke%22%3A%20true%2C%20%22weight%22%3A%203%7D%0A%20%20%20%20%20%20%20%20%20%20%20%20%29.addTo%28map_5e2663d527464a99a52d4e0687d63b63%29%3B%0A%20%20%20%20%20%20%20%20%0A%20%20%20%20%0A%20%20%20%20%20%20%20%20var%20popup_2f764d40963546578ac3f5861c3ad80a%20%3D%20L.popup%28%7B%22maxWidth%22%3A%20%22100%25%22%7D%29%3B%0A%0A%20%20%20%20%20%20%20%20%0A%20%20%20%20%20%20%20%20%20%20%20%20var%20html_3ae3d07b7be043e6a678edf4f1791aea%20%3D%20%24%28%60%3Cdiv%20id%3D%22html_3ae3d07b7be043e6a678edf4f1791aea%22%20style%3D%22width%3A%20100.0%25%3B%20height%3A%20100.0%25%3B%22%3EHotel%20Neo%20Dipatiukur%20Cluster%201%3C/div%3E%60%29%5B0%5D%3B%0A%20%20%20%20%20%20%20%20%20%20%20%20popup_2f764d40963546578ac3f5861c3ad80a.setContent%28html_3ae3d07b7be043e6a678edf4f1791aea%29%3B%0A%20%20%20%20%20%20%20%20%0A%0A%20%20%20%20%20%20%20%20circle_marker_df16f3f809ef414e8a68a1845e062f64.bindPopup%28popup_2f764d40963546578ac3f5861c3ad80a%29%0A%20%20%20%20%20%20%20%20%3B%0A%0A%20%20%20%20%20%20%20%20%0A%20%20%20%20%0A%20%20%20%20%0A%20%20%20%20%20%20%20%20%20%20%20%20var%20circle_marker_ffa914e8c2014d778d05a1c8940fd68c%20%3D%20L.circleMarker%28%0A%20%20%20%20%20%20%20%20%20%20%20%20%20%20%20%20%5B-6.886583528605275%2C%20107.61332776849285%5D%2C%0A%20%20%20%20%20%20%20%20%20%20%20%20%20%20%20%20%7B%22bubblingMouseEvents%22%3A%20true%2C%20%22color%22%3A%20%22%2380ffb4%22%2C%20%22dashArray%22%3A%20null%2C%20%22dashOffset%22%3A%20null%2C%20%22fill%22%3A%20true%2C%20%22fillColor%22%3A%20%22%2380ffb4%22%2C%20%22fillOpacity%22%3A%200.7%2C%20%22fillRule%22%3A%20%22evenodd%22%2C%20%22lineCap%22%3A%20%22round%22%2C%20%22lineJoin%22%3A%20%22round%22%2C%20%22opacity%22%3A%201.0%2C%20%22radius%22%3A%205%2C%20%22stroke%22%3A%20true%2C%20%22weight%22%3A%203%7D%0A%20%20%20%20%20%20%20%20%20%20%20%20%29.addTo%28map_5e2663d527464a99a52d4e0687d63b63%29%3B%0A%20%20%20%20%20%20%20%20%0A%20%20%20%20%0A%20%20%20%20%20%20%20%20var%20popup_539c113e068841b3b230051fd34ee778%20%3D%20L.popup%28%7B%22maxWidth%22%3A%20%22100%25%22%7D%29%3B%0A%0A%20%20%20%20%20%20%20%20%0A%20%20%20%20%20%20%20%20%20%20%20%20var%20html_914c2c8f184244a28c6114013c9165b4%20%3D%20%24%28%60%3Cdiv%20id%3D%22html_914c2c8f184244a28c6114013c9165b4%22%20style%3D%22width%3A%20100.0%25%3B%20height%3A%20100.0%25%3B%22%3ERoyal%20%20Hotel%20Cluster%203%3C/div%3E%60%29%5B0%5D%3B%0A%20%20%20%20%20%20%20%20%20%20%20%20popup_539c113e068841b3b230051fd34ee778.setContent%28html_914c2c8f184244a28c6114013c9165b4%29%3B%0A%20%20%20%20%20%20%20%20%0A%0A%20%20%20%20%20%20%20%20circle_marker_ffa914e8c2014d778d05a1c8940fd68c.bindPopup%28popup_539c113e068841b3b230051fd34ee778%29%0A%20%20%20%20%20%20%20%20%3B%0A%0A%20%20%20%20%20%20%20%20%0A%20%20%20%20%0A%20%20%20%20%0A%20%20%20%20%20%20%20%20%20%20%20%20var%20circle_marker_c4442007d4b547078c2392e3ae0bfcfa%20%3D%20L.circleMarker%28%0A%20%20%20%20%20%20%20%20%20%20%20%20%20%20%20%20%5B-6.8845756140164%2C%20107.61222914140397%5D%2C%0A%20%20%20%20%20%20%20%20%20%20%20%20%20%20%20%20%7B%22bubblingMouseEvents%22%3A%20true%2C%20%22color%22%3A%20%22%2380ffb4%22%2C%20%22dashArray%22%3A%20null%2C%20%22dashOffset%22%3A%20null%2C%20%22fill%22%3A%20true%2C%20%22fillColor%22%3A%20%22%2380ffb4%22%2C%20%22fillOpacity%22%3A%200.7%2C%20%22fillRule%22%3A%20%22evenodd%22%2C%20%22lineCap%22%3A%20%22round%22%2C%20%22lineJoin%22%3A%20%22round%22%2C%20%22opacity%22%3A%201.0%2C%20%22radius%22%3A%205%2C%20%22stroke%22%3A%20true%2C%20%22weight%22%3A%203%7D%0A%20%20%20%20%20%20%20%20%20%20%20%20%29.addTo%28map_5e2663d527464a99a52d4e0687d63b63%29%3B%0A%20%20%20%20%20%20%20%20%0A%20%20%20%20%0A%20%20%20%20%20%20%20%20var%20popup_7027c3a1489e42d9adb0109aa20d7cbf%20%3D%20L.popup%28%7B%22maxWidth%22%3A%20%22100%25%22%7D%29%3B%0A%0A%20%20%20%20%20%20%20%20%0A%20%20%20%20%20%20%20%20%20%20%20%20var%20html_ad2a218ffd304d0ea9c59cb4b9cfeb3e%20%3D%20%24%28%60%3Cdiv%20id%3D%22html_ad2a218ffd304d0ea9c59cb4b9cfeb3e%22%20style%3D%22width%3A%20100.0%25%3B%20height%3A%20100.0%25%3B%22%3EHotel%20Puspa%20Kencana%20Cluster%203%3C/div%3E%60%29%5B0%5D%3B%0A%20%20%20%20%20%20%20%20%20%20%20%20popup_7027c3a1489e42d9adb0109aa20d7cbf.setContent%28html_ad2a218ffd304d0ea9c59cb4b9cfeb3e%29%3B%0A%20%20%20%20%20%20%20%20%0A%0A%20%20%20%20%20%20%20%20circle_marker_c4442007d4b547078c2392e3ae0bfcfa.bindPopup%28popup_7027c3a1489e42d9adb0109aa20d7cbf%29%0A%20%20%20%20%20%20%20%20%3B%0A%0A%20%20%20%20%20%20%20%20%0A%20%20%20%20%0A%20%20%20%20%0A%20%20%20%20%20%20%20%20%20%20%20%20var%20circle_marker_48813bc47cf5431a8696841bd4aa23de%20%3D%20L.circleMarker%28%0A%20%20%20%20%20%20%20%20%20%20%20%20%20%20%20%20%5B-6.891399791334144%2C%20107.61283931479491%5D%2C%0A%20%20%20%20%20%20%20%20%20%20%20%20%20%20%20%20%7B%22bubblingMouseEvents%22%3A%20true%2C%20%22color%22%3A%20%22%238000ff%22%2C%20%22dashArray%22%3A%20null%2C%20%22dashOffset%22%3A%20null%2C%20%22fill%22%3A%20true%2C%20%22fillColor%22%3A%20%22%238000ff%22%2C%20%22fillOpacity%22%3A%200.7%2C%20%22fillRule%22%3A%20%22evenodd%22%2C%20%22lineCap%22%3A%20%22round%22%2C%20%22lineJoin%22%3A%20%22round%22%2C%20%22opacity%22%3A%201.0%2C%20%22radius%22%3A%205%2C%20%22stroke%22%3A%20true%2C%20%22weight%22%3A%203%7D%0A%20%20%20%20%20%20%20%20%20%20%20%20%29.addTo%28map_5e2663d527464a99a52d4e0687d63b63%29%3B%0A%20%20%20%20%20%20%20%20%0A%20%20%20%20%0A%20%20%20%20%20%20%20%20var%20popup_61a96fb701374e448eb5d3865c4a170c%20%3D%20L.popup%28%7B%22maxWidth%22%3A%20%22100%25%22%7D%29%3B%0A%0A%20%20%20%20%20%20%20%20%0A%20%20%20%20%20%20%20%20%20%20%20%20var%20html_c5a355c5b37b42a1ae2b180fa86795d6%20%3D%20%24%28%60%3Cdiv%20id%3D%22html_c5a355c5b37b42a1ae2b180fa86795d6%22%20style%3D%22width%3A%20100.0%25%3B%20height%3A%20100.0%25%3B%22%3EGeulis%20Boutique%20Hotel%20Cluster%201%3C/div%3E%60%29%5B0%5D%3B%0A%20%20%20%20%20%20%20%20%20%20%20%20popup_61a96fb701374e448eb5d3865c4a170c.setContent%28html_c5a355c5b37b42a1ae2b180fa86795d6%29%3B%0A%20%20%20%20%20%20%20%20%0A%0A%20%20%20%20%20%20%20%20circle_marker_48813bc47cf5431a8696841bd4aa23de.bindPopup%28popup_61a96fb701374e448eb5d3865c4a170c%29%0A%20%20%20%20%20%20%20%20%3B%0A%0A%20%20%20%20%20%20%20%20%0A%20%20%20%20%0A%20%20%20%20%0A%20%20%20%20%20%20%20%20%20%20%20%20var%20circle_marker_bc2ef923897d4b179393db635a098d08%20%3D%20L.circleMarker%28%0A%20%20%20%20%20%20%20%20%20%20%20%20%20%20%20%20%5B-6.8857647%2C%20107.6140358%5D%2C%0A%20%20%20%20%20%20%20%20%20%20%20%20%20%20%20%20%7B%22bubblingMouseEvents%22%3A%20true%2C%20%22color%22%3A%20%22%2380ffb4%22%2C%20%22dashArray%22%3A%20null%2C%20%22dashOffset%22%3A%20null%2C%20%22fill%22%3A%20true%2C%20%22fillColor%22%3A%20%22%2380ffb4%22%2C%20%22fillOpacity%22%3A%200.7%2C%20%22fillRule%22%3A%20%22evenodd%22%2C%20%22lineCap%22%3A%20%22round%22%2C%20%22lineJoin%22%3A%20%22round%22%2C%20%22opacity%22%3A%201.0%2C%20%22radius%22%3A%205%2C%20%22stroke%22%3A%20true%2C%20%22weight%22%3A%203%7D%0A%20%20%20%20%20%20%20%20%20%20%20%20%29.addTo%28map_5e2663d527464a99a52d4e0687d63b63%29%3B%0A%20%20%20%20%20%20%20%20%0A%20%20%20%20%0A%20%20%20%20%20%20%20%20var%20popup_4c3ebd87f8d24e3cadeca9b6981d69fa%20%3D%20L.popup%28%7B%22maxWidth%22%3A%20%22100%25%22%7D%29%3B%0A%0A%20%20%20%20%20%20%20%20%0A%20%20%20%20%20%20%20%20%20%20%20%20var%20html_b64e609b96624eb3ac3cc3f6ca90589d%20%3D%20%24%28%60%3Cdiv%20id%3D%22html_b64e609b96624eb3ac3cc3f6ca90589d%22%20style%3D%22width%3A%20100.0%25%3B%20height%3A%20100.0%25%3B%22%3EHotel%20Sheraton%20Cluster%203%3C/div%3E%60%29%5B0%5D%3B%0A%20%20%20%20%20%20%20%20%20%20%20%20popup_4c3ebd87f8d24e3cadeca9b6981d69fa.setContent%28html_b64e609b96624eb3ac3cc3f6ca90589d%29%3B%0A%20%20%20%20%20%20%20%20%0A%0A%20%20%20%20%20%20%20%20circle_marker_bc2ef923897d4b179393db635a098d08.bindPopup%28popup_4c3ebd87f8d24e3cadeca9b6981d69fa%29%0A%20%20%20%20%20%20%20%20%3B%0A%0A%20%20%20%20%20%20%20%20%0A%20%20%20%20%0A%20%20%20%20%0A%20%20%20%20%20%20%20%20%20%20%20%20var%20circle_marker_2c7b02a2fcc5423a8006998a329e1477%20%3D%20L.circleMarker%28%0A%20%20%20%20%20%20%20%20%20%20%20%20%20%20%20%20%5B-6.8848645%2C%20107.6148989%5D%2C%0A%20%20%20%20%20%20%20%20%20%20%20%20%20%20%20%20%7B%22bubblingMouseEvents%22%3A%20true%2C%20%22color%22%3A%20%22%2380ffb4%22%2C%20%22dashArray%22%3A%20null%2C%20%22dashOffset%22%3A%20null%2C%20%22fill%22%3A%20true%2C%20%22fillColor%22%3A%20%22%2380ffb4%22%2C%20%22fillOpacity%22%3A%200.7%2C%20%22fillRule%22%3A%20%22evenodd%22%2C%20%22lineCap%22%3A%20%22round%22%2C%20%22lineJoin%22%3A%20%22round%22%2C%20%22opacity%22%3A%201.0%2C%20%22radius%22%3A%205%2C%20%22stroke%22%3A%20true%2C%20%22weight%22%3A%203%7D%0A%20%20%20%20%20%20%20%20%20%20%20%20%29.addTo%28map_5e2663d527464a99a52d4e0687d63b63%29%3B%0A%20%20%20%20%20%20%20%20%0A%20%20%20%20%0A%20%20%20%20%20%20%20%20var%20popup_4e16f7ab43934569b822d19c6d7ab54c%20%3D%20L.popup%28%7B%22maxWidth%22%3A%20%22100%25%22%7D%29%3B%0A%0A%20%20%20%20%20%20%20%20%0A%20%20%20%20%20%20%20%20%20%20%20%20var%20html_8bf67ce09c244df4badbf86bd4678759%20%3D%20%24%28%60%3Cdiv%20id%3D%22html_8bf67ce09c244df4badbf86bd4678759%22%20style%3D%22width%3A%20100.0%25%3B%20height%3A%20100.0%25%3B%22%3EHotel%20Royale%20Cluster%203%3C/div%3E%60%29%5B0%5D%3B%0A%20%20%20%20%20%20%20%20%20%20%20%20popup_4e16f7ab43934569b822d19c6d7ab54c.setContent%28html_8bf67ce09c244df4badbf86bd4678759%29%3B%0A%20%20%20%20%20%20%20%20%0A%0A%20%20%20%20%20%20%20%20circle_marker_2c7b02a2fcc5423a8006998a329e1477.bindPopup%28popup_4e16f7ab43934569b822d19c6d7ab54c%29%0A%20%20%20%20%20%20%20%20%3B%0A%0A%20%20%20%20%20%20%20%20%0A%20%20%20%20%0A%20%20%20%20%0A%20%20%20%20%20%20%20%20%20%20%20%20var%20circle_marker_58d36b2909274a9391c5233f52f8d086%20%3D%20L.circleMarker%28%0A%20%20%20%20%20%20%20%20%20%20%20%20%20%20%20%20%5B-6.889111120897229%2C%20107.61409046169308%5D%2C%0A%20%20%20%20%20%20%20%20%20%20%20%20%20%20%20%20%7B%22bubblingMouseEvents%22%3A%20true%2C%20%22color%22%3A%20%22%23ff0000%22%2C%20%22dashArray%22%3A%20null%2C%20%22dashOffset%22%3A%20null%2C%20%22fill%22%3A%20true%2C%20%22fillColor%22%3A%20%22%23ff0000%22%2C%20%22fillOpacity%22%3A%200.7%2C%20%22fillRule%22%3A%20%22evenodd%22%2C%20%22lineCap%22%3A%20%22round%22%2C%20%22lineJoin%22%3A%20%22round%22%2C%20%22opacity%22%3A%201.0%2C%20%22radius%22%3A%205%2C%20%22stroke%22%3A%20true%2C%20%22weight%22%3A%203%7D%0A%20%20%20%20%20%20%20%20%20%20%20%20%29.addTo%28map_5e2663d527464a99a52d4e0687d63b63%29%3B%0A%20%20%20%20%20%20%20%20%0A%20%20%20%20%0A%20%20%20%20%20%20%20%20var%20popup_42283cecdb5f45e1b52304a663472ce6%20%3D%20L.popup%28%7B%22maxWidth%22%3A%20%22100%25%22%7D%29%3B%0A%0A%20%20%20%20%20%20%20%20%0A%20%20%20%20%20%20%20%20%20%20%20%20var%20html_0192bbed71014c2da095887f93c84f5e%20%3D%20%24%28%60%3Cdiv%20id%3D%22html_0192bbed71014c2da095887f93c84f5e%22%20style%3D%22width%3A%20100.0%25%3B%20height%3A%20100.0%25%3B%22%3EHotel%20Patra%20Jasa%20Cluster%200%3C/div%3E%60%29%5B0%5D%3B%0A%20%20%20%20%20%20%20%20%20%20%20%20popup_42283cecdb5f45e1b52304a663472ce6.setContent%28html_0192bbed71014c2da095887f93c84f5e%29%3B%0A%20%20%20%20%20%20%20%20%0A%0A%20%20%20%20%20%20%20%20circle_marker_58d36b2909274a9391c5233f52f8d086.bindPopup%28popup_42283cecdb5f45e1b52304a663472ce6%29%0A%20%20%20%20%20%20%20%20%3B%0A%0A%20%20%20%20%20%20%20%20%0A%20%20%20%20%0A%20%20%20%20%0A%20%20%20%20%20%20%20%20%20%20%20%20var%20circle_marker_bd8e0497a5c348838a7cc0afcb339f7c%20%3D%20L.circleMarker%28%0A%20%20%20%20%20%20%20%20%20%20%20%20%20%20%20%20%5B-6.88662%2C%20107.61726%5D%2C%0A%20%20%20%20%20%20%20%20%20%20%20%20%20%20%20%20%7B%22bubblingMouseEvents%22%3A%20true%2C%20%22color%22%3A%20%22%23ff0000%22%2C%20%22dashArray%22%3A%20null%2C%20%22dashOffset%22%3A%20null%2C%20%22fill%22%3A%20true%2C%20%22fillColor%22%3A%20%22%23ff0000%22%2C%20%22fillOpacity%22%3A%200.7%2C%20%22fillRule%22%3A%20%22evenodd%22%2C%20%22lineCap%22%3A%20%22round%22%2C%20%22lineJoin%22%3A%20%22round%22%2C%20%22opacity%22%3A%201.0%2C%20%22radius%22%3A%205%2C%20%22stroke%22%3A%20true%2C%20%22weight%22%3A%203%7D%0A%20%20%20%20%20%20%20%20%20%20%20%20%29.addTo%28map_5e2663d527464a99a52d4e0687d63b63%29%3B%0A%20%20%20%20%20%20%20%20%0A%20%20%20%20%0A%20%20%20%20%20%20%20%20var%20popup_117d274f56b84d2daf24c2f28a8cc389%20%3D%20L.popup%28%7B%22maxWidth%22%3A%20%22100%25%22%7D%29%3B%0A%0A%20%20%20%20%20%20%20%20%0A%20%20%20%20%20%20%20%20%20%20%20%20var%20html_6706f3bacd4a4894879ae8058ba00463%20%3D%20%24%28%60%3Cdiv%20id%3D%22html_6706f3bacd4a4894879ae8058ba00463%22%20style%3D%22width%3A%20100.0%25%3B%20height%3A%20100.0%25%3B%22%3EHotel%20Akasia%20Cluster%200%3C/div%3E%60%29%5B0%5D%3B%0A%20%20%20%20%20%20%20%20%20%20%20%20popup_117d274f56b84d2daf24c2f28a8cc389.setContent%28html_6706f3bacd4a4894879ae8058ba00463%29%3B%0A%20%20%20%20%20%20%20%20%0A%0A%20%20%20%20%20%20%20%20circle_marker_bd8e0497a5c348838a7cc0afcb339f7c.bindPopup%28popup_117d274f56b84d2daf24c2f28a8cc389%29%0A%20%20%20%20%20%20%20%20%3B%0A%0A%20%20%20%20%20%20%20%20%0A%20%20%20%20%0A%20%20%20%20%0A%20%20%20%20%20%20%20%20%20%20%20%20var%20circle_marker_d4b9938a08734ee39889d43ea0dd7110%20%3D%20L.circleMarker%28%0A%20%20%20%20%20%20%20%20%20%20%20%20%20%20%20%20%5B-6.887974%2C%20107.612964%5D%2C%0A%20%20%20%20%20%20%20%20%20%20%20%20%20%20%20%20%7B%22bubblingMouseEvents%22%3A%20true%2C%20%22color%22%3A%20%22%2380ffb4%22%2C%20%22dashArray%22%3A%20null%2C%20%22dashOffset%22%3A%20null%2C%20%22fill%22%3A%20true%2C%20%22fillColor%22%3A%20%22%2380ffb4%22%2C%20%22fillOpacity%22%3A%200.7%2C%20%22fillRule%22%3A%20%22evenodd%22%2C%20%22lineCap%22%3A%20%22round%22%2C%20%22lineJoin%22%3A%20%22round%22%2C%20%22opacity%22%3A%201.0%2C%20%22radius%22%3A%205%2C%20%22stroke%22%3A%20true%2C%20%22weight%22%3A%203%7D%0A%20%20%20%20%20%20%20%20%20%20%20%20%29.addTo%28map_5e2663d527464a99a52d4e0687d63b63%29%3B%0A%20%20%20%20%20%20%20%20%0A%20%20%20%20%0A%20%20%20%20%20%20%20%20var%20popup_ac86ab4560154dac95dc9594b0750fdf%20%3D%20L.popup%28%7B%22maxWidth%22%3A%20%22100%25%22%7D%29%3B%0A%0A%20%20%20%20%20%20%20%20%0A%20%20%20%20%20%20%20%20%20%20%20%20var%20html_0b4b7234eeab40378b4478b88b38e36d%20%3D%20%24%28%60%3Cdiv%20id%3D%22html_0b4b7234eeab40378b4478b88b38e36d%22%20style%3D%22width%3A%20100.0%25%3B%20height%3A%20100.0%25%3B%22%3EHotel%20Safari%20Garden%20Cluster%203%3C/div%3E%60%29%5B0%5D%3B%0A%20%20%20%20%20%20%20%20%20%20%20%20popup_ac86ab4560154dac95dc9594b0750fdf.setContent%28html_0b4b7234eeab40378b4478b88b38e36d%29%3B%0A%20%20%20%20%20%20%20%20%0A%0A%20%20%20%20%20%20%20%20circle_marker_d4b9938a08734ee39889d43ea0dd7110.bindPopup%28popup_ac86ab4560154dac95dc9594b0750fdf%29%0A%20%20%20%20%20%20%20%20%3B%0A%0A%20%20%20%20%20%20%20%20%0A%20%20%20%20%0A%20%20%20%20%0A%20%20%20%20%20%20%20%20%20%20%20%20var%20circle_marker_d03dec419e964a72909e2f16854f0b37%20%3D%20L.circleMarker%28%0A%20%20%20%20%20%20%20%20%20%20%20%20%20%20%20%20%5B-6.886307%2C%20107.617765%5D%2C%0A%20%20%20%20%20%20%20%20%20%20%20%20%20%20%20%20%7B%22bubblingMouseEvents%22%3A%20true%2C%20%22color%22%3A%20%22%2300b5eb%22%2C%20%22dashArray%22%3A%20null%2C%20%22dashOffset%22%3A%20null%2C%20%22fill%22%3A%20true%2C%20%22fillColor%22%3A%20%22%2300b5eb%22%2C%20%22fillOpacity%22%3A%200.7%2C%20%22fillRule%22%3A%20%22evenodd%22%2C%20%22lineCap%22%3A%20%22round%22%2C%20%22lineJoin%22%3A%20%22round%22%2C%20%22opacity%22%3A%201.0%2C%20%22radius%22%3A%205%2C%20%22stroke%22%3A%20true%2C%20%22weight%22%3A%203%7D%0A%20%20%20%20%20%20%20%20%20%20%20%20%29.addTo%28map_5e2663d527464a99a52d4e0687d63b63%29%3B%0A%20%20%20%20%20%20%20%20%0A%20%20%20%20%0A%20%20%20%20%20%20%20%20var%20popup_7d98ed83689c4608af102816a570ec36%20%3D%20L.popup%28%7B%22maxWidth%22%3A%20%22100%25%22%7D%29%3B%0A%0A%20%20%20%20%20%20%20%20%0A%20%20%20%20%20%20%20%20%20%20%20%20var%20html_445bc75cf48842619b4e4b6ca6b21f71%20%3D%20%24%28%60%3Cdiv%20id%3D%22html_445bc75cf48842619b4e4b6ca6b21f71%22%20style%3D%22width%3A%20100.0%25%3B%20height%3A%20100.0%25%3B%22%3EHotel%20Efita%20Cluster%202%3C/div%3E%60%29%5B0%5D%3B%0A%20%20%20%20%20%20%20%20%20%20%20%20popup_7d98ed83689c4608af102816a570ec36.setContent%28html_445bc75cf48842619b4e4b6ca6b21f71%29%3B%0A%20%20%20%20%20%20%20%20%0A%0A%20%20%20%20%20%20%20%20circle_marker_d03dec419e964a72909e2f16854f0b37.bindPopup%28popup_7d98ed83689c4608af102816a570ec36%29%0A%20%20%20%20%20%20%20%20%3B%0A%0A%20%20%20%20%20%20%20%20%0A%20%20%20%20%0A%20%20%20%20%0A%20%20%20%20%20%20%20%20%20%20%20%20var%20circle_marker_aabef2f7f31a4f6687e92ee9de9c876c%20%3D%20L.circleMarker%28%0A%20%20%20%20%20%20%20%20%20%20%20%20%20%20%20%20%5B-6.8847102261%2C%20107.61337711%5D%2C%0A%20%20%20%20%20%20%20%20%20%20%20%20%20%20%20%20%7B%22bubblingMouseEvents%22%3A%20true%2C%20%22color%22%3A%20%22%2380ffb4%22%2C%20%22dashArray%22%3A%20null%2C%20%22dashOffset%22%3A%20null%2C%20%22fill%22%3A%20true%2C%20%22fillColor%22%3A%20%22%2380ffb4%22%2C%20%22fillOpacity%22%3A%200.7%2C%20%22fillRule%22%3A%20%22evenodd%22%2C%20%22lineCap%22%3A%20%22round%22%2C%20%22lineJoin%22%3A%20%22round%22%2C%20%22opacity%22%3A%201.0%2C%20%22radius%22%3A%205%2C%20%22stroke%22%3A%20true%2C%20%22weight%22%3A%203%7D%0A%20%20%20%20%20%20%20%20%20%20%20%20%29.addTo%28map_5e2663d527464a99a52d4e0687d63b63%29%3B%0A%20%20%20%20%20%20%20%20%0A%20%20%20%20%0A%20%20%20%20%20%20%20%20var%20popup_8fdfcfe827e1484eb8207a85c94035df%20%3D%20L.popup%28%7B%22maxWidth%22%3A%20%22100%25%22%7D%29%3B%0A%0A%20%20%20%20%20%20%20%20%0A%20%20%20%20%20%20%20%20%20%20%20%20var%20html_40e9cb2a70e54cb098672cbb332dddd3%20%3D%20%24%28%60%3Cdiv%20id%3D%22html_40e9cb2a70e54cb098672cbb332dddd3%22%20style%3D%22width%3A%20100.0%25%3B%20height%3A%20100.0%25%3B%22%3EHotel%20Shangri-La%20Cluster%203%3C/div%3E%60%29%5B0%5D%3B%0A%20%20%20%20%20%20%20%20%20%20%20%20popup_8fdfcfe827e1484eb8207a85c94035df.setContent%28html_40e9cb2a70e54cb098672cbb332dddd3%29%3B%0A%20%20%20%20%20%20%20%20%0A%0A%20%20%20%20%20%20%20%20circle_marker_aabef2f7f31a4f6687e92ee9de9c876c.bindPopup%28popup_8fdfcfe827e1484eb8207a85c94035df%29%0A%20%20%20%20%20%20%20%20%3B%0A%0A%20%20%20%20%20%20%20%20%0A%20%20%20%20%0A%20%20%20%20%0A%20%20%20%20%20%20%20%20%20%20%20%20var%20circle_marker_e247c10460b948399582552f0a452b28%20%3D%20L.circleMarker%28%0A%20%20%20%20%20%20%20%20%20%20%20%20%20%20%20%20%5B-6.887748%2C%20107.6139007%5D%2C%0A%20%20%20%20%20%20%20%20%20%20%20%20%20%20%20%20%7B%22bubblingMouseEvents%22%3A%20true%2C%20%22color%22%3A%20%22%2380ffb4%22%2C%20%22dashArray%22%3A%20null%2C%20%22dashOffset%22%3A%20null%2C%20%22fill%22%3A%20true%2C%20%22fillColor%22%3A%20%22%2380ffb4%22%2C%20%22fillOpacity%22%3A%200.7%2C%20%22fillRule%22%3A%20%22evenodd%22%2C%20%22lineCap%22%3A%20%22round%22%2C%20%22lineJoin%22%3A%20%22round%22%2C%20%22opacity%22%3A%201.0%2C%20%22radius%22%3A%205%2C%20%22stroke%22%3A%20true%2C%20%22weight%22%3A%203%7D%0A%20%20%20%20%20%20%20%20%20%20%20%20%29.addTo%28map_5e2663d527464a99a52d4e0687d63b63%29%3B%0A%20%20%20%20%20%20%20%20%0A%20%20%20%20%0A%20%20%20%20%20%20%20%20var%20popup_a93999e238ed4d1ba632ee7888d1330a%20%3D%20L.popup%28%7B%22maxWidth%22%3A%20%22100%25%22%7D%29%3B%0A%0A%20%20%20%20%20%20%20%20%0A%20%20%20%20%20%20%20%20%20%20%20%20var%20html_fe44c4e6313e44b48608ea302cee9c1b%20%3D%20%24%28%60%3Cdiv%20id%3D%22html_fe44c4e6313e44b48608ea302cee9c1b%22%20style%3D%22width%3A%20100.0%25%3B%20height%3A%20100.0%25%3B%22%3EPrime%20Park%20Hotel%20Cluster%203%3C/div%3E%60%29%5B0%5D%3B%0A%20%20%20%20%20%20%20%20%20%20%20%20popup_a93999e238ed4d1ba632ee7888d1330a.setContent%28html_fe44c4e6313e44b48608ea302cee9c1b%29%3B%0A%20%20%20%20%20%20%20%20%0A%0A%20%20%20%20%20%20%20%20circle_marker_e247c10460b948399582552f0a452b28.bindPopup%28popup_a93999e238ed4d1ba632ee7888d1330a%29%0A%20%20%20%20%20%20%20%20%3B%0A%0A%20%20%20%20%20%20%20%20%0A%20%20%20%20%0A%20%20%20%20%0A%20%20%20%20%20%20%20%20%20%20%20%20var%20circle_marker_f56168466a6b4fdcaa3c21bdf6a10927%20%3D%20L.circleMarker%28%0A%20%20%20%20%20%20%20%20%20%20%20%20%20%20%20%20%5B-6.885684%2C%20107.614102%5D%2C%0A%20%20%20%20%20%20%20%20%20%20%20%20%20%20%20%20%7B%22bubblingMouseEvents%22%3A%20true%2C%20%22color%22%3A%20%22%2380ffb4%22%2C%20%22dashArray%22%3A%20null%2C%20%22dashOffset%22%3A%20null%2C%20%22fill%22%3A%20true%2C%20%22fillColor%22%3A%20%22%2380ffb4%22%2C%20%22fillOpacity%22%3A%200.7%2C%20%22fillRule%22%3A%20%22evenodd%22%2C%20%22lineCap%22%3A%20%22round%22%2C%20%22lineJoin%22%3A%20%22round%22%2C%20%22opacity%22%3A%201.0%2C%20%22radius%22%3A%205%2C%20%22stroke%22%3A%20true%2C%20%22weight%22%3A%203%7D%0A%20%20%20%20%20%20%20%20%20%20%20%20%29.addTo%28map_5e2663d527464a99a52d4e0687d63b63%29%3B%0A%20%20%20%20%20%20%20%20%0A%20%20%20%20%0A%20%20%20%20%20%20%20%20var%20popup_4d6c721774854977886d7439167fb79e%20%3D%20L.popup%28%7B%22maxWidth%22%3A%20%22100%25%22%7D%29%3B%0A%0A%20%20%20%20%20%20%20%20%0A%20%20%20%20%20%20%20%20%20%20%20%20var%20html_1f7826a0d8804b54b1fdea210d89b85f%20%3D%20%24%28%60%3Cdiv%20id%3D%22html_1f7826a0d8804b54b1fdea210d89b85f%22%20style%3D%22width%3A%20100.0%25%3B%20height%3A%20100.0%25%3B%22%3EProyek%20Hotel%20Lor%20In%20Lembang%20Cluster%203%3C/div%3E%60%29%5B0%5D%3B%0A%20%20%20%20%20%20%20%20%20%20%20%20popup_4d6c721774854977886d7439167fb79e.setContent%28html_1f7826a0d8804b54b1fdea210d89b85f%29%3B%0A%20%20%20%20%20%20%20%20%0A%0A%20%20%20%20%20%20%20%20circle_marker_f56168466a6b4fdcaa3c21bdf6a10927.bindPopup%28popup_4d6c721774854977886d7439167fb79e%29%0A%20%20%20%20%20%20%20%20%3B%0A%0A%20%20%20%20%20%20%20%20%0A%20%20%20%20%0A%20%20%20%20%0A%20%20%20%20%20%20%20%20%20%20%20%20var%20circle_marker_2c31318049704b519c406a56deac174a%20%3D%20L.circleMarker%28%0A%20%20%20%20%20%20%20%20%20%20%20%20%20%20%20%20%5B-6.88681972802762%2C%20107.61359898723222%5D%2C%0A%20%20%20%20%20%20%20%20%20%20%20%20%20%20%20%20%7B%22bubblingMouseEvents%22%3A%20true%2C%20%22color%22%3A%20%22%2380ffb4%22%2C%20%22dashArray%22%3A%20null%2C%20%22dashOffset%22%3A%20null%2C%20%22fill%22%3A%20true%2C%20%22fillColor%22%3A%20%22%2380ffb4%22%2C%20%22fillOpacity%22%3A%200.7%2C%20%22fillRule%22%3A%20%22evenodd%22%2C%20%22lineCap%22%3A%20%22round%22%2C%20%22lineJoin%22%3A%20%22round%22%2C%20%22opacity%22%3A%201.0%2C%20%22radius%22%3A%205%2C%20%22stroke%22%3A%20true%2C%20%22weight%22%3A%203%7D%0A%20%20%20%20%20%20%20%20%20%20%20%20%29.addTo%28map_5e2663d527464a99a52d4e0687d63b63%29%3B%0A%20%20%20%20%20%20%20%20%0A%20%20%20%20%0A%20%20%20%20%20%20%20%20var%20popup_7e5b4b2d3c824550af21911bb7dcfe23%20%3D%20L.popup%28%7B%22maxWidth%22%3A%20%22100%25%22%7D%29%3B%0A%0A%20%20%20%20%20%20%20%20%0A%20%20%20%20%20%20%20%20%20%20%20%20var%20html_ac147a045f954b6b884d1afc32b52415%20%3D%20%24%28%60%3Cdiv%20id%3D%22html_ac147a045f954b6b884d1afc32b52415%22%20style%3D%22width%3A%20100.0%25%3B%20height%3A%20100.0%25%3B%22%3EWirton%20Hotel%20Cluster%203%3C/div%3E%60%29%5B0%5D%3B%0A%20%20%20%20%20%20%20%20%20%20%20%20popup_7e5b4b2d3c824550af21911bb7dcfe23.setContent%28html_ac147a045f954b6b884d1afc32b52415%29%3B%0A%20%20%20%20%20%20%20%20%0A%0A%20%20%20%20%20%20%20%20circle_marker_2c31318049704b519c406a56deac174a.bindPopup%28popup_7e5b4b2d3c824550af21911bb7dcfe23%29%0A%20%20%20%20%20%20%20%20%3B%0A%0A%20%20%20%20%20%20%20%20%0A%20%20%20%20%0A%20%20%20%20%0A%20%20%20%20%20%20%20%20%20%20%20%20var%20circle_marker_e164bd58f2e940bfb460642c5a0288c0%20%3D%20L.circleMarker%28%0A%20%20%20%20%20%20%20%20%20%20%20%20%20%20%20%20%5B-6.8882545%2C%20107.6157982%5D%2C%0A%20%20%20%20%20%20%20%20%20%20%20%20%20%20%20%20%7B%22bubblingMouseEvents%22%3A%20true%2C%20%22color%22%3A%20%22%23ff0000%22%2C%20%22dashArray%22%3A%20null%2C%20%22dashOffset%22%3A%20null%2C%20%22fill%22%3A%20true%2C%20%22fillColor%22%3A%20%22%23ff0000%22%2C%20%22fillOpacity%22%3A%200.7%2C%20%22fillRule%22%3A%20%22evenodd%22%2C%20%22lineCap%22%3A%20%22round%22%2C%20%22lineJoin%22%3A%20%22round%22%2C%20%22opacity%22%3A%201.0%2C%20%22radius%22%3A%205%2C%20%22stroke%22%3A%20true%2C%20%22weight%22%3A%203%7D%0A%20%20%20%20%20%20%20%20%20%20%20%20%29.addTo%28map_5e2663d527464a99a52d4e0687d63b63%29%3B%0A%20%20%20%20%20%20%20%20%0A%20%20%20%20%0A%20%20%20%20%20%20%20%20var%20popup_9aafcdf09ae747d78976225255da4a17%20%3D%20L.popup%28%7B%22maxWidth%22%3A%20%22100%25%22%7D%29%3B%0A%0A%20%20%20%20%20%20%20%20%0A%20%20%20%20%20%20%20%20%20%20%20%20var%20html_28142d164d574c7a9eddb176a21de5a0%20%3D%20%24%28%60%3Cdiv%20id%3D%22html_28142d164d574c7a9eddb176a21de5a0%22%20style%3D%22width%3A%20100.0%25%3B%20height%3A%20100.0%25%3B%22%3ECrowne%20Hotel%20Cluster%200%3C/div%3E%60%29%5B0%5D%3B%0A%20%20%20%20%20%20%20%20%20%20%20%20popup_9aafcdf09ae747d78976225255da4a17.setContent%28html_28142d164d574c7a9eddb176a21de5a0%29%3B%0A%20%20%20%20%20%20%20%20%0A%0A%20%20%20%20%20%20%20%20circle_marker_e164bd58f2e940bfb460642c5a0288c0.bindPopup%28popup_9aafcdf09ae747d78976225255da4a17%29%0A%20%20%20%20%20%20%20%20%3B%0A%0A%20%20%20%20%20%20%20%20%0A%20%20%20%20%0A%20%20%20%20%0A%20%20%20%20%20%20%20%20%20%20%20%20var%20circle_marker_1d462c22ef414b00aa4df4154dd69e1f%20%3D%20L.circleMarker%28%0A%20%20%20%20%20%20%20%20%20%20%20%20%20%20%20%20%5B-6.887248%2C%20107.616684%5D%2C%0A%20%20%20%20%20%20%20%20%20%20%20%20%20%20%20%20%7B%22bubblingMouseEvents%22%3A%20true%2C%20%22color%22%3A%20%22%23ff0000%22%2C%20%22dashArray%22%3A%20null%2C%20%22dashOffset%22%3A%20null%2C%20%22fill%22%3A%20true%2C%20%22fillColor%22%3A%20%22%23ff0000%22%2C%20%22fillOpacity%22%3A%200.7%2C%20%22fillRule%22%3A%20%22evenodd%22%2C%20%22lineCap%22%3A%20%22round%22%2C%20%22lineJoin%22%3A%20%22round%22%2C%20%22opacity%22%3A%201.0%2C%20%22radius%22%3A%205%2C%20%22stroke%22%3A%20true%2C%20%22weight%22%3A%203%7D%0A%20%20%20%20%20%20%20%20%20%20%20%20%29.addTo%28map_5e2663d527464a99a52d4e0687d63b63%29%3B%0A%20%20%20%20%20%20%20%20%0A%20%20%20%20%0A%20%20%20%20%20%20%20%20var%20popup_c8b36b2dcb25427ba7b1f71a6a92b98e%20%3D%20L.popup%28%7B%22maxWidth%22%3A%20%22100%25%22%7D%29%3B%0A%0A%20%20%20%20%20%20%20%20%0A%20%20%20%20%20%20%20%20%20%20%20%20var%20html_defa64c49a4f466bb6b41f4bb6d5fa8d%20%3D%20%24%28%60%3Cdiv%20id%3D%22html_defa64c49a4f466bb6b41f4bb6d5fa8d%22%20style%3D%22width%3A%20100.0%25%3B%20height%3A%20100.0%25%3B%22%3EGrand%20Ball%20Room%20Panghegar%20Hotel%20Cluster%200%3C/div%3E%60%29%5B0%5D%3B%0A%20%20%20%20%20%20%20%20%20%20%20%20popup_c8b36b2dcb25427ba7b1f71a6a92b98e.setContent%28html_defa64c49a4f466bb6b41f4bb6d5fa8d%29%3B%0A%20%20%20%20%20%20%20%20%0A%0A%20%20%20%20%20%20%20%20circle_marker_1d462c22ef414b00aa4df4154dd69e1f.bindPopup%28popup_c8b36b2dcb25427ba7b1f71a6a92b98e%29%0A%20%20%20%20%20%20%20%20%3B%0A%0A%20%20%20%20%20%20%20%20%0A%20%20%20%20%0A%20%20%20%20%0A%20%20%20%20%20%20%20%20%20%20%20%20var%20circle_marker_45e5cf7ce95e415288d5ab9e904b03e0%20%3D%20L.circleMarker%28%0A%20%20%20%20%20%20%20%20%20%20%20%20%20%20%20%20%5B-6.8884501%2C%20107.6161931%5D%2C%0A%20%20%20%20%20%20%20%20%20%20%20%20%20%20%20%20%7B%22bubblingMouseEvents%22%3A%20true%2C%20%22color%22%3A%20%22%23ff0000%22%2C%20%22dashArray%22%3A%20null%2C%20%22dashOffset%22%3A%20null%2C%20%22fill%22%3A%20true%2C%20%22fillColor%22%3A%20%22%23ff0000%22%2C%20%22fillOpacity%22%3A%200.7%2C%20%22fillRule%22%3A%20%22evenodd%22%2C%20%22lineCap%22%3A%20%22round%22%2C%20%22lineJoin%22%3A%20%22round%22%2C%20%22opacity%22%3A%201.0%2C%20%22radius%22%3A%205%2C%20%22stroke%22%3A%20true%2C%20%22weight%22%3A%203%7D%0A%20%20%20%20%20%20%20%20%20%20%20%20%29.addTo%28map_5e2663d527464a99a52d4e0687d63b63%29%3B%0A%20%20%20%20%20%20%20%20%0A%20%20%20%20%0A%20%20%20%20%20%20%20%20var%20popup_2847fd885dde4176ae6465645af0bb60%20%3D%20L.popup%28%7B%22maxWidth%22%3A%20%22100%25%22%7D%29%3B%0A%0A%20%20%20%20%20%20%20%20%0A%20%20%20%20%20%20%20%20%20%20%20%20var%20html_354145b79d18496c877927ea09850cfa%20%3D%20%24%28%60%3Cdiv%20id%3D%22html_354145b79d18496c877927ea09850cfa%22%20style%3D%22width%3A%20100.0%25%3B%20height%3A%20100.0%25%3B%22%3EFitness%20Center%20Galeri%20Ciumbuleuit%20Hotel%20%26amp%3B%20Apartment%20Cluster%200%3C/div%3E%60%29%5B0%5D%3B%0A%20%20%20%20%20%20%20%20%20%20%20%20popup_2847fd885dde4176ae6465645af0bb60.setContent%28html_354145b79d18496c877927ea09850cfa%29%3B%0A%20%20%20%20%20%20%20%20%0A%0A%20%20%20%20%20%20%20%20circle_marker_45e5cf7ce95e415288d5ab9e904b03e0.bindPopup%28popup_2847fd885dde4176ae6465645af0bb60%29%0A%20%20%20%20%20%20%20%20%3B%0A%0A%20%20%20%20%20%20%20%20%0A%20%20%20%20%0A%20%20%20%20%0A%20%20%20%20%20%20%20%20%20%20%20%20var%20circle_marker_3c257c6971854aedb5a18b2910ec173c%20%3D%20L.circleMarker%28%0A%20%20%20%20%20%20%20%20%20%20%20%20%20%20%20%20%5B-6.8889864%2C%20107.6187058%5D%2C%0A%20%20%20%20%20%20%20%20%20%20%20%20%20%20%20%20%7B%22bubblingMouseEvents%22%3A%20true%2C%20%22color%22%3A%20%22%23ffb360%22%2C%20%22dashArray%22%3A%20null%2C%20%22dashOffset%22%3A%20null%2C%20%22fill%22%3A%20true%2C%20%22fillColor%22%3A%20%22%23ffb360%22%2C%20%22fillOpacity%22%3A%200.7%2C%20%22fillRule%22%3A%20%22evenodd%22%2C%20%22lineCap%22%3A%20%22round%22%2C%20%22lineJoin%22%3A%20%22round%22%2C%20%22opacity%22%3A%201.0%2C%20%22radius%22%3A%205%2C%20%22stroke%22%3A%20true%2C%20%22weight%22%3A%203%7D%0A%20%20%20%20%20%20%20%20%20%20%20%20%29.addTo%28map_5e2663d527464a99a52d4e0687d63b63%29%3B%0A%20%20%20%20%20%20%20%20%0A%20%20%20%20%0A%20%20%20%20%20%20%20%20var%20popup_73b49f08ffcb4dd8987ca17efec2a1ff%20%3D%20L.popup%28%7B%22maxWidth%22%3A%20%22100%25%22%7D%29%3B%0A%0A%20%20%20%20%20%20%20%20%0A%20%20%20%20%20%20%20%20%20%20%20%20var%20html_45c5c3b8bd5743309f0b40a667e48a0a%20%3D%20%24%28%60%3Cdiv%20id%3D%22html_45c5c3b8bd5743309f0b40a667e48a0a%22%20style%3D%22width%3A%20100.0%25%3B%20height%3A%20100.0%25%3B%22%3EHotel%20Cemerlang%20Cluster%204%3C/div%3E%60%29%5B0%5D%3B%0A%20%20%20%20%20%20%20%20%20%20%20%20popup_73b49f08ffcb4dd8987ca17efec2a1ff.setContent%28html_45c5c3b8bd5743309f0b40a667e48a0a%29%3B%0A%20%20%20%20%20%20%20%20%0A%0A%20%20%20%20%20%20%20%20circle_marker_3c257c6971854aedb5a18b2910ec173c.bindPopup%28popup_73b49f08ffcb4dd8987ca17efec2a1ff%29%0A%20%20%20%20%20%20%20%20%3B%0A%0A%20%20%20%20%20%20%20%20%0A%20%20%20%20%0A%20%20%20%20%0A%20%20%20%20%20%20%20%20%20%20%20%20var%20circle_marker_03fe60d0c4de4294a918fa788f3db1be%20%3D%20L.circleMarker%28%0A%20%20%20%20%20%20%20%20%20%20%20%20%20%20%20%20%5B-6.890589006551039%2C%20107.61699184184485%5D%2C%0A%20%20%20%20%20%20%20%20%20%20%20%20%20%20%20%20%7B%22bubblingMouseEvents%22%3A%20true%2C%20%22color%22%3A%20%22%238000ff%22%2C%20%22dashArray%22%3A%20null%2C%20%22dashOffset%22%3A%20null%2C%20%22fill%22%3A%20true%2C%20%22fillColor%22%3A%20%22%238000ff%22%2C%20%22fillOpacity%22%3A%200.7%2C%20%22fillRule%22%3A%20%22evenodd%22%2C%20%22lineCap%22%3A%20%22round%22%2C%20%22lineJoin%22%3A%20%22round%22%2C%20%22opacity%22%3A%201.0%2C%20%22radius%22%3A%205%2C%20%22stroke%22%3A%20true%2C%20%22weight%22%3A%203%7D%0A%20%20%20%20%20%20%20%20%20%20%20%20%29.addTo%28map_5e2663d527464a99a52d4e0687d63b63%29%3B%0A%20%20%20%20%20%20%20%20%0A%20%20%20%20%0A%20%20%20%20%20%20%20%20var%20popup_cf176d3d588041a5a7e0231cf9de9cd1%20%3D%20L.popup%28%7B%22maxWidth%22%3A%20%22100%25%22%7D%29%3B%0A%0A%20%20%20%20%20%20%20%20%0A%20%20%20%20%20%20%20%20%20%20%20%20var%20html_9d32aa4cb85e413b9d87bf2c06d84b84%20%3D%20%24%28%60%3Cdiv%20id%3D%22html_9d32aa4cb85e413b9d87bf2c06d84b84%22%20style%3D%22width%3A%20100.0%25%3B%20height%3A%20100.0%25%3B%22%3EHotel%20Arimbi%20Stasion%20Cluster%201%3C/div%3E%60%29%5B0%5D%3B%0A%20%20%20%20%20%20%20%20%20%20%20%20popup_cf176d3d588041a5a7e0231cf9de9cd1.setContent%28html_9d32aa4cb85e413b9d87bf2c06d84b84%29%3B%0A%20%20%20%20%20%20%20%20%0A%0A%20%20%20%20%20%20%20%20circle_marker_03fe60d0c4de4294a918fa788f3db1be.bindPopup%28popup_cf176d3d588041a5a7e0231cf9de9cd1%29%0A%20%20%20%20%20%20%20%20%3B%0A%0A%20%20%20%20%20%20%20%20%0A%20%20%20%20%0A%20%20%20%20%0A%20%20%20%20%20%20%20%20%20%20%20%20var%20circle_marker_60d76a9b27944b5c8a8ed266019f9ed1%20%3D%20L.circleMarker%28%0A%20%20%20%20%20%20%20%20%20%20%20%20%20%20%20%20%5B-6.8852469%2C%20107.6138134%5D%2C%0A%20%20%20%20%20%20%20%20%20%20%20%20%20%20%20%20%7B%22bubblingMouseEvents%22%3A%20true%2C%20%22color%22%3A%20%22%2380ffb4%22%2C%20%22dashArray%22%3A%20null%2C%20%22dashOffset%22%3A%20null%2C%20%22fill%22%3A%20true%2C%20%22fillColor%22%3A%20%22%2380ffb4%22%2C%20%22fillOpacity%22%3A%200.7%2C%20%22fillRule%22%3A%20%22evenodd%22%2C%20%22lineCap%22%3A%20%22round%22%2C%20%22lineJoin%22%3A%20%22round%22%2C%20%22opacity%22%3A%201.0%2C%20%22radius%22%3A%205%2C%20%22stroke%22%3A%20true%2C%20%22weight%22%3A%203%7D%0A%20%20%20%20%20%20%20%20%20%20%20%20%29.addTo%28map_5e2663d527464a99a52d4e0687d63b63%29%3B%0A%20%20%20%20%20%20%20%20%0A%20%20%20%20%0A%20%20%20%20%20%20%20%20var%20popup_6168bc49f400411484d83e106ab8e933%20%3D%20L.popup%28%7B%22maxWidth%22%3A%20%22100%25%22%7D%29%3B%0A%0A%20%20%20%20%20%20%20%20%0A%20%20%20%20%20%20%20%20%20%20%20%20var%20html_df3c7f9ebebf4e4c9fd7f7aca380ccea%20%3D%20%24%28%60%3Cdiv%20id%3D%22html_df3c7f9ebebf4e4c9fd7f7aca380ccea%22%20style%3D%22width%3A%20100.0%25%3B%20height%3A%20100.0%25%3B%22%3ESheo%20Resort%20Hotel%20Cluster%203%3C/div%3E%60%29%5B0%5D%3B%0A%20%20%20%20%20%20%20%20%20%20%20%20popup_6168bc49f400411484d83e106ab8e933.setContent%28html_df3c7f9ebebf4e4c9fd7f7aca380ccea%29%3B%0A%20%20%20%20%20%20%20%20%0A%0A%20%20%20%20%20%20%20%20circle_marker_60d76a9b27944b5c8a8ed266019f9ed1.bindPopup%28popup_6168bc49f400411484d83e106ab8e933%29%0A%20%20%20%20%20%20%20%20%3B%0A%0A%20%20%20%20%20%20%20%20%0A%20%20%20%20%0A%20%20%20%20%0A%20%20%20%20%20%20%20%20%20%20%20%20var%20circle_marker_d2a104df57b44d4597663cf673eb6ae6%20%3D%20L.circleMarker%28%0A%20%20%20%20%20%20%20%20%20%20%20%20%20%20%20%20%5B-6.884835587050501%2C%20107.61125811563149%5D%2C%0A%20%20%20%20%20%20%20%20%20%20%20%20%20%20%20%20%7B%22bubblingMouseEvents%22%3A%20true%2C%20%22color%22%3A%20%22%2380ffb4%22%2C%20%22dashArray%22%3A%20null%2C%20%22dashOffset%22%3A%20null%2C%20%22fill%22%3A%20true%2C%20%22fillColor%22%3A%20%22%2380ffb4%22%2C%20%22fillOpacity%22%3A%200.7%2C%20%22fillRule%22%3A%20%22evenodd%22%2C%20%22lineCap%22%3A%20%22round%22%2C%20%22lineJoin%22%3A%20%22round%22%2C%20%22opacity%22%3A%201.0%2C%20%22radius%22%3A%205%2C%20%22stroke%22%3A%20true%2C%20%22weight%22%3A%203%7D%0A%20%20%20%20%20%20%20%20%20%20%20%20%29.addTo%28map_5e2663d527464a99a52d4e0687d63b63%29%3B%0A%20%20%20%20%20%20%20%20%0A%20%20%20%20%0A%20%20%20%20%20%20%20%20var%20popup_7ca92e4c4b9646a287bdb295920a6c5a%20%3D%20L.popup%28%7B%22maxWidth%22%3A%20%22100%25%22%7D%29%3B%0A%0A%20%20%20%20%20%20%20%20%0A%20%20%20%20%20%20%20%20%20%20%20%20var%20html_036a4b9acf244eb78bf48a630e233349%20%3D%20%24%28%60%3Cdiv%20id%3D%22html_036a4b9acf244eb78bf48a630e233349%22%20style%3D%22width%3A%20100.0%25%3B%20height%3A%20100.0%25%3B%22%3EHotel%20Scarlet%20Cluster%203%3C/div%3E%60%29%5B0%5D%3B%0A%20%20%20%20%20%20%20%20%20%20%20%20popup_7ca92e4c4b9646a287bdb295920a6c5a.setContent%28html_036a4b9acf244eb78bf48a630e233349%29%3B%0A%20%20%20%20%20%20%20%20%0A%0A%20%20%20%20%20%20%20%20circle_marker_d2a104df57b44d4597663cf673eb6ae6.bindPopup%28popup_7ca92e4c4b9646a287bdb295920a6c5a%29%0A%20%20%20%20%20%20%20%20%3B%0A%0A%20%20%20%20%20%20%20%20%0A%20%20%20%20%0A%20%20%20%20%0A%20%20%20%20%20%20%20%20%20%20%20%20var%20circle_marker_22a1d508ecf94f33ae892eff6334ed3a%20%3D%20L.circleMarker%28%0A%20%20%20%20%20%20%20%20%20%20%20%20%20%20%20%20%5B-6.885058%2C%20107.619329%5D%2C%0A%20%20%20%20%20%20%20%20%20%20%20%20%20%20%20%20%7B%22bubblingMouseEvents%22%3A%20true%2C%20%22color%22%3A%20%22%2300b5eb%22%2C%20%22dashArray%22%3A%20null%2C%20%22dashOffset%22%3A%20null%2C%20%22fill%22%3A%20true%2C%20%22fillColor%22%3A%20%22%2300b5eb%22%2C%20%22fillOpacity%22%3A%200.7%2C%20%22fillRule%22%3A%20%22evenodd%22%2C%20%22lineCap%22%3A%20%22round%22%2C%20%22lineJoin%22%3A%20%22round%22%2C%20%22opacity%22%3A%201.0%2C%20%22radius%22%3A%205%2C%20%22stroke%22%3A%20true%2C%20%22weight%22%3A%203%7D%0A%20%20%20%20%20%20%20%20%20%20%20%20%29.addTo%28map_5e2663d527464a99a52d4e0687d63b63%29%3B%0A%20%20%20%20%20%20%20%20%0A%20%20%20%20%0A%20%20%20%20%20%20%20%20var%20popup_7f4d4fb39f444439ac681146d71aaabc%20%3D%20L.popup%28%7B%22maxWidth%22%3A%20%22100%25%22%7D%29%3B%0A%0A%20%20%20%20%20%20%20%20%0A%20%20%20%20%20%20%20%20%20%20%20%20var%20html_f02a147533c1460790db2b90f3094bc8%20%3D%20%24%28%60%3Cdiv%20id%3D%22html_f02a147533c1460790db2b90f3094bc8%22%20style%3D%22width%3A%20100.0%25%3B%20height%3A%20100.0%25%3B%22%3EHotel%20Lotus%20Cluster%202%3C/div%3E%60%29%5B0%5D%3B%0A%20%20%20%20%20%20%20%20%20%20%20%20popup_7f4d4fb39f444439ac681146d71aaabc.setContent%28html_f02a147533c1460790db2b90f3094bc8%29%3B%0A%20%20%20%20%20%20%20%20%0A%0A%20%20%20%20%20%20%20%20circle_marker_22a1d508ecf94f33ae892eff6334ed3a.bindPopup%28popup_7f4d4fb39f444439ac681146d71aaabc%29%0A%20%20%20%20%20%20%20%20%3B%0A%0A%20%20%20%20%20%20%20%20%0A%20%20%20%20%0A%20%20%20%20%0A%20%20%20%20%20%20%20%20%20%20%20%20var%20circle_marker_1b486bb0d5a849b98087ed300dbacbd3%20%3D%20L.circleMarker%28%0A%20%20%20%20%20%20%20%20%20%20%20%20%20%20%20%20%5B-6.8880473%2C%20107.6169548%5D%2C%0A%20%20%20%20%20%20%20%20%20%20%20%20%20%20%20%20%7B%22bubblingMouseEvents%22%3A%20true%2C%20%22color%22%3A%20%22%23ff0000%22%2C%20%22dashArray%22%3A%20null%2C%20%22dashOffset%22%3A%20null%2C%20%22fill%22%3A%20true%2C%20%22fillColor%22%3A%20%22%23ff0000%22%2C%20%22fillOpacity%22%3A%200.7%2C%20%22fillRule%22%3A%20%22evenodd%22%2C%20%22lineCap%22%3A%20%22round%22%2C%20%22lineJoin%22%3A%20%22round%22%2C%20%22opacity%22%3A%201.0%2C%20%22radius%22%3A%205%2C%20%22stroke%22%3A%20true%2C%20%22weight%22%3A%203%7D%0A%20%20%20%20%20%20%20%20%20%20%20%20%29.addTo%28map_5e2663d527464a99a52d4e0687d63b63%29%3B%0A%20%20%20%20%20%20%20%20%0A%20%20%20%20%0A%20%20%20%20%20%20%20%20var%20popup_4ea90f93ee304d55a928ad75ada816f3%20%3D%20L.popup%28%7B%22maxWidth%22%3A%20%22100%25%22%7D%29%3B%0A%0A%20%20%20%20%20%20%20%20%0A%20%20%20%20%20%20%20%20%20%20%20%20var%20html_3a1086833bd04374a219d531a73f4392%20%3D%20%24%28%60%3Cdiv%20id%3D%22html_3a1086833bd04374a219d531a73f4392%22%20style%3D%22width%3A%20100.0%25%3B%20height%3A%20100.0%25%3B%22%3EGrand%20Kopo%20Hotel%20Cluster%200%3C/div%3E%60%29%5B0%5D%3B%0A%20%20%20%20%20%20%20%20%20%20%20%20popup_4ea90f93ee304d55a928ad75ada816f3.setContent%28html_3a1086833bd04374a219d531a73f4392%29%3B%0A%20%20%20%20%20%20%20%20%0A%0A%20%20%20%20%20%20%20%20circle_marker_1b486bb0d5a849b98087ed300dbacbd3.bindPopup%28popup_4ea90f93ee304d55a928ad75ada816f3%29%0A%20%20%20%20%20%20%20%20%3B%0A%0A%20%20%20%20%20%20%20%20%0A%20%20%20%20%0A%20%20%20%20%0A%20%20%20%20%20%20%20%20%20%20%20%20var%20circle_marker_ddd481328c1947fb891e18ff4b9fe269%20%3D%20L.circleMarker%28%0A%20%20%20%20%20%20%20%20%20%20%20%20%20%20%20%20%5B-6.890862359357411%2C%20107.61667394055286%5D%2C%0A%20%20%20%20%20%20%20%20%20%20%20%20%20%20%20%20%7B%22bubblingMouseEvents%22%3A%20true%2C%20%22color%22%3A%20%22%238000ff%22%2C%20%22dashArray%22%3A%20null%2C%20%22dashOffset%22%3A%20null%2C%20%22fill%22%3A%20true%2C%20%22fillColor%22%3A%20%22%238000ff%22%2C%20%22fillOpacity%22%3A%200.7%2C%20%22fillRule%22%3A%20%22evenodd%22%2C%20%22lineCap%22%3A%20%22round%22%2C%20%22lineJoin%22%3A%20%22round%22%2C%20%22opacity%22%3A%201.0%2C%20%22radius%22%3A%205%2C%20%22stroke%22%3A%20true%2C%20%22weight%22%3A%203%7D%0A%20%20%20%20%20%20%20%20%20%20%20%20%29.addTo%28map_5e2663d527464a99a52d4e0687d63b63%29%3B%0A%20%20%20%20%20%20%20%20%0A%20%20%20%20%0A%20%20%20%20%20%20%20%20var%20popup_56c226134b9049d396f40e682e65b614%20%3D%20L.popup%28%7B%22maxWidth%22%3A%20%22100%25%22%7D%29%3B%0A%0A%20%20%20%20%20%20%20%20%0A%20%20%20%20%20%20%20%20%20%20%20%20var%20html_8dacd92127ea4f2dbf3da569a61ca56f%20%3D%20%24%28%60%3Cdiv%20id%3D%22html_8dacd92127ea4f2dbf3da569a61ca56f%22%20style%3D%22width%3A%20100.0%25%3B%20height%3A%20100.0%25%3B%22%3EHotel%20Puri%20Gardenia%20Cluster%201%3C/div%3E%60%29%5B0%5D%3B%0A%20%20%20%20%20%20%20%20%20%20%20%20popup_56c226134b9049d396f40e682e65b614.setContent%28html_8dacd92127ea4f2dbf3da569a61ca56f%29%3B%0A%20%20%20%20%20%20%20%20%0A%0A%20%20%20%20%20%20%20%20circle_marker_ddd481328c1947fb891e18ff4b9fe269.bindPopup%28popup_56c226134b9049d396f40e682e65b614%29%0A%20%20%20%20%20%20%20%20%3B%0A%0A%20%20%20%20%20%20%20%20%0A%20%20%20%20%0A%20%20%20%20%0A%20%20%20%20%20%20%20%20%20%20%20%20var%20circle_marker_6a14c4d9265b489a8c9fc378db8657d3%20%3D%20L.circleMarker%28%0A%20%20%20%20%20%20%20%20%20%20%20%20%20%20%20%20%5B-6.8830523%2C%20107.6182874%5D%2C%0A%20%20%20%20%20%20%20%20%20%20%20%20%20%20%20%20%7B%22bubblingMouseEvents%22%3A%20true%2C%20%22color%22%3A%20%22%2300b5eb%22%2C%20%22dashArray%22%3A%20null%2C%20%22dashOffset%22%3A%20null%2C%20%22fill%22%3A%20true%2C%20%22fillColor%22%3A%20%22%2300b5eb%22%2C%20%22fillOpacity%22%3A%200.7%2C%20%22fillRule%22%3A%20%22evenodd%22%2C%20%22lineCap%22%3A%20%22round%22%2C%20%22lineJoin%22%3A%20%22round%22%2C%20%22opacity%22%3A%201.0%2C%20%22radius%22%3A%205%2C%20%22stroke%22%3A%20true%2C%20%22weight%22%3A%203%7D%0A%20%20%20%20%20%20%20%20%20%20%20%20%29.addTo%28map_5e2663d527464a99a52d4e0687d63b63%29%3B%0A%20%20%20%20%20%20%20%20%0A%20%20%20%20%0A%20%20%20%20%20%20%20%20var%20popup_61443a08fdde4de2914c72b7d61e8cfa%20%3D%20L.popup%28%7B%22maxWidth%22%3A%20%22100%25%22%7D%29%3B%0A%0A%20%20%20%20%20%20%20%20%0A%20%20%20%20%20%20%20%20%20%20%20%20var%20html_a9fe5f18ad344bc894e2317978383a5f%20%3D%20%24%28%60%3Cdiv%20id%3D%22html_a9fe5f18ad344bc894e2317978383a5f%22%20style%3D%22width%3A%20100.0%25%3B%20height%3A%20100.0%25%3B%22%3EHotel%20Alila%20Villas%20Soori%2C%20Tabanan%20%2CBali%20Cluster%202%3C/div%3E%60%29%5B0%5D%3B%0A%20%20%20%20%20%20%20%20%20%20%20%20popup_61443a08fdde4de2914c72b7d61e8cfa.setContent%28html_a9fe5f18ad344bc894e2317978383a5f%29%3B%0A%20%20%20%20%20%20%20%20%0A%0A%20%20%20%20%20%20%20%20circle_marker_6a14c4d9265b489a8c9fc378db8657d3.bindPopup%28popup_61443a08fdde4de2914c72b7d61e8cfa%29%0A%20%20%20%20%20%20%20%20%3B%0A%0A%20%20%20%20%20%20%20%20%0A%20%20%20%20%0A%3C/script%3E onload=\"this.contentDocument.open();this.contentDocument.write(    decodeURIComponent(this.getAttribute('data-html')));this.contentDocument.close();\" allowfullscreen webkitallowfullscreen mozallowfullscreen></iframe></div></div>"
                    },
                    "metadata": {}
                }
            ]
        },
        {
            "metadata": {},
            "cell_type": "code",
            "source": "hotels_merged.Cluster.value_counts()",
            "execution_count": 84,
            "outputs": [
                {
                    "output_type": "execute_result",
                    "execution_count": 84,
                    "data": {
                        "text/plain": "3    11\n0     6\n1     4\n2     3\n4     1\nName: Cluster, dtype: int64"
                    },
                    "metadata": {}
                }
            ]
        },
        {
            "metadata": {},
            "cell_type": "markdown",
            "source": "#### Recommended Hotel"
        },
        {
            "metadata": {},
            "cell_type": "code",
            "source": "# cluster 0\nhotels_merged[hotels_merged['Cluster'] == 0]",
            "execution_count": 85,
            "outputs": [
                {
                    "output_type": "execute_result",
                    "execution_count": 85,
                    "data": {
                        "text/plain": "                                           Hotel Name  Hotel Latitude  \\\n6                                    Hotel Patra Jasa       -6.889111   \n7                                        Hotel Akasia       -6.886620   \n14                                       Crowne Hotel       -6.888255   \n15                    Grand Ball Room Panghegar Hotel       -6.887248   \n16  Fitness Center Galeri Ciumbuleuit Hotel & Apar...       -6.888450   \n22                                   Grand Kopo Hotel       -6.888047   \n\n    Hotel Longitude 1st Most Common Venue 2nd Most Common Venue  \\\n6        107.614090           Coffee Shop                  Caf\u00e9   \n7        107.617260                  Caf\u00e9           Coffee Shop   \n14       107.615798                  Caf\u00e9           Coffee Shop   \n15       107.616684                  Caf\u00e9           Coffee Shop   \n16       107.616193                  Caf\u00e9           Coffee Shop   \n22       107.616955                  Caf\u00e9           Coffee Shop   \n\n    3rd Most Common Venue  4th Most Common Venue  5th Most Common Venue  \\\n6            Noodle House           Cocktail Bar  Indonesian Restaurant   \n7   Indonesian Restaurant           Noodle House   Fast Food Restaurant   \n14           Noodle House      Convenience Store  Indonesian Restaurant   \n15           Noodle House   Fast Food Restaurant      Convenience Store   \n16      Convenience Store  Indonesian Restaurant           Cocktail Bar   \n22  Indonesian Restaurant       Asian Restaurant      Convenience Store   \n\n   6th Most Common Venue  7th Most Common Venue 8th Most Common Venue  \\\n6                 Bakery                 Lounge  Fast Food Restaurant   \n7         Ice Cream Shop           Dessert Shop     Convenience Store   \n14          Cocktail Bar           Dessert Shop          Burger Joint   \n15      Asian Restaurant  Indonesian Restaurant          Cocktail Bar   \n16          Dessert Shop           Noodle House          Burger Joint   \n22          Dessert Shop           Noodle House            Food Truck   \n\n   9th Most Common Venue 10th Most Common Venue  Cluster  \n6    Sporting Goods Shop                 Arcade        0  \n7       Asian Restaurant                 Lounge        0  \n14        Ice Cream Shop                 Lounge        0  \n15          Dessert Shop   Sundanese Restaurant        0  \n16            Food Court                 Lounge        0  \n22                Lounge           Burger Joint        0  ",
                        "text/html": "<div>\n<style scoped>\n    .dataframe tbody tr th:only-of-type {\n        vertical-align: middle;\n    }\n\n    .dataframe tbody tr th {\n        vertical-align: top;\n    }\n\n    .dataframe thead th {\n        text-align: right;\n    }\n</style>\n<table border=\"1\" class=\"dataframe\">\n  <thead>\n    <tr style=\"text-align: right;\">\n      <th></th>\n      <th>Hotel Name</th>\n      <th>Hotel Latitude</th>\n      <th>Hotel Longitude</th>\n      <th>1st Most Common Venue</th>\n      <th>2nd Most Common Venue</th>\n      <th>3rd Most Common Venue</th>\n      <th>4th Most Common Venue</th>\n      <th>5th Most Common Venue</th>\n      <th>6th Most Common Venue</th>\n      <th>7th Most Common Venue</th>\n      <th>8th Most Common Venue</th>\n      <th>9th Most Common Venue</th>\n      <th>10th Most Common Venue</th>\n      <th>Cluster</th>\n    </tr>\n  </thead>\n  <tbody>\n    <tr>\n      <th>6</th>\n      <td>Hotel Patra Jasa</td>\n      <td>-6.889111</td>\n      <td>107.614090</td>\n      <td>Coffee Shop</td>\n      <td>Caf\u00e9</td>\n      <td>Noodle House</td>\n      <td>Cocktail Bar</td>\n      <td>Indonesian Restaurant</td>\n      <td>Bakery</td>\n      <td>Lounge</td>\n      <td>Fast Food Restaurant</td>\n      <td>Sporting Goods Shop</td>\n      <td>Arcade</td>\n      <td>0</td>\n    </tr>\n    <tr>\n      <th>7</th>\n      <td>Hotel Akasia</td>\n      <td>-6.886620</td>\n      <td>107.617260</td>\n      <td>Caf\u00e9</td>\n      <td>Coffee Shop</td>\n      <td>Indonesian Restaurant</td>\n      <td>Noodle House</td>\n      <td>Fast Food Restaurant</td>\n      <td>Ice Cream Shop</td>\n      <td>Dessert Shop</td>\n      <td>Convenience Store</td>\n      <td>Asian Restaurant</td>\n      <td>Lounge</td>\n      <td>0</td>\n    </tr>\n    <tr>\n      <th>14</th>\n      <td>Crowne Hotel</td>\n      <td>-6.888255</td>\n      <td>107.615798</td>\n      <td>Caf\u00e9</td>\n      <td>Coffee Shop</td>\n      <td>Noodle House</td>\n      <td>Convenience Store</td>\n      <td>Indonesian Restaurant</td>\n      <td>Cocktail Bar</td>\n      <td>Dessert Shop</td>\n      <td>Burger Joint</td>\n      <td>Ice Cream Shop</td>\n      <td>Lounge</td>\n      <td>0</td>\n    </tr>\n    <tr>\n      <th>15</th>\n      <td>Grand Ball Room Panghegar Hotel</td>\n      <td>-6.887248</td>\n      <td>107.616684</td>\n      <td>Caf\u00e9</td>\n      <td>Coffee Shop</td>\n      <td>Noodle House</td>\n      <td>Fast Food Restaurant</td>\n      <td>Convenience Store</td>\n      <td>Asian Restaurant</td>\n      <td>Indonesian Restaurant</td>\n      <td>Cocktail Bar</td>\n      <td>Dessert Shop</td>\n      <td>Sundanese Restaurant</td>\n      <td>0</td>\n    </tr>\n    <tr>\n      <th>16</th>\n      <td>Fitness Center Galeri Ciumbuleuit Hotel &amp; Apar...</td>\n      <td>-6.888450</td>\n      <td>107.616193</td>\n      <td>Caf\u00e9</td>\n      <td>Coffee Shop</td>\n      <td>Convenience Store</td>\n      <td>Indonesian Restaurant</td>\n      <td>Cocktail Bar</td>\n      <td>Dessert Shop</td>\n      <td>Noodle House</td>\n      <td>Burger Joint</td>\n      <td>Food Court</td>\n      <td>Lounge</td>\n      <td>0</td>\n    </tr>\n    <tr>\n      <th>22</th>\n      <td>Grand Kopo Hotel</td>\n      <td>-6.888047</td>\n      <td>107.616955</td>\n      <td>Caf\u00e9</td>\n      <td>Coffee Shop</td>\n      <td>Indonesian Restaurant</td>\n      <td>Asian Restaurant</td>\n      <td>Convenience Store</td>\n      <td>Dessert Shop</td>\n      <td>Noodle House</td>\n      <td>Food Truck</td>\n      <td>Lounge</td>\n      <td>Burger Joint</td>\n      <td>0</td>\n    </tr>\n  </tbody>\n</table>\n</div>"
                    },
                    "metadata": {}
                }
            ]
        },
        {
            "metadata": {},
            "cell_type": "code",
            "source": "# cluster 1\nhotels_merged[hotels_merged['Cluster'] == 1]",
            "execution_count": 86,
            "outputs": [
                {
                    "output_type": "execute_result",
                    "execution_count": 86,
                    "data": {
                        "text/plain": "               Hotel Name  Hotel Latitude  Hotel Longitude  \\\n0    Hotel Neo Dipatiukur       -6.889919       107.616451   \n3   Geulis Boutique Hotel       -6.891400       107.612839   \n18   Hotel Arimbi Stasion       -6.890589       107.616992   \n23    Hotel Puri Gardenia       -6.890862       107.616674   \n\n   1st Most Common Venue  2nd Most Common Venue 3rd Most Common Venue  \\\n0                   Caf\u00e9            Coffee Shop          Dessert Shop   \n3                   Caf\u00e9  Indonesian Restaurant                Arcade   \n18           Coffee Shop  Indonesian Restaurant                  Caf\u00e9   \n23           Coffee Shop                 Arcade                  Caf\u00e9   \n\n   4th Most Common Venue 5th Most Common Venue 6th Most Common Venue  \\\n0                 Arcade          Noodle House        Breakfast Spot   \n3            Coffee Shop            Shoe Store          Noodle House   \n18                Arcade      Asian Restaurant          Noodle House   \n23          Noodle House        Breakfast Spot        Ice Cream Shop   \n\n    7th Most Common Venue 8th Most Common Venue 9th Most Common Venue  \\\n0   Indonesian Restaurant                Lounge      Toy / Game Store   \n3        Toy / Game Store            Kids Store                Lounge   \n18         Breakfast Spot            Kids Store          Dessert Shop   \n23  Indonesian Restaurant            Kids Store          Dessert Shop   \n\n   10th Most Common Venue  Cluster  \n0                  Bakery        1  \n3          Ice Cream Shop        1  \n18       Toy / Game Store        1  \n23       Toy / Game Store        1  ",
                        "text/html": "<div>\n<style scoped>\n    .dataframe tbody tr th:only-of-type {\n        vertical-align: middle;\n    }\n\n    .dataframe tbody tr th {\n        vertical-align: top;\n    }\n\n    .dataframe thead th {\n        text-align: right;\n    }\n</style>\n<table border=\"1\" class=\"dataframe\">\n  <thead>\n    <tr style=\"text-align: right;\">\n      <th></th>\n      <th>Hotel Name</th>\n      <th>Hotel Latitude</th>\n      <th>Hotel Longitude</th>\n      <th>1st Most Common Venue</th>\n      <th>2nd Most Common Venue</th>\n      <th>3rd Most Common Venue</th>\n      <th>4th Most Common Venue</th>\n      <th>5th Most Common Venue</th>\n      <th>6th Most Common Venue</th>\n      <th>7th Most Common Venue</th>\n      <th>8th Most Common Venue</th>\n      <th>9th Most Common Venue</th>\n      <th>10th Most Common Venue</th>\n      <th>Cluster</th>\n    </tr>\n  </thead>\n  <tbody>\n    <tr>\n      <th>0</th>\n      <td>Hotel Neo Dipatiukur</td>\n      <td>-6.889919</td>\n      <td>107.616451</td>\n      <td>Caf\u00e9</td>\n      <td>Coffee Shop</td>\n      <td>Dessert Shop</td>\n      <td>Arcade</td>\n      <td>Noodle House</td>\n      <td>Breakfast Spot</td>\n      <td>Indonesian Restaurant</td>\n      <td>Lounge</td>\n      <td>Toy / Game Store</td>\n      <td>Bakery</td>\n      <td>1</td>\n    </tr>\n    <tr>\n      <th>3</th>\n      <td>Geulis Boutique Hotel</td>\n      <td>-6.891400</td>\n      <td>107.612839</td>\n      <td>Caf\u00e9</td>\n      <td>Indonesian Restaurant</td>\n      <td>Arcade</td>\n      <td>Coffee Shop</td>\n      <td>Shoe Store</td>\n      <td>Noodle House</td>\n      <td>Toy / Game Store</td>\n      <td>Kids Store</td>\n      <td>Lounge</td>\n      <td>Ice Cream Shop</td>\n      <td>1</td>\n    </tr>\n    <tr>\n      <th>18</th>\n      <td>Hotel Arimbi Stasion</td>\n      <td>-6.890589</td>\n      <td>107.616992</td>\n      <td>Coffee Shop</td>\n      <td>Indonesian Restaurant</td>\n      <td>Caf\u00e9</td>\n      <td>Arcade</td>\n      <td>Asian Restaurant</td>\n      <td>Noodle House</td>\n      <td>Breakfast Spot</td>\n      <td>Kids Store</td>\n      <td>Dessert Shop</td>\n      <td>Toy / Game Store</td>\n      <td>1</td>\n    </tr>\n    <tr>\n      <th>23</th>\n      <td>Hotel Puri Gardenia</td>\n      <td>-6.890862</td>\n      <td>107.616674</td>\n      <td>Coffee Shop</td>\n      <td>Arcade</td>\n      <td>Caf\u00e9</td>\n      <td>Noodle House</td>\n      <td>Breakfast Spot</td>\n      <td>Ice Cream Shop</td>\n      <td>Indonesian Restaurant</td>\n      <td>Kids Store</td>\n      <td>Dessert Shop</td>\n      <td>Toy / Game Store</td>\n      <td>1</td>\n    </tr>\n  </tbody>\n</table>\n</div>"
                    },
                    "metadata": {}
                }
            ]
        },
        {
            "metadata": {},
            "cell_type": "code",
            "source": "# cluster 2\nhotels_merged[hotels_merged['Cluster'] == 2]",
            "execution_count": 87,
            "outputs": [
                {
                    "output_type": "execute_result",
                    "execution_count": 87,
                    "data": {
                        "text/plain": "                                 Hotel Name  Hotel Latitude  Hotel Longitude  \\\n9                               Hotel Efita       -6.886307       107.617765   \n21                              Hotel Lotus       -6.885058       107.619329   \n24  Hotel Alila Villas Soori, Tabanan ,Bali       -6.883052       107.618287   \n\n   1st Most Common Venue 2nd Most Common Venue  3rd Most Common Venue  \\\n9       Asian Restaurant                  Caf\u00e9  Indonesian Restaurant   \n21     Convenience Store      Asian Restaurant            Coffee Shop   \n24     Convenience Store        Ice Cream Shop       Asian Restaurant   \n\n   4th Most Common Venue  5th Most Common Venue 6th Most Common Venue  \\\n9            Coffee Shop      Convenience Store          Dessert Shop   \n21          Dessert Shop  Indonesian Restaurant            Food Truck   \n24          Dessert Shop   Sundanese Restaurant           Coffee Shop   \n\n    7th Most Common Venue 8th Most Common Venue 9th Most Common Venue  \\\n9    Fast Food Restaurant          Noodle House        Ice Cream Shop   \n21              Juice Bar                Bistro          Burger Joint   \n24  Indonesian Restaurant    Chinese Restaurant                  Caf\u00e9   \n\n   10th Most Common Venue  Cluster  \n9              Food Truck        2  \n21                   Caf\u00e9        2  \n24           Burger Joint        2  ",
                        "text/html": "<div>\n<style scoped>\n    .dataframe tbody tr th:only-of-type {\n        vertical-align: middle;\n    }\n\n    .dataframe tbody tr th {\n        vertical-align: top;\n    }\n\n    .dataframe thead th {\n        text-align: right;\n    }\n</style>\n<table border=\"1\" class=\"dataframe\">\n  <thead>\n    <tr style=\"text-align: right;\">\n      <th></th>\n      <th>Hotel Name</th>\n      <th>Hotel Latitude</th>\n      <th>Hotel Longitude</th>\n      <th>1st Most Common Venue</th>\n      <th>2nd Most Common Venue</th>\n      <th>3rd Most Common Venue</th>\n      <th>4th Most Common Venue</th>\n      <th>5th Most Common Venue</th>\n      <th>6th Most Common Venue</th>\n      <th>7th Most Common Venue</th>\n      <th>8th Most Common Venue</th>\n      <th>9th Most Common Venue</th>\n      <th>10th Most Common Venue</th>\n      <th>Cluster</th>\n    </tr>\n  </thead>\n  <tbody>\n    <tr>\n      <th>9</th>\n      <td>Hotel Efita</td>\n      <td>-6.886307</td>\n      <td>107.617765</td>\n      <td>Asian Restaurant</td>\n      <td>Caf\u00e9</td>\n      <td>Indonesian Restaurant</td>\n      <td>Coffee Shop</td>\n      <td>Convenience Store</td>\n      <td>Dessert Shop</td>\n      <td>Fast Food Restaurant</td>\n      <td>Noodle House</td>\n      <td>Ice Cream Shop</td>\n      <td>Food Truck</td>\n      <td>2</td>\n    </tr>\n    <tr>\n      <th>21</th>\n      <td>Hotel Lotus</td>\n      <td>-6.885058</td>\n      <td>107.619329</td>\n      <td>Convenience Store</td>\n      <td>Asian Restaurant</td>\n      <td>Coffee Shop</td>\n      <td>Dessert Shop</td>\n      <td>Indonesian Restaurant</td>\n      <td>Food Truck</td>\n      <td>Juice Bar</td>\n      <td>Bistro</td>\n      <td>Burger Joint</td>\n      <td>Caf\u00e9</td>\n      <td>2</td>\n    </tr>\n    <tr>\n      <th>24</th>\n      <td>Hotel Alila Villas Soori, Tabanan ,Bali</td>\n      <td>-6.883052</td>\n      <td>107.618287</td>\n      <td>Convenience Store</td>\n      <td>Ice Cream Shop</td>\n      <td>Asian Restaurant</td>\n      <td>Dessert Shop</td>\n      <td>Sundanese Restaurant</td>\n      <td>Coffee Shop</td>\n      <td>Indonesian Restaurant</td>\n      <td>Chinese Restaurant</td>\n      <td>Caf\u00e9</td>\n      <td>Burger Joint</td>\n      <td>2</td>\n    </tr>\n  </tbody>\n</table>\n</div>"
                    },
                    "metadata": {}
                }
            ]
        },
        {
            "metadata": {},
            "cell_type": "code",
            "source": "# cluster 3\nhotels_merged[hotels_merged['Cluster'] == 3]",
            "execution_count": 88,
            "outputs": [
                {
                    "output_type": "execute_result",
                    "execution_count": 88,
                    "data": {
                        "text/plain": "                     Hotel Name  Hotel Latitude  Hotel Longitude  \\\n1                  Royal  Hotel       -6.886584       107.613328   \n2           Hotel Puspa Kencana       -6.884576       107.612229   \n4                Hotel Sheraton       -6.885765       107.614036   \n5                  Hotel Royale       -6.884864       107.614899   \n8           Hotel Safari Garden       -6.887974       107.612964   \n10             Hotel Shangri-La       -6.884710       107.613377   \n11             Prime Park Hotel       -6.887748       107.613901   \n12  Proyek Hotel Lor In Lembang       -6.885684       107.614102   \n13                 Wirton Hotel       -6.886820       107.613599   \n19            Sheo Resort Hotel       -6.885247       107.613813   \n20                Hotel Scarlet       -6.884836       107.611258   \n\n   1st Most Common Venue  2nd Most Common Venue 3rd Most Common Venue  \\\n1                   Caf\u00e9  Indonesian Restaurant           Coffee Shop   \n2                   Caf\u00e9            Coffee Shop          Cocktail Bar   \n4                   Caf\u00e9   Fast Food Restaurant           Coffee Shop   \n5                   Caf\u00e9           Cocktail Bar           Coffee Shop   \n8                   Caf\u00e9   Fast Food Restaurant           Coffee Shop   \n10                  Caf\u00e9            Coffee Shop          Cocktail Bar   \n11                  Caf\u00e9   Fast Food Restaurant           Coffee Shop   \n12                  Caf\u00e9   Fast Food Restaurant           Coffee Shop   \n13                  Caf\u00e9       Asian Restaurant           Coffee Shop   \n19                  Caf\u00e9            Coffee Shop          Cocktail Bar   \n20                  Caf\u00e9           Cocktail Bar    College Auditorium   \n\n    4th Most Common Venue  5th Most Common Venue  6th Most Common Venue  \\\n1                  Arcade       Asian Restaurant                 Lounge   \n2          Ice Cream Shop  Indonesian Restaurant                 Lounge   \n4            Cocktail Bar       Asian Restaurant         Ice Cream Shop   \n5          Ice Cream Shop  Indonesian Restaurant       Asian Restaurant   \n8   Indonesian Restaurant           Cocktail Bar                 Bridge   \n10       Asian Restaurant         Ice Cream Shop  Indonesian Restaurant   \n11  Indonesian Restaurant           Cocktail Bar                 Bridge   \n12           Cocktail Bar       Asian Restaurant         Ice Cream Shop   \n13  Indonesian Restaurant           Cocktail Bar   Fast Food Restaurant   \n19       Asian Restaurant         Ice Cream Shop  Indonesian Restaurant   \n20                 Lounge        College Stadium    Fried Chicken Joint   \n\n    7th Most Common Venue  8th Most Common Venue 9th Most Common Venue  \\\n1            Cocktail Bar      Convenience Store                Bridge   \n2                  Bridge           Noodle House  Fast Food Restaurant   \n4   Indonesian Restaurant                 Bridge          Noodle House   \n5            Burger Joint                 Lounge     Convenience Store   \n8         College Stadium            Gas Station        Ice Cream Shop   \n10                 Lounge                 Bridge          Noodle House   \n11        College Stadium            Gas Station        Ice Cream Shop   \n12  Indonesian Restaurant                 Bridge          Noodle House   \n13                 Arcade         Ice Cream Shop     Convenience Store   \n19                 Lounge                 Bridge          Noodle House   \n20         Ice Cream Shop  Indonesian Restaurant           College Gym   \n\n   10th Most Common Venue  Cluster  \n1            Noodle House        3  \n2             College Gym        3  \n4                  Lounge        3  \n5            Noodle House        3  \n8                  Lounge        3  \n10   Fast Food Restaurant        3  \n11                 Lounge        3  \n12                 Lounge        3  \n13                   Park        3  \n19   Fast Food Restaurant        3  \n20           Noodle House        3  ",
                        "text/html": "<div>\n<style scoped>\n    .dataframe tbody tr th:only-of-type {\n        vertical-align: middle;\n    }\n\n    .dataframe tbody tr th {\n        vertical-align: top;\n    }\n\n    .dataframe thead th {\n        text-align: right;\n    }\n</style>\n<table border=\"1\" class=\"dataframe\">\n  <thead>\n    <tr style=\"text-align: right;\">\n      <th></th>\n      <th>Hotel Name</th>\n      <th>Hotel Latitude</th>\n      <th>Hotel Longitude</th>\n      <th>1st Most Common Venue</th>\n      <th>2nd Most Common Venue</th>\n      <th>3rd Most Common Venue</th>\n      <th>4th Most Common Venue</th>\n      <th>5th Most Common Venue</th>\n      <th>6th Most Common Venue</th>\n      <th>7th Most Common Venue</th>\n      <th>8th Most Common Venue</th>\n      <th>9th Most Common Venue</th>\n      <th>10th Most Common Venue</th>\n      <th>Cluster</th>\n    </tr>\n  </thead>\n  <tbody>\n    <tr>\n      <th>1</th>\n      <td>Royal  Hotel</td>\n      <td>-6.886584</td>\n      <td>107.613328</td>\n      <td>Caf\u00e9</td>\n      <td>Indonesian Restaurant</td>\n      <td>Coffee Shop</td>\n      <td>Arcade</td>\n      <td>Asian Restaurant</td>\n      <td>Lounge</td>\n      <td>Cocktail Bar</td>\n      <td>Convenience Store</td>\n      <td>Bridge</td>\n      <td>Noodle House</td>\n      <td>3</td>\n    </tr>\n    <tr>\n      <th>2</th>\n      <td>Hotel Puspa Kencana</td>\n      <td>-6.884576</td>\n      <td>107.612229</td>\n      <td>Caf\u00e9</td>\n      <td>Coffee Shop</td>\n      <td>Cocktail Bar</td>\n      <td>Ice Cream Shop</td>\n      <td>Indonesian Restaurant</td>\n      <td>Lounge</td>\n      <td>Bridge</td>\n      <td>Noodle House</td>\n      <td>Fast Food Restaurant</td>\n      <td>College Gym</td>\n      <td>3</td>\n    </tr>\n    <tr>\n      <th>4</th>\n      <td>Hotel Sheraton</td>\n      <td>-6.885765</td>\n      <td>107.614036</td>\n      <td>Caf\u00e9</td>\n      <td>Fast Food Restaurant</td>\n      <td>Coffee Shop</td>\n      <td>Cocktail Bar</td>\n      <td>Asian Restaurant</td>\n      <td>Ice Cream Shop</td>\n      <td>Indonesian Restaurant</td>\n      <td>Bridge</td>\n      <td>Noodle House</td>\n      <td>Lounge</td>\n      <td>3</td>\n    </tr>\n    <tr>\n      <th>5</th>\n      <td>Hotel Royale</td>\n      <td>-6.884864</td>\n      <td>107.614899</td>\n      <td>Caf\u00e9</td>\n      <td>Cocktail Bar</td>\n      <td>Coffee Shop</td>\n      <td>Ice Cream Shop</td>\n      <td>Indonesian Restaurant</td>\n      <td>Asian Restaurant</td>\n      <td>Burger Joint</td>\n      <td>Lounge</td>\n      <td>Convenience Store</td>\n      <td>Noodle House</td>\n      <td>3</td>\n    </tr>\n    <tr>\n      <th>8</th>\n      <td>Hotel Safari Garden</td>\n      <td>-6.887974</td>\n      <td>107.612964</td>\n      <td>Caf\u00e9</td>\n      <td>Fast Food Restaurant</td>\n      <td>Coffee Shop</td>\n      <td>Indonesian Restaurant</td>\n      <td>Cocktail Bar</td>\n      <td>Bridge</td>\n      <td>College Stadium</td>\n      <td>Gas Station</td>\n      <td>Ice Cream Shop</td>\n      <td>Lounge</td>\n      <td>3</td>\n    </tr>\n    <tr>\n      <th>10</th>\n      <td>Hotel Shangri-La</td>\n      <td>-6.884710</td>\n      <td>107.613377</td>\n      <td>Caf\u00e9</td>\n      <td>Coffee Shop</td>\n      <td>Cocktail Bar</td>\n      <td>Asian Restaurant</td>\n      <td>Ice Cream Shop</td>\n      <td>Indonesian Restaurant</td>\n      <td>Lounge</td>\n      <td>Bridge</td>\n      <td>Noodle House</td>\n      <td>Fast Food Restaurant</td>\n      <td>3</td>\n    </tr>\n    <tr>\n      <th>11</th>\n      <td>Prime Park Hotel</td>\n      <td>-6.887748</td>\n      <td>107.613901</td>\n      <td>Caf\u00e9</td>\n      <td>Fast Food Restaurant</td>\n      <td>Coffee Shop</td>\n      <td>Indonesian Restaurant</td>\n      <td>Cocktail Bar</td>\n      <td>Bridge</td>\n      <td>College Stadium</td>\n      <td>Gas Station</td>\n      <td>Ice Cream Shop</td>\n      <td>Lounge</td>\n      <td>3</td>\n    </tr>\n    <tr>\n      <th>12</th>\n      <td>Proyek Hotel Lor In Lembang</td>\n      <td>-6.885684</td>\n      <td>107.614102</td>\n      <td>Caf\u00e9</td>\n      <td>Fast Food Restaurant</td>\n      <td>Coffee Shop</td>\n      <td>Cocktail Bar</td>\n      <td>Asian Restaurant</td>\n      <td>Ice Cream Shop</td>\n      <td>Indonesian Restaurant</td>\n      <td>Bridge</td>\n      <td>Noodle House</td>\n      <td>Lounge</td>\n      <td>3</td>\n    </tr>\n    <tr>\n      <th>13</th>\n      <td>Wirton Hotel</td>\n      <td>-6.886820</td>\n      <td>107.613599</td>\n      <td>Caf\u00e9</td>\n      <td>Asian Restaurant</td>\n      <td>Coffee Shop</td>\n      <td>Indonesian Restaurant</td>\n      <td>Cocktail Bar</td>\n      <td>Fast Food Restaurant</td>\n      <td>Arcade</td>\n      <td>Ice Cream Shop</td>\n      <td>Convenience Store</td>\n      <td>Park</td>\n      <td>3</td>\n    </tr>\n    <tr>\n      <th>19</th>\n      <td>Sheo Resort Hotel</td>\n      <td>-6.885247</td>\n      <td>107.613813</td>\n      <td>Caf\u00e9</td>\n      <td>Coffee Shop</td>\n      <td>Cocktail Bar</td>\n      <td>Asian Restaurant</td>\n      <td>Ice Cream Shop</td>\n      <td>Indonesian Restaurant</td>\n      <td>Lounge</td>\n      <td>Bridge</td>\n      <td>Noodle House</td>\n      <td>Fast Food Restaurant</td>\n      <td>3</td>\n    </tr>\n    <tr>\n      <th>20</th>\n      <td>Hotel Scarlet</td>\n      <td>-6.884836</td>\n      <td>107.611258</td>\n      <td>Caf\u00e9</td>\n      <td>Cocktail Bar</td>\n      <td>College Auditorium</td>\n      <td>Lounge</td>\n      <td>College Stadium</td>\n      <td>Fried Chicken Joint</td>\n      <td>Ice Cream Shop</td>\n      <td>Indonesian Restaurant</td>\n      <td>College Gym</td>\n      <td>Noodle House</td>\n      <td>3</td>\n    </tr>\n  </tbody>\n</table>\n</div>"
                    },
                    "metadata": {}
                }
            ]
        },
        {
            "metadata": {},
            "cell_type": "code",
            "source": "# cluster 4\nhotels_merged[hotels_merged['Cluster'] == 4]",
            "execution_count": 89,
            "outputs": [
                {
                    "output_type": "execute_result",
                    "execution_count": 89,
                    "data": {
                        "text/plain": "         Hotel Name  Hotel Latitude  Hotel Longitude 1st Most Common Venue  \\\n17  Hotel Cemerlang       -6.888986       107.618706      Asian Restaurant   \n\n   2nd Most Common Venue 3rd Most Common Venue 4th Most Common Venue  \\\n17           Coffee Shop          Noodle House     Convenience Store   \n\n    5th Most Common Venue 6th Most Common Venue 7th Most Common Venue  \\\n17  Indonesian Restaurant                  Caf\u00e9          Burger Joint   \n\n   8th Most Common Venue 9th Most Common Venue 10th Most Common Venue  Cluster  \n17          Dessert Shop            Food Truck         Breakfast Spot        4  ",
                        "text/html": "<div>\n<style scoped>\n    .dataframe tbody tr th:only-of-type {\n        vertical-align: middle;\n    }\n\n    .dataframe tbody tr th {\n        vertical-align: top;\n    }\n\n    .dataframe thead th {\n        text-align: right;\n    }\n</style>\n<table border=\"1\" class=\"dataframe\">\n  <thead>\n    <tr style=\"text-align: right;\">\n      <th></th>\n      <th>Hotel Name</th>\n      <th>Hotel Latitude</th>\n      <th>Hotel Longitude</th>\n      <th>1st Most Common Venue</th>\n      <th>2nd Most Common Venue</th>\n      <th>3rd Most Common Venue</th>\n      <th>4th Most Common Venue</th>\n      <th>5th Most Common Venue</th>\n      <th>6th Most Common Venue</th>\n      <th>7th Most Common Venue</th>\n      <th>8th Most Common Venue</th>\n      <th>9th Most Common Venue</th>\n      <th>10th Most Common Venue</th>\n      <th>Cluster</th>\n    </tr>\n  </thead>\n  <tbody>\n    <tr>\n      <th>17</th>\n      <td>Hotel Cemerlang</td>\n      <td>-6.888986</td>\n      <td>107.618706</td>\n      <td>Asian Restaurant</td>\n      <td>Coffee Shop</td>\n      <td>Noodle House</td>\n      <td>Convenience Store</td>\n      <td>Indonesian Restaurant</td>\n      <td>Caf\u00e9</td>\n      <td>Burger Joint</td>\n      <td>Dessert Shop</td>\n      <td>Food Truck</td>\n      <td>Breakfast Spot</td>\n      <td>4</td>\n    </tr>\n  </tbody>\n</table>\n</div>"
                    },
                    "metadata": {}
                }
            ]
        }
    ],
    "metadata": {
        "kernelspec": {
            "name": "python3",
            "display_name": "Python 3.7",
            "language": "python"
        },
        "language_info": {
            "name": "python",
            "version": "3.7.10",
            "mimetype": "text/x-python",
            "codemirror_mode": {
                "name": "ipython",
                "version": 3
            },
            "pygments_lexer": "ipython3",
            "nbconvert_exporter": "python",
            "file_extension": ".py"
        }
    },
    "nbformat": 4,
    "nbformat_minor": 1
}