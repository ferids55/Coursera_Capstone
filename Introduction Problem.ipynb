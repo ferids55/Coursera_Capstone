{
    "cells": [
        {
            "metadata": {
                "collapsed": true
            },
            "cell_type": "markdown",
            "source": "# Introduction Problem"
        },
        {
            "metadata": {},
            "cell_type": "markdown",
            "source": "Graduation is the dream of all parents to their children who have completed their studies. Sometimes many parents come all the way to attend the graduation process of their child. Usually those from out of town will stay at the closest hotel to the university before coming to the graduation ceremony so as not to be late and save time. Interesting places around the hotel can also attract people to stay. To determine the right hotel, we can use the clustering technique to divide the nearest hotel group into several segments or groups.\n\nThe data used is the hotel data closest to the Indonesian Computer University and the places around the hotel which were taken using the FourSquare API. Furthermore, they will be grouped into several segments using the K-means algorithm to determine the right hotel choice."
        }
    ],
    "metadata": {
        "kernelspec": {
            "name": "python3",
            "display_name": "Python 3.7",
            "language": "python"
        },
        "language_info": {
            "name": "python",
            "version": "3.7.10",
            "mimetype": "text/x-python",
            "codemirror_mode": {
                "name": "ipython",
                "version": 3
            },
            "pygments_lexer": "ipython3",
            "nbconvert_exporter": "python",
            "file_extension": ".py"
        }
    },
    "nbformat": 4,
    "nbformat_minor": 1
}