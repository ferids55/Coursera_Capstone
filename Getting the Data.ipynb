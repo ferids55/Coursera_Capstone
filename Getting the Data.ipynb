{
    "cells": [
        {
            "cell_type": "markdown",
            "metadata": {},
            "source": "# Scraping Data Using Foursquare API"
        },
        {
            "cell_type": "markdown",
            "metadata": {},
            "source": "### Import Necessary Library"
        },
        {
            "cell_type": "code",
            "execution_count": 1,
            "metadata": {},
            "outputs": [],
            "source": "# load necessary library\nimport requests\nimport pandas as pd\npd.set_option('display.max_columns', None)\npd.set_option('display.max_rows', None)\n\nimport json\nfrom geopy.geocoders import Nominatim"
        },
        {
            "cell_type": "markdown",
            "metadata": {},
            "source": "### Get access to Foursquare API"
        },
        {
            "cell_type": "code",
            "execution_count": null,
            "metadata": {},
            "outputs": [],
            "source": "CLIENT_ID = 'XXXXXXXXXXXXXXXXXXXXXXXXXXXXXXXXXXXXXXXXXXX' # your Foursquare ID\nCLIENT_SECRET = 'XXXXXXXXXXXXXXXXXXXXXXXXXXXXXXXXXXXXXXXXXXX' # your Foursquare Secret\nACCESS_TOKEN = 'XXXXXXXXXXXXXXXXXXXXXXXXXXXXXXXXXXXXXXXXXXX' # your Foursquare access token\nVERSION = '20210101' # Foursquare API version\nLIMIT = 50 # A default Foursquare API limit value\n\nprint('Your credentails:')\nprint('CLIENT_ID: ' + CLIENT_ID)\nprint('CLIENT_SECRET:' + CLIENT_SECRET)"
        },
        {
            "cell_type": "markdown",
            "metadata": {},
            "source": "### Define Location"
        },
        {
            "cell_type": "code",
            "execution_count": 3,
            "metadata": {},
            "outputs": [
                {
                    "name": "stdout",
                    "output_type": "stream",
                    "text": "-6.8868408 107.6151136\n"
                }
            ],
            "source": "# I'm choosing Universitas Komputer Indonesia\naddress = 'Universitas Komputer Indonesia, Jawa Barat, Indonesia'\n\ngeolocator = Nominatim(user_agent=\"foursquare_agent\")\nlocation = geolocator.geocode(address)\nlatitude = location.latitude\nlongitude = location.longitude\n\n# print coordinate location\nprint(latitude, longitude)"
        },
        {
            "cell_type": "markdown",
            "metadata": {},
            "source": "### Search Hotel around with radius 500 meters"
        },
        {
            "cell_type": "code",
            "execution_count": 5,
            "metadata": {},
            "outputs": [
                {
                    "data": {
                        "text/html": "<div>\n<style scoped>\n    .dataframe tbody tr th:only-of-type {\n        vertical-align: middle;\n    }\n\n    .dataframe tbody tr th {\n        vertical-align: top;\n    }\n\n    .dataframe thead th {\n        text-align: right;\n    }\n</style>\n<table border=\"1\" class=\"dataframe\">\n  <thead>\n    <tr style=\"text-align: right;\">\n      <th></th>\n      <th>id</th>\n      <th>name</th>\n      <th>address</th>\n      <th>lat</th>\n      <th>lng</th>\n    </tr>\n  </thead>\n  <tbody>\n    <tr>\n      <th>0</th>\n      <td>4c72303f9e706dcbf3374a62</td>\n      <td>Hotel Neo Dipatiukur</td>\n      <td>Jl. Dipatiukur No. 72-74</td>\n      <td>-6.889919</td>\n      <td>107.616451</td>\n    </tr>\n    <tr>\n      <th>1</th>\n      <td>4bb73d162f70c9b68e668630</td>\n      <td>Scarlet Dago Hotel</td>\n      <td>Jalan Siliwangi No. 5</td>\n      <td>-6.885105</td>\n      <td>107.612117</td>\n    </tr>\n    <tr>\n      <th>2</th>\n      <td>4be81e5dd837c9b6efe4a406</td>\n      <td>Royal Dago Hotel</td>\n      <td>Jl. Ir. H. Djuanda No. 156-169</td>\n      <td>-6.886584</td>\n      <td>107.613328</td>\n    </tr>\n    <tr>\n      <th>3</th>\n      <td>515e6be5e4b0c134437ee63a</td>\n      <td>Patra Jasa Hotel</td>\n      <td>Jl. Ir. H. Juanda No.132</td>\n      <td>-6.889154</td>\n      <td>107.614085</td>\n    </tr>\n    <tr>\n      <th>4</th>\n      <td>4dfef268483b8f033b425a03</td>\n      <td>Hotel Puspa Kencana</td>\n      <td>Jl. Siliwangi no. 10</td>\n      <td>-6.884576</td>\n      <td>107.612229</td>\n    </tr>\n  </tbody>\n</table>\n</div>",
                        "text/plain": "                         id                  name  \\\n0  4c72303f9e706dcbf3374a62  Hotel Neo Dipatiukur   \n1  4bb73d162f70c9b68e668630    Scarlet Dago Hotel   \n2  4be81e5dd837c9b6efe4a406      Royal Dago Hotel   \n3  515e6be5e4b0c134437ee63a      Patra Jasa Hotel   \n4  4dfef268483b8f033b425a03   Hotel Puspa Kencana   \n\n                          address       lat         lng  \n0        Jl. Dipatiukur No. 72-74 -6.889919  107.616451  \n1           Jalan Siliwangi No. 5 -6.885105  107.612117  \n2  Jl. Ir. H. Djuanda No. 156-169 -6.886584  107.613328  \n3        Jl. Ir. H. Juanda No.132 -6.889154  107.614085  \n4            Jl. Siliwangi no. 10 -6.884576  107.612229  "
                    },
                    "execution_count": 5,
                    "metadata": {},
                    "output_type": "execute_result"
                }
            ],
            "source": "# define parameters\nsearch_key = 'hotel'\nradius = 500\n\n# define url\nurl_key = 'https://api.foursquare.com/v2/venues/search?client_id={}&client_secret={}&ll={},{}&oauth_token={}&v={}&query={}&radius={}&limit={}'.format(\n    CLIENT_ID, CLIENT_SECRET, latitude, longitude,\n    ACCESS_TOKEN, VERSION, search_key, radius, LIMIT)\n\n# get results based url_key\nresults = requests.get(url_key).json()\n\n# assign relevant part of JSON to hotels\nhotels = results['response']['venues']\n\n# tranform venues into a dataframe\ndf_hotel = pd.json_normalize(hotels)\n\n# keep only columns that include venue name, and anything that is associated with location\nfiltered_columns = ['id','name'] + [col for col in df_hotel.columns if col.startswith('location.')]\nhotel_filtered = df_hotel.loc[:, filtered_columns]\n\n# clean column names by keeping only last term\nhotel_filtered.columns = [column.split('.')[-1] for column in hotel_filtered.columns]\ndf_hotel_filtered = hotel_filtered[['id', 'name', 'address', 'lat', 'lng']]\n\ndf_hotel_filtered.head()"
        },
        {
            "cell_type": "markdown",
            "metadata": {},
            "source": "### Add places near the hotel"
        },
        {
            "cell_type": "code",
            "execution_count": 6,
            "metadata": {},
            "outputs": [],
            "source": "def get_nearby_hotels(latitudes, longitudes, radius=500):\n    url_nearby = 'https://api.foursquare.com/v2/venues/explore?client_id={}&client_secret={}&ll={},{}&v={}&radius={}&limit=30'.format(\n        CLIENT_ID, CLIENT_SECRET, latitudes, longitudes, VERSION, radius)\n    \n    res_nearby = requests.get(url_nearby).json()[\"response\"]['groups'][0]['items']\n\n    # return only relevant information for each nearby venue\n    df_nearby = pd.DataFrame([(v['venue']['name'], \n                               v['venue']['location']['lat'],\n                               v['venue']['location']['lng'],\n                               v['venue']['categories'][0]['name']) for v in res_nearby])\n    df_nearby.columns = ['Venue Name', 'Venue Latitude', 'Venua Longitude', 'Venue Category']\n\n    return df_nearby"
        },
        {
            "cell_type": "code",
            "execution_count": 7,
            "metadata": {},
            "outputs": [
                {
                    "data": {
                        "text/html": "<div>\n<style scoped>\n    .dataframe tbody tr th:only-of-type {\n        vertical-align: middle;\n    }\n\n    .dataframe tbody tr th {\n        vertical-align: top;\n    }\n\n    .dataframe thead th {\n        text-align: right;\n    }\n</style>\n<table border=\"1\" class=\"dataframe\">\n  <thead>\n    <tr style=\"text-align: right;\">\n      <th></th>\n      <th>Venue Name</th>\n      <th>Venue Latitude</th>\n      <th>Venua Longitude</th>\n      <th>Venue Category</th>\n      <th>Hotel Name</th>\n      <th>Hotel Latitude</th>\n      <th>Hotel Longitude</th>\n    </tr>\n  </thead>\n  <tbody>\n    <tr>\n      <th>0</th>\n      <td>Koffie Opa</td>\n      <td>-6.891955</td>\n      <td>107.616803</td>\n      <td>Coffee Shop</td>\n      <td>Hotel Neo Dipatiukur</td>\n      <td>-6.889919</td>\n      <td>107.616451</td>\n    </tr>\n    <tr>\n      <th>1</th>\n      <td>Mie Merapi</td>\n      <td>-6.891459</td>\n      <td>107.616998</td>\n      <td>Noodle House</td>\n      <td>Hotel Neo Dipatiukur</td>\n      <td>-6.889919</td>\n      <td>107.616451</td>\n    </tr>\n    <tr>\n      <th>2</th>\n      <td>Bebeke Om Aris</td>\n      <td>-6.892662</td>\n      <td>107.617820</td>\n      <td>Asian Restaurant</td>\n      <td>Hotel Neo Dipatiukur</td>\n      <td>-6.889919</td>\n      <td>107.616451</td>\n    </tr>\n    <tr>\n      <th>3</th>\n      <td>Caff\u00e9tto - Affection By Coffee</td>\n      <td>-6.888999</td>\n      <td>107.618090</td>\n      <td>Coffee Shop</td>\n      <td>Hotel Neo Dipatiukur</td>\n      <td>-6.889919</td>\n      <td>107.616451</td>\n    </tr>\n    <tr>\n      <th>4</th>\n      <td>DU 71a</td>\n      <td>-6.889382</td>\n      <td>107.615431</td>\n      <td>Caf\u00e9</td>\n      <td>Hotel Neo Dipatiukur</td>\n      <td>-6.889919</td>\n      <td>107.616451</td>\n    </tr>\n  </tbody>\n</table>\n</div>",
                        "text/plain": "                       Venue Name  Venue Latitude  Venua Longitude  \\\n0                      Koffie Opa       -6.891955       107.616803   \n1                      Mie Merapi       -6.891459       107.616998   \n2                  Bebeke Om Aris       -6.892662       107.617820   \n3  Caff\u00e9tto - Affection By Coffee       -6.888999       107.618090   \n4                          DU 71a       -6.889382       107.615431   \n\n     Venue Category            Hotel Name  Hotel Latitude  Hotel Longitude  \n0       Coffee Shop  Hotel Neo Dipatiukur       -6.889919       107.616451  \n1      Noodle House  Hotel Neo Dipatiukur       -6.889919       107.616451  \n2  Asian Restaurant  Hotel Neo Dipatiukur       -6.889919       107.616451  \n3       Coffee Shop  Hotel Neo Dipatiukur       -6.889919       107.616451  \n4              Caf\u00e9  Hotel Neo Dipatiukur       -6.889919       107.616451  "
                    },
                    "execution_count": 7,
                    "metadata": {},
                    "output_type": "execute_result"
                }
            ],
            "source": "list_nearby = []\nfor hotel, lat, lng, in zip(df_hotel_filtered.name, df_hotel_filtered.lat, df_hotel_filtered.lng):\n    nearby_hotels = get_nearby_hotels(lat, lng)\n    nearby_hotels['Hotel Name'] = hotel\n    nearby_hotels['Hotel Latitude'] = lat\n    nearby_hotels['Hotel Longitude'] = lng\n    list_nearby.append(nearby_hotels)\n       \ndf_nearby_hotels = pd.concat(list_nearby)\ndf_nearby_hotels = df_nearby_hotels[df_nearby_hotels['Venue Category'] != 'Hotel'].reset_index(drop=True)\ndf_nearby_hotels.head()"
        }
    ],
    "metadata": {
        "kernelspec": {
            "display_name": "Python 3.7",
            "language": "python",
            "name": "python3"
        },
        "language_info": {
            "codemirror_mode": {
                "name": "ipython",
                "version": 3
            },
            "file_extension": ".py",
            "mimetype": "text/x-python",
            "name": "python",
            "nbconvert_exporter": "python",
            "pygments_lexer": "ipython3",
            "version": "3.7.10"
        }
    },
    "nbformat": 4,
    "nbformat_minor": 1
}